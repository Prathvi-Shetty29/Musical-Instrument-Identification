{
  "nbformat": 4,
  "nbformat_minor": 0,
  "metadata": {
    "colab": {
      "provenance": []
    },
    "kernelspec": {
      "name": "python3",
      "display_name": "Python 3"
    },
    "language_info": {
      "name": "python"
    }
  },
  "cells": [
    {
      "cell_type": "markdown",
      "source": [
        "# Label_Prepocessing"
      ],
      "metadata": {
        "id": "wI2BxgAT1R8W"
      }
    },
    {
      "cell_type": "code",
      "source": [
        "from google.colab import drive\n",
        "drive.mount('/content/drive')"
      ],
      "metadata": {
        "colab": {
          "base_uri": "https://localhost:8080/"
        },
        "id": "ti99IKvmPdYU",
        "outputId": "37cab46d-fd44-4928-e605-1ba7e96f525e"
      },
      "execution_count": null,
      "outputs": [
        {
          "output_type": "stream",
          "name": "stdout",
          "text": [
            "Mounted at /content/drive\n"
          ]
        }
      ]
    },
    {
      "cell_type": "code",
      "execution_count": null,
      "metadata": {
        "id": "mOZX8v_AuESV"
      },
      "outputs": [],
      "source": [
        "import numpy as np\n",
        "import librosa, librosa.display\n",
        "import matplotlib.pyplot as plt\n",
        "from tqdm import tqdm\n",
        "import pandas as pd\n",
        "import os\n",
        "import IPython\n",
        "import glob\n",
        "from sklearn import preprocessing\n",
        "from sklearn.preprocessing import LabelEncoder, OneHotEncoder\n",
        "from sklearn.metrics import accuracy_score\n",
        "\n",
        "\n",
        "from sklearn.model_selection import train_test_split\n",
        "import keras\n",
        "import tensorflow as tf\n",
        "from tensorflow.keras.models import Model\n",
        "from sklearn.metrics import precision_score, recall_score, f1_score\n",
        "\n",
        "from tensorflow.keras.models import Sequential\n",
        "from tensorflow.keras.layers import LSTM, Dense\n",
        "from keras.layers import Embedding"
      ]
    },
    {
      "cell_type": "code",
      "source": [
        "mfcc_csv=pd.read_csv(\"/content/drive/MyDrive/mini project/MFCC2.csv\")"
      ],
      "metadata": {
        "id": "SfrQVMRp0GID"
      },
      "execution_count": null,
      "outputs": []
    },
    {
      "cell_type": "code",
      "source": [
        "label_list=mfcc_csv[\"label_list\"]"
      ],
      "metadata": {
        "id": "qKdPN1E50C6j"
      },
      "execution_count": null,
      "outputs": []
    },
    {
      "cell_type": "code",
      "source": [
        "label_encoder = LabelEncoder()\n",
        "label_encoded = label_encoder.fit_transform(label_list)\n",
        "print(label_encoded)"
      ],
      "metadata": {
        "colab": {
          "base_uri": "https://localhost:8080/"
        },
        "id": "98o2iBLFuhFs",
        "outputId": "5023ba49-8d7c-41e5-d95d-abc9feaabfdb"
      },
      "execution_count": null,
      "outputs": [
        {
          "output_type": "stream",
          "name": "stdout",
          "text": [
            "[12 12 12 ...  0  0  0]\n"
          ]
        }
      ]
    },
    {
      "cell_type": "code",
      "source": [
        "label_encoded = label_encoded[:, np.newaxis]\n"
      ],
      "metadata": {
        "id": "Xbbs3dn31Bvb"
      },
      "execution_count": null,
      "outputs": []
    },
    {
      "cell_type": "code",
      "source": [
        "one_hot_encoder = OneHotEncoder(sparse=False)\n",
        "one_hot_encoded = one_hot_encoder.fit_transform(label_encoded)\n",
        "one_hot_encoded"
      ],
      "metadata": {
        "colab": {
          "base_uri": "https://localhost:8080/"
        },
        "id": "nqVYv2dP1FmU",
        "outputId": "59f6639f-3690-4956-9856-e0c9ca5c7446"
      },
      "execution_count": null,
      "outputs": [
        {
          "output_type": "stream",
          "name": "stderr",
          "text": [
            "/usr/local/lib/python3.10/dist-packages/sklearn/preprocessing/_encoders.py:868: FutureWarning: `sparse` was renamed to `sparse_output` in version 1.2 and will be removed in 1.4. `sparse_output` is ignored unless you leave `sparse` to its default value.\n",
            "  warnings.warn(\n"
          ]
        },
        {
          "output_type": "execute_result",
          "data": {
            "text/plain": [
              "array([[0., 0., 0., ..., 0., 1., 0.],\n",
              "       [0., 0., 0., ..., 0., 1., 0.],\n",
              "       [0., 0., 0., ..., 0., 1., 0.],\n",
              "       ...,\n",
              "       [1., 0., 0., ..., 0., 0., 0.],\n",
              "       [1., 0., 0., ..., 0., 0., 0.],\n",
              "       [1., 0., 0., ..., 0., 0., 0.]])"
            ]
          },
          "metadata": {},
          "execution_count": 7
        }
      ]
    },
    {
      "cell_type": "code",
      "source": [
        "import numpy as np\n",
        "from sklearn.preprocessing import LabelEncoder, OneHotEncoder\n",
        "\n",
        "# Load the CSV file and extract the label_list\n",
        "mfcc_csv = pd.read_csv(\"/content/drive/MyDrive/mini project/MFCC2.csv\")\n",
        "label_list = mfcc_csv[\"label_list\"]\n",
        "\n",
        "# Encode the labels using LabelEncoder\n",
        "label_encoder = LabelEncoder()\n",
        "label_encoded = label_encoder.fit_transform(label_list)\n",
        "label_encoded = label_encoded[:, np.newaxis]\n",
        "\n",
        "# One-hot encode the labels using OneHotEncoder\n",
        "one_hot_encoder = OneHotEncoder(sparse=False)\n",
        "one_hot_encoded = one_hot_encoder.fit_transform(label_encoded)\n",
        "\n",
        "# Save the label_encoder and one_hot_encoder objects\n",
        "np.save('/content/drive/MyDrive/label_encoder_classes2.npy', label_encoder.classes_)\n",
        "np.save('/content/drive/MyDrive/one_hot_encoder_matrix2.npy', one_hot_encoder.get_feature_names_out(['label_encoded']))\n",
        "\n",
        "print(\"Label encoder classes and one-hot encoder matrix saved successfully.\")"
      ],
      "metadata": {
        "colab": {
          "base_uri": "https://localhost:8080/"
        },
        "id": "6dBmcvGiB9ua",
        "outputId": "042ed9d8-e621-4e5c-a4b5-ead32f0a4956"
      },
      "execution_count": null,
      "outputs": [
        {
          "output_type": "stream",
          "name": "stderr",
          "text": [
            "/usr/local/lib/python3.10/dist-packages/sklearn/preprocessing/_encoders.py:868: FutureWarning: `sparse` was renamed to `sparse_output` in version 1.2 and will be removed in 1.4. `sparse_output` is ignored unless you leave `sparse` to its default value.\n",
            "  warnings.warn(\n"
          ]
        },
        {
          "output_type": "stream",
          "name": "stdout",
          "text": [
            "Label encoder classes and one-hot encoder matrix saved successfully.\n"
          ]
        }
      ]
    },
    {
      "cell_type": "markdown",
      "source": [
        "# Model building"
      ],
      "metadata": {
        "id": "4dpIKuDP1hRk"
      }
    },
    {
      "cell_type": "code",
      "source": [
        "from sklearn.model_selection import train_test_split\n",
        "from sklearn.metrics import confusion_matrix\n",
        "from keras.layers import Conv2D, MaxPool2D, Flatten, Dense, Dropout\n",
        "from keras.models import Sequential"
      ],
      "metadata": {
        "id": "2lptXqgk1kNZ"
      },
      "execution_count": null,
      "outputs": []
    },
    {
      "cell_type": "code",
      "source": [
        "import pandas as pd\n",
        "df=pd.read_csv(\"/content/drive/MyDrive/mini project/MFCC2.csv\")"
      ],
      "metadata": {
        "id": "R5K_uVfN1mOS"
      },
      "execution_count": null,
      "outputs": []
    },
    {
      "cell_type": "code",
      "source": [
        "label_list=df[\"label_list\"]"
      ],
      "metadata": {
        "id": "4nMWSdupAXTj"
      },
      "execution_count": null,
      "outputs": []
    },
    {
      "cell_type": "code",
      "source": [
        "label_encoder = LabelEncoder()\n",
        "label_encoded = label_encoder.fit_transform(label_list)\n",
        "print(label_encoded)"
      ],
      "metadata": {
        "colab": {
          "base_uri": "https://localhost:8080/"
        },
        "id": "Yh3Oad3KAaMl",
        "outputId": "0956a86f-132e-4157-8bfc-4f7a500bf6df"
      },
      "execution_count": null,
      "outputs": [
        {
          "output_type": "stream",
          "name": "stdout",
          "text": [
            "[12 12 12 ...  0  0  0]\n"
          ]
        }
      ]
    },
    {
      "cell_type": "code",
      "source": [
        "label_encoded = label_encoded[:, np.newaxis]\n"
      ],
      "metadata": {
        "id": "5kCAjYw_An0w"
      },
      "execution_count": null,
      "outputs": []
    },
    {
      "cell_type": "code",
      "source": [
        "one_hot_encoder = OneHotEncoder(sparse=False)\n",
        "one_hot_encoded = one_hot_encoder.fit_transform(label_encoded)\n",
        "one_hot_encoded"
      ],
      "metadata": {
        "colab": {
          "base_uri": "https://localhost:8080/"
        },
        "id": "Nc9eCGVAAshd",
        "outputId": "561a03d1-1e90-40b8-e412-55b18f4085c9"
      },
      "execution_count": null,
      "outputs": [
        {
          "output_type": "stream",
          "name": "stderr",
          "text": [
            "/usr/local/lib/python3.10/dist-packages/sklearn/preprocessing/_encoders.py:868: FutureWarning: `sparse` was renamed to `sparse_output` in version 1.2 and will be removed in 1.4. `sparse_output` is ignored unless you leave `sparse` to its default value.\n",
            "  warnings.warn(\n"
          ]
        },
        {
          "output_type": "execute_result",
          "data": {
            "text/plain": [
              "array([[0., 0., 0., ..., 0., 1., 0.],\n",
              "       [0., 0., 0., ..., 0., 1., 0.],\n",
              "       [0., 0., 0., ..., 0., 1., 0.],\n",
              "       ...,\n",
              "       [1., 0., 0., ..., 0., 0., 0.],\n",
              "       [1., 0., 0., ..., 0., 0., 0.],\n",
              "       [1., 0., 0., ..., 0., 0., 0.]])"
            ]
          },
          "metadata": {},
          "execution_count": 14
        }
      ]
    },
    {
      "cell_type": "code",
      "source": [
        "X = df.drop(['label_list'], axis=1)"
      ],
      "metadata": {
        "id": "Q5arFPxlAvIM"
      },
      "execution_count": null,
      "outputs": []
    },
    {
      "cell_type": "code",
      "source": [
        "X"
      ],
      "metadata": {
        "colab": {
          "base_uri": "https://localhost:8080/",
          "height": 423
        },
        "id": "ibGwhZKUAxRm",
        "outputId": "1249e097-4cbb-4fb3-cb3a-79342b557dee"
      },
      "execution_count": null,
      "outputs": [
        {
          "output_type": "execute_result",
          "data": {
            "text/plain": [
              "              0           1          2          3          4          5  \\\n",
              "0    -659.21630   18.278786 -12.107536  44.013153 -13.154768   5.019222   \n",
              "1    -533.87380   33.250694 -24.455145  43.151917 -25.093418 -10.435495   \n",
              "2    -468.43643   11.820848 -19.447367  33.744300 -24.006926 -10.317425   \n",
              "3    -594.96625   10.194246  -8.782218  40.609173 -10.718865   0.291726   \n",
              "4    -635.07110   58.709858 -32.574550  46.426970 -21.101156   1.964660   \n",
              "...         ...         ...        ...        ...        ...        ...   \n",
              "2908 -853.85474   30.689743  24.807337  27.891415  24.391132   1.348291   \n",
              "2909 -515.60620  117.292404 -28.858470  -0.166154 -22.809288  10.571767   \n",
              "2910 -483.52502  122.156690 -39.812244  -3.797422  -9.360095  -2.103504   \n",
              "2911 -838.04193   21.284880  18.860140  30.818695  22.122593   1.856854   \n",
              "2912 -555.97780   84.719690 -35.458614  17.262340   1.335765  18.982141   \n",
              "\n",
              "              6          7          8          9         10         11  \n",
              "0     -5.396541  -3.083084  -9.133388  -5.569468 -11.617992  11.489901  \n",
              "1    -19.112411 -15.169186  -7.704080  -8.938352  -1.819665  16.766113  \n",
              "2    -12.795439 -13.549147 -10.402909 -10.476334  -5.665104  14.598053  \n",
              "3     -3.624802  -6.048359  -7.304923  -6.239582  -8.779635  13.586450  \n",
              "4    -16.300379  -8.601916   4.498190  -1.829921  -6.888492   6.807146  \n",
              "...         ...        ...        ...        ...        ...        ...  \n",
              "2908  10.089901  27.455496   7.106500   0.076568  20.415947  12.648972  \n",
              "2909  -7.357612   1.925440   9.165670   4.499895  -5.087014   7.028556  \n",
              "2910   1.424180  -3.274032  -0.363364  17.463123  -7.233619   0.365348  \n",
              "2911  12.400106  22.434920   5.217744  -1.222926  18.654396  13.201369  \n",
              "2912   4.952482  -4.093780  -2.035099   6.635277  -6.533991  12.069011  \n",
              "\n",
              "[2913 rows x 12 columns]"
            ],
            "text/html": [
              "\n",
              "  <div id=\"df-2fa3e63c-c31d-435d-9513-64fa13d8b5dd\" class=\"colab-df-container\">\n",
              "    <div>\n",
              "<style scoped>\n",
              "    .dataframe tbody tr th:only-of-type {\n",
              "        vertical-align: middle;\n",
              "    }\n",
              "\n",
              "    .dataframe tbody tr th {\n",
              "        vertical-align: top;\n",
              "    }\n",
              "\n",
              "    .dataframe thead th {\n",
              "        text-align: right;\n",
              "    }\n",
              "</style>\n",
              "<table border=\"1\" class=\"dataframe\">\n",
              "  <thead>\n",
              "    <tr style=\"text-align: right;\">\n",
              "      <th></th>\n",
              "      <th>0</th>\n",
              "      <th>1</th>\n",
              "      <th>2</th>\n",
              "      <th>3</th>\n",
              "      <th>4</th>\n",
              "      <th>5</th>\n",
              "      <th>6</th>\n",
              "      <th>7</th>\n",
              "      <th>8</th>\n",
              "      <th>9</th>\n",
              "      <th>10</th>\n",
              "      <th>11</th>\n",
              "    </tr>\n",
              "  </thead>\n",
              "  <tbody>\n",
              "    <tr>\n",
              "      <th>0</th>\n",
              "      <td>-659.21630</td>\n",
              "      <td>18.278786</td>\n",
              "      <td>-12.107536</td>\n",
              "      <td>44.013153</td>\n",
              "      <td>-13.154768</td>\n",
              "      <td>5.019222</td>\n",
              "      <td>-5.396541</td>\n",
              "      <td>-3.083084</td>\n",
              "      <td>-9.133388</td>\n",
              "      <td>-5.569468</td>\n",
              "      <td>-11.617992</td>\n",
              "      <td>11.489901</td>\n",
              "    </tr>\n",
              "    <tr>\n",
              "      <th>1</th>\n",
              "      <td>-533.87380</td>\n",
              "      <td>33.250694</td>\n",
              "      <td>-24.455145</td>\n",
              "      <td>43.151917</td>\n",
              "      <td>-25.093418</td>\n",
              "      <td>-10.435495</td>\n",
              "      <td>-19.112411</td>\n",
              "      <td>-15.169186</td>\n",
              "      <td>-7.704080</td>\n",
              "      <td>-8.938352</td>\n",
              "      <td>-1.819665</td>\n",
              "      <td>16.766113</td>\n",
              "    </tr>\n",
              "    <tr>\n",
              "      <th>2</th>\n",
              "      <td>-468.43643</td>\n",
              "      <td>11.820848</td>\n",
              "      <td>-19.447367</td>\n",
              "      <td>33.744300</td>\n",
              "      <td>-24.006926</td>\n",
              "      <td>-10.317425</td>\n",
              "      <td>-12.795439</td>\n",
              "      <td>-13.549147</td>\n",
              "      <td>-10.402909</td>\n",
              "      <td>-10.476334</td>\n",
              "      <td>-5.665104</td>\n",
              "      <td>14.598053</td>\n",
              "    </tr>\n",
              "    <tr>\n",
              "      <th>3</th>\n",
              "      <td>-594.96625</td>\n",
              "      <td>10.194246</td>\n",
              "      <td>-8.782218</td>\n",
              "      <td>40.609173</td>\n",
              "      <td>-10.718865</td>\n",
              "      <td>0.291726</td>\n",
              "      <td>-3.624802</td>\n",
              "      <td>-6.048359</td>\n",
              "      <td>-7.304923</td>\n",
              "      <td>-6.239582</td>\n",
              "      <td>-8.779635</td>\n",
              "      <td>13.586450</td>\n",
              "    </tr>\n",
              "    <tr>\n",
              "      <th>4</th>\n",
              "      <td>-635.07110</td>\n",
              "      <td>58.709858</td>\n",
              "      <td>-32.574550</td>\n",
              "      <td>46.426970</td>\n",
              "      <td>-21.101156</td>\n",
              "      <td>1.964660</td>\n",
              "      <td>-16.300379</td>\n",
              "      <td>-8.601916</td>\n",
              "      <td>4.498190</td>\n",
              "      <td>-1.829921</td>\n",
              "      <td>-6.888492</td>\n",
              "      <td>6.807146</td>\n",
              "    </tr>\n",
              "    <tr>\n",
              "      <th>...</th>\n",
              "      <td>...</td>\n",
              "      <td>...</td>\n",
              "      <td>...</td>\n",
              "      <td>...</td>\n",
              "      <td>...</td>\n",
              "      <td>...</td>\n",
              "      <td>...</td>\n",
              "      <td>...</td>\n",
              "      <td>...</td>\n",
              "      <td>...</td>\n",
              "      <td>...</td>\n",
              "      <td>...</td>\n",
              "    </tr>\n",
              "    <tr>\n",
              "      <th>2908</th>\n",
              "      <td>-853.85474</td>\n",
              "      <td>30.689743</td>\n",
              "      <td>24.807337</td>\n",
              "      <td>27.891415</td>\n",
              "      <td>24.391132</td>\n",
              "      <td>1.348291</td>\n",
              "      <td>10.089901</td>\n",
              "      <td>27.455496</td>\n",
              "      <td>7.106500</td>\n",
              "      <td>0.076568</td>\n",
              "      <td>20.415947</td>\n",
              "      <td>12.648972</td>\n",
              "    </tr>\n",
              "    <tr>\n",
              "      <th>2909</th>\n",
              "      <td>-515.60620</td>\n",
              "      <td>117.292404</td>\n",
              "      <td>-28.858470</td>\n",
              "      <td>-0.166154</td>\n",
              "      <td>-22.809288</td>\n",
              "      <td>10.571767</td>\n",
              "      <td>-7.357612</td>\n",
              "      <td>1.925440</td>\n",
              "      <td>9.165670</td>\n",
              "      <td>4.499895</td>\n",
              "      <td>-5.087014</td>\n",
              "      <td>7.028556</td>\n",
              "    </tr>\n",
              "    <tr>\n",
              "      <th>2910</th>\n",
              "      <td>-483.52502</td>\n",
              "      <td>122.156690</td>\n",
              "      <td>-39.812244</td>\n",
              "      <td>-3.797422</td>\n",
              "      <td>-9.360095</td>\n",
              "      <td>-2.103504</td>\n",
              "      <td>1.424180</td>\n",
              "      <td>-3.274032</td>\n",
              "      <td>-0.363364</td>\n",
              "      <td>17.463123</td>\n",
              "      <td>-7.233619</td>\n",
              "      <td>0.365348</td>\n",
              "    </tr>\n",
              "    <tr>\n",
              "      <th>2911</th>\n",
              "      <td>-838.04193</td>\n",
              "      <td>21.284880</td>\n",
              "      <td>18.860140</td>\n",
              "      <td>30.818695</td>\n",
              "      <td>22.122593</td>\n",
              "      <td>1.856854</td>\n",
              "      <td>12.400106</td>\n",
              "      <td>22.434920</td>\n",
              "      <td>5.217744</td>\n",
              "      <td>-1.222926</td>\n",
              "      <td>18.654396</td>\n",
              "      <td>13.201369</td>\n",
              "    </tr>\n",
              "    <tr>\n",
              "      <th>2912</th>\n",
              "      <td>-555.97780</td>\n",
              "      <td>84.719690</td>\n",
              "      <td>-35.458614</td>\n",
              "      <td>17.262340</td>\n",
              "      <td>1.335765</td>\n",
              "      <td>18.982141</td>\n",
              "      <td>4.952482</td>\n",
              "      <td>-4.093780</td>\n",
              "      <td>-2.035099</td>\n",
              "      <td>6.635277</td>\n",
              "      <td>-6.533991</td>\n",
              "      <td>12.069011</td>\n",
              "    </tr>\n",
              "  </tbody>\n",
              "</table>\n",
              "<p>2913 rows × 12 columns</p>\n",
              "</div>\n",
              "    <div class=\"colab-df-buttons\">\n",
              "\n",
              "  <div class=\"colab-df-container\">\n",
              "    <button class=\"colab-df-convert\" onclick=\"convertToInteractive('df-2fa3e63c-c31d-435d-9513-64fa13d8b5dd')\"\n",
              "            title=\"Convert this dataframe to an interactive table.\"\n",
              "            style=\"display:none;\">\n",
              "\n",
              "  <svg xmlns=\"http://www.w3.org/2000/svg\" height=\"24px\" viewBox=\"0 -960 960 960\">\n",
              "    <path d=\"M120-120v-720h720v720H120Zm60-500h600v-160H180v160Zm220 220h160v-160H400v160Zm0 220h160v-160H400v160ZM180-400h160v-160H180v160Zm440 0h160v-160H620v160ZM180-180h160v-160H180v160Zm440 0h160v-160H620v160Z\"/>\n",
              "  </svg>\n",
              "    </button>\n",
              "\n",
              "  <style>\n",
              "    .colab-df-container {\n",
              "      display:flex;\n",
              "      gap: 12px;\n",
              "    }\n",
              "\n",
              "    .colab-df-convert {\n",
              "      background-color: #E8F0FE;\n",
              "      border: none;\n",
              "      border-radius: 50%;\n",
              "      cursor: pointer;\n",
              "      display: none;\n",
              "      fill: #1967D2;\n",
              "      height: 32px;\n",
              "      padding: 0 0 0 0;\n",
              "      width: 32px;\n",
              "    }\n",
              "\n",
              "    .colab-df-convert:hover {\n",
              "      background-color: #E2EBFA;\n",
              "      box-shadow: 0px 1px 2px rgba(60, 64, 67, 0.3), 0px 1px 3px 1px rgba(60, 64, 67, 0.15);\n",
              "      fill: #174EA6;\n",
              "    }\n",
              "\n",
              "    .colab-df-buttons div {\n",
              "      margin-bottom: 4px;\n",
              "    }\n",
              "\n",
              "    [theme=dark] .colab-df-convert {\n",
              "      background-color: #3B4455;\n",
              "      fill: #D2E3FC;\n",
              "    }\n",
              "\n",
              "    [theme=dark] .colab-df-convert:hover {\n",
              "      background-color: #434B5C;\n",
              "      box-shadow: 0px 1px 3px 1px rgba(0, 0, 0, 0.15);\n",
              "      filter: drop-shadow(0px 1px 2px rgba(0, 0, 0, 0.3));\n",
              "      fill: #FFFFFF;\n",
              "    }\n",
              "  </style>\n",
              "\n",
              "    <script>\n",
              "      const buttonEl =\n",
              "        document.querySelector('#df-2fa3e63c-c31d-435d-9513-64fa13d8b5dd button.colab-df-convert');\n",
              "      buttonEl.style.display =\n",
              "        google.colab.kernel.accessAllowed ? 'block' : 'none';\n",
              "\n",
              "      async function convertToInteractive(key) {\n",
              "        const element = document.querySelector('#df-2fa3e63c-c31d-435d-9513-64fa13d8b5dd');\n",
              "        const dataTable =\n",
              "          await google.colab.kernel.invokeFunction('convertToInteractive',\n",
              "                                                    [key], {});\n",
              "        if (!dataTable) return;\n",
              "\n",
              "        const docLinkHtml = 'Like what you see? Visit the ' +\n",
              "          '<a target=\"_blank\" href=https://colab.research.google.com/notebooks/data_table.ipynb>data table notebook</a>'\n",
              "          + ' to learn more about interactive tables.';\n",
              "        element.innerHTML = '';\n",
              "        dataTable['output_type'] = 'display_data';\n",
              "        await google.colab.output.renderOutput(dataTable, element);\n",
              "        const docLink = document.createElement('div');\n",
              "        docLink.innerHTML = docLinkHtml;\n",
              "        element.appendChild(docLink);\n",
              "      }\n",
              "    </script>\n",
              "  </div>\n",
              "\n",
              "\n",
              "<div id=\"df-755f99f5-1173-44c0-ad0c-2c6e2c6cd363\">\n",
              "  <button class=\"colab-df-quickchart\" onclick=\"quickchart('df-755f99f5-1173-44c0-ad0c-2c6e2c6cd363')\"\n",
              "            title=\"Suggest charts.\"\n",
              "            style=\"display:none;\">\n",
              "\n",
              "<svg xmlns=\"http://www.w3.org/2000/svg\" height=\"24px\"viewBox=\"0 0 24 24\"\n",
              "     width=\"24px\">\n",
              "    <g>\n",
              "        <path d=\"M19 3H5c-1.1 0-2 .9-2 2v14c0 1.1.9 2 2 2h14c1.1 0 2-.9 2-2V5c0-1.1-.9-2-2-2zM9 17H7v-7h2v7zm4 0h-2V7h2v10zm4 0h-2v-4h2v4z\"/>\n",
              "    </g>\n",
              "</svg>\n",
              "  </button>\n",
              "\n",
              "<style>\n",
              "  .colab-df-quickchart {\n",
              "      --bg-color: #E8F0FE;\n",
              "      --fill-color: #1967D2;\n",
              "      --hover-bg-color: #E2EBFA;\n",
              "      --hover-fill-color: #174EA6;\n",
              "      --disabled-fill-color: #AAA;\n",
              "      --disabled-bg-color: #DDD;\n",
              "  }\n",
              "\n",
              "  [theme=dark] .colab-df-quickchart {\n",
              "      --bg-color: #3B4455;\n",
              "      --fill-color: #D2E3FC;\n",
              "      --hover-bg-color: #434B5C;\n",
              "      --hover-fill-color: #FFFFFF;\n",
              "      --disabled-bg-color: #3B4455;\n",
              "      --disabled-fill-color: #666;\n",
              "  }\n",
              "\n",
              "  .colab-df-quickchart {\n",
              "    background-color: var(--bg-color);\n",
              "    border: none;\n",
              "    border-radius: 50%;\n",
              "    cursor: pointer;\n",
              "    display: none;\n",
              "    fill: var(--fill-color);\n",
              "    height: 32px;\n",
              "    padding: 0;\n",
              "    width: 32px;\n",
              "  }\n",
              "\n",
              "  .colab-df-quickchart:hover {\n",
              "    background-color: var(--hover-bg-color);\n",
              "    box-shadow: 0 1px 2px rgba(60, 64, 67, 0.3), 0 1px 3px 1px rgba(60, 64, 67, 0.15);\n",
              "    fill: var(--button-hover-fill-color);\n",
              "  }\n",
              "\n",
              "  .colab-df-quickchart-complete:disabled,\n",
              "  .colab-df-quickchart-complete:disabled:hover {\n",
              "    background-color: var(--disabled-bg-color);\n",
              "    fill: var(--disabled-fill-color);\n",
              "    box-shadow: none;\n",
              "  }\n",
              "\n",
              "  .colab-df-spinner {\n",
              "    border: 2px solid var(--fill-color);\n",
              "    border-color: transparent;\n",
              "    border-bottom-color: var(--fill-color);\n",
              "    animation:\n",
              "      spin 1s steps(1) infinite;\n",
              "  }\n",
              "\n",
              "  @keyframes spin {\n",
              "    0% {\n",
              "      border-color: transparent;\n",
              "      border-bottom-color: var(--fill-color);\n",
              "      border-left-color: var(--fill-color);\n",
              "    }\n",
              "    20% {\n",
              "      border-color: transparent;\n",
              "      border-left-color: var(--fill-color);\n",
              "      border-top-color: var(--fill-color);\n",
              "    }\n",
              "    30% {\n",
              "      border-color: transparent;\n",
              "      border-left-color: var(--fill-color);\n",
              "      border-top-color: var(--fill-color);\n",
              "      border-right-color: var(--fill-color);\n",
              "    }\n",
              "    40% {\n",
              "      border-color: transparent;\n",
              "      border-right-color: var(--fill-color);\n",
              "      border-top-color: var(--fill-color);\n",
              "    }\n",
              "    60% {\n",
              "      border-color: transparent;\n",
              "      border-right-color: var(--fill-color);\n",
              "    }\n",
              "    80% {\n",
              "      border-color: transparent;\n",
              "      border-right-color: var(--fill-color);\n",
              "      border-bottom-color: var(--fill-color);\n",
              "    }\n",
              "    90% {\n",
              "      border-color: transparent;\n",
              "      border-bottom-color: var(--fill-color);\n",
              "    }\n",
              "  }\n",
              "</style>\n",
              "\n",
              "  <script>\n",
              "    async function quickchart(key) {\n",
              "      const quickchartButtonEl =\n",
              "        document.querySelector('#' + key + ' button');\n",
              "      quickchartButtonEl.disabled = true;  // To prevent multiple clicks.\n",
              "      quickchartButtonEl.classList.add('colab-df-spinner');\n",
              "      try {\n",
              "        const charts = await google.colab.kernel.invokeFunction(\n",
              "            'suggestCharts', [key], {});\n",
              "      } catch (error) {\n",
              "        console.error('Error during call to suggestCharts:', error);\n",
              "      }\n",
              "      quickchartButtonEl.classList.remove('colab-df-spinner');\n",
              "      quickchartButtonEl.classList.add('colab-df-quickchart-complete');\n",
              "    }\n",
              "    (() => {\n",
              "      let quickchartButtonEl =\n",
              "        document.querySelector('#df-755f99f5-1173-44c0-ad0c-2c6e2c6cd363 button');\n",
              "      quickchartButtonEl.style.display =\n",
              "        google.colab.kernel.accessAllowed ? 'block' : 'none';\n",
              "    })();\n",
              "  </script>\n",
              "</div>\n",
              "    </div>\n",
              "  </div>\n"
            ]
          },
          "metadata": {},
          "execution_count": 16
        }
      ]
    },
    {
      "cell_type": "code",
      "source": [
        "y = one_hot_encoded\n",
        "X = (X-X.min())/(X.max()-X.min())\n",
        "X_train, X_test, y_train, y_test = train_test_split(np.array(X), y, test_size=0.2)"
      ],
      "metadata": {
        "id": "dtycDP2qA1qB"
      },
      "execution_count": null,
      "outputs": []
    },
    {
      "cell_type": "code",
      "source": [
        "X_train.shape"
      ],
      "metadata": {
        "colab": {
          "base_uri": "https://localhost:8080/"
        },
        "id": "c874oRvKA4xc",
        "outputId": "dcd26a62-58b4-4b18-9f95-e134c103df8d"
      },
      "execution_count": null,
      "outputs": [
        {
          "output_type": "execute_result",
          "data": {
            "text/plain": [
              "(2330, 12)"
            ]
          },
          "metadata": {},
          "execution_count": 18
        }
      ]
    },
    {
      "cell_type": "code",
      "source": [
        "type(X)"
      ],
      "metadata": {
        "colab": {
          "base_uri": "https://localhost:8080/"
        },
        "id": "8Pf_3pYQA7nI",
        "outputId": "711857a4-b986-4ef1-e5fa-5ab45fd707e0"
      },
      "execution_count": null,
      "outputs": [
        {
          "output_type": "execute_result",
          "data": {
            "text/plain": [
              "pandas.core.frame.DataFrame"
            ]
          },
          "metadata": {},
          "execution_count": 19
        }
      ]
    },
    {
      "cell_type": "code",
      "source": [
        "X_train.shape\n"
      ],
      "metadata": {
        "id": "CSf370kEA8ck",
        "colab": {
          "base_uri": "https://localhost:8080/"
        },
        "outputId": "8b02205e-7f25-46cb-f858-0f6f8a44a8f2"
      },
      "execution_count": null,
      "outputs": [
        {
          "output_type": "execute_result",
          "data": {
            "text/plain": [
              "(2330, 12)"
            ]
          },
          "metadata": {},
          "execution_count": 20
        }
      ]
    },
    {
      "cell_type": "markdown",
      "source": [
        "## **MLP classifier**"
      ],
      "metadata": {
        "id": "o7qZJslwBCgr"
      }
    },
    {
      "cell_type": "markdown",
      "source": [
        "**MFCC**"
      ],
      "metadata": {
        "id": "dBpAYF9OVm3Q"
      }
    },
    {
      "cell_type": "code",
      "source": [
        "import numpy as np\n",
        "import pandas as pd\n",
        "from sklearn.model_selection import train_test_split\n",
        "from sklearn.neural_network import MLPClassifier\n",
        "from sklearn.metrics import accuracy_score, classification_report\n",
        "\n",
        "# Load the dataset from the CSV file\n",
        "dataset_path = \"/content/drive/MyDrive/mini project/MFCC2.csv\"\n",
        "dataset = pd.read_csv(dataset_path)\n",
        "\n",
        "# Create feature matrix (X) and target labels (y)\n",
        "X = dataset.drop(columns=[\"label_list\"]).values\n",
        "y = dataset[\"label_list\"].values\n",
        "\n",
        "# Split the data into training and testing sets\n",
        "X_train, X_test, y_train, y_test = train_test_split(X, y, test_size=0.3, random_state=42)\n",
        "\n",
        "# Initialize the MLP classifier\n",
        "mlp_classifier = MLPClassifier(hidden_layer_sizes=(100, 50), max_iter=1000, random_state=42)\n",
        "# You can adjust the hidden_layer_sizes and other hyperparameters as needed\n",
        "\n",
        "# Fit the MLP model\n",
        "mlp_classifier.fit(X_train, y_train)\n",
        "\n",
        "# Make predictions on the test set\n",
        "y_pred = mlp_classifier.predict(X_test)\n",
        "\n",
        "# Evaluate the model\n",
        "accuracy = accuracy_score(y_test, y_pred)\n",
        "print(\"Accuracy:\", accuracy)\n",
        "\n",
        "# Generate a classification report\n",
        "print(\"Classification Report:\")\n",
        "print(classification_report(y_test, y_pred))\n"
      ],
      "metadata": {
        "colab": {
          "base_uri": "https://localhost:8080/"
        },
        "id": "DmdBdJnEVmQn",
        "outputId": "b7d6c89e-80aa-4e7f-bbf5-327dffc4d3ab"
      },
      "execution_count": null,
      "outputs": [
        {
          "output_type": "stream",
          "name": "stdout",
          "text": [
            "Accuracy: 0.937070938215103\n",
            "Classification Report:\n",
            "              precision    recall  f1-score   support\n",
            "\n",
            "   Accordion       0.97      0.93      0.95       189\n",
            "   Bass Tuba       0.94      0.91      0.93        35\n",
            "     Bassoon       0.96      0.92      0.94        49\n",
            "    Clarinet       0.90      0.76      0.83        34\n",
            "  Contrabass       0.97      1.00      0.98        95\n",
            "       Flute       0.92      0.85      0.88        39\n",
            "        Horn       0.97      0.92      0.95        39\n",
            "        Oboe       0.85      0.97      0.90        29\n",
            "    Sax_Alto       0.82      0.82      0.82        28\n",
            "    Trombone       0.92      0.97      0.95        36\n",
            "     Trumpet       0.97      0.97      0.97        32\n",
            "       Viola       0.85      0.97      0.90        86\n",
            "      Violin       0.98      0.92      0.95        89\n",
            " Violoncello       0.95      1.00      0.97        94\n",
            "\n",
            "    accuracy                           0.94       874\n",
            "   macro avg       0.93      0.92      0.92       874\n",
            "weighted avg       0.94      0.94      0.94       874\n",
            "\n"
          ]
        }
      ]
    },
    {
      "cell_type": "markdown",
      "source": [
        "**chroma**"
      ],
      "metadata": {
        "id": "2hGvUkkiWC3a"
      }
    },
    {
      "cell_type": "code",
      "source": [
        "import numpy as np\n",
        "import pandas as pd\n",
        "from sklearn.model_selection import train_test_split\n",
        "from sklearn.neural_network import MLPClassifier\n",
        "from sklearn.metrics import accuracy_score, classification_report\n",
        "\n",
        "# Load the dataset from the CSV file\n",
        "dataset_path = \"/content/drive/MyDrive/mini project/chroma_features2.csv\"\n",
        "dataset = pd.read_csv(dataset_path)\n",
        "\n",
        "# Create feature matrix (X) and target labels (y)\n",
        "X = dataset.drop(columns=[\"label_list\"]).values\n",
        "y = dataset[\"label_list\"].values\n",
        "\n",
        "# Split the data into training and testing sets\n",
        "X_train, X_test, y_train, y_test = train_test_split(X, y, test_size=0.3, random_state=42)\n",
        "\n",
        "# Initialize the MLP classifier\n",
        "mlp_classifier = MLPClassifier(hidden_layer_sizes=(100, 50), max_iter=1000, random_state=42)\n",
        "# You can adjust the hidden_layer_sizes and other hyperparameters as needed\n",
        "\n",
        "# Fit the MLP model\n",
        "mlp_classifier.fit(X_train, y_train)\n",
        "\n",
        "# Make predictions on the test set\n",
        "y_pred = mlp_classifier.predict(X_test)\n",
        "\n",
        "# Evaluate the model\n",
        "accuracy = accuracy_score(y_test, y_pred)\n",
        "print(\"Accuracy:\", accuracy)\n",
        "\n",
        "# Generate a classification report\n",
        "print(\"Classification Report:\")\n",
        "print(classification_report(y_test, y_pred))\n"
      ],
      "metadata": {
        "colab": {
          "base_uri": "https://localhost:8080/"
        },
        "id": "QVZmYNetWQPv",
        "outputId": "5d6251dd-e8e2-4e12-c98a-0eaf253f9de4"
      },
      "execution_count": null,
      "outputs": [
        {
          "output_type": "stream",
          "name": "stdout",
          "text": [
            "Accuracy: 0.5995423340961098\n",
            "Classification Report:\n",
            "              precision    recall  f1-score   support\n",
            "\n",
            "   Accordion       0.86      0.94      0.90       189\n",
            "   Bass Tuba       0.35      0.34      0.35        35\n",
            "     Bassoon       0.43      0.39      0.41        49\n",
            "    Clarinet       0.17      0.09      0.12        34\n",
            "  Contrabass       0.72      0.85      0.78        95\n",
            "       Flute       0.26      0.23      0.24        39\n",
            "        Horn       0.47      0.36      0.41        39\n",
            "        Oboe       0.42      0.59      0.49        29\n",
            "    Sax_Alto       0.05      0.04      0.04        28\n",
            "    Trombone       0.31      0.22      0.26        36\n",
            "     Trumpet       0.32      0.19      0.24        32\n",
            "       Viola       0.57      0.76      0.65        86\n",
            "      Violin       0.66      0.67      0.67        89\n",
            " Violoncello       0.62      0.54      0.58        94\n",
            "\n",
            "    accuracy                           0.60       874\n",
            "   macro avg       0.44      0.44      0.44       874\n",
            "weighted avg       0.57      0.60      0.58       874\n",
            "\n"
          ]
        }
      ]
    },
    {
      "cell_type": "markdown",
      "source": [
        "wavelet **transform**"
      ],
      "metadata": {
        "id": "LdrqM3QpWFXS"
      }
    },
    {
      "cell_type": "code",
      "source": [
        "import numpy as np\n",
        "import pandas as pd\n",
        "from sklearn.model_selection import train_test_split\n",
        "from sklearn.neural_network import MLPClassifier\n",
        "from sklearn.metrics import accuracy_score, classification_report\n",
        "\n",
        "# Load the dataset from the CSV file\n",
        "dataset_path = \"/content/drive/MyDrive/mini project/wavelet_features2.csv\"\n",
        "dataset = pd.read_csv(dataset_path)\n",
        "\n",
        "# Create feature matrix (X) and target labels (y)\n",
        "X = dataset.drop(columns=[\"label_list\"]).values\n",
        "y = dataset[\"label_list\"].values\n",
        "\n",
        "# Split the data into training and testing sets\n",
        "X_train, X_test, y_train, y_test = train_test_split(X, y, test_size=0.2, random_state=42)\n",
        "\n",
        "# Initialize the MLP classifier\n",
        "mlp_classifier = MLPClassifier(hidden_layer_sizes=(100, 50), max_iter=1000, random_state=42)\n",
        "# You can adjust the hidden_layer_sizes and other hyperparameters as needed\n",
        "\n",
        "# Fit the MLP model\n",
        "mlp_classifier.fit(X_train, y_train)\n",
        "\n",
        "# Make predictions on the test set\n",
        "y_pred = mlp_classifier.predict(X_test)\n",
        "\n",
        "# Evaluate the model\n",
        "accuracy = accuracy_score(y_test, y_pred)\n",
        "print(\"Accuracy:\", accuracy)\n",
        "\n",
        "# Generate a classification report\n",
        "print(\"Classification Report:\")\n",
        "print(classification_report(y_test, y_pred))\n"
      ],
      "metadata": {
        "colab": {
          "base_uri": "https://localhost:8080/"
        },
        "id": "YSblyPUcWRC3",
        "outputId": "1d2b4911-76a9-4573-9533-38fb188bf6fc"
      },
      "execution_count": null,
      "outputs": [
        {
          "output_type": "stream",
          "name": "stdout",
          "text": [
            "Accuracy: 0.2195540308747856\n",
            "Classification Report:\n",
            "              precision    recall  f1-score   support\n",
            "\n",
            "   Accordion       0.22      1.00      0.36       128\n",
            "   Bass Tuba       0.00      0.00      0.00        23\n",
            "     Bassoon       0.00      0.00      0.00        34\n",
            "    Clarinet       0.00      0.00      0.00        21\n",
            "  Contrabass       0.00      0.00      0.00        64\n",
            "       Flute       0.00      0.00      0.00        27\n",
            "        Horn       0.00      0.00      0.00        31\n",
            "        Oboe       0.00      0.00      0.00        20\n",
            "    Sax_Alto       0.00      0.00      0.00        12\n",
            "    Trombone       0.00      0.00      0.00        26\n",
            "     Trumpet       0.00      0.00      0.00        22\n",
            "       Viola       0.00      0.00      0.00        51\n",
            "      Violin       0.00      0.00      0.00        57\n",
            " Violoncello       0.00      0.00      0.00        67\n",
            "\n",
            "    accuracy                           0.22       583\n",
            "   macro avg       0.02      0.07      0.03       583\n",
            "weighted avg       0.05      0.22      0.08       583\n",
            "\n"
          ]
        },
        {
          "output_type": "stream",
          "name": "stderr",
          "text": [
            "/usr/local/lib/python3.10/dist-packages/sklearn/metrics/_classification.py:1344: UndefinedMetricWarning: Precision and F-score are ill-defined and being set to 0.0 in labels with no predicted samples. Use `zero_division` parameter to control this behavior.\n",
            "  _warn_prf(average, modifier, msg_start, len(result))\n",
            "/usr/local/lib/python3.10/dist-packages/sklearn/metrics/_classification.py:1344: UndefinedMetricWarning: Precision and F-score are ill-defined and being set to 0.0 in labels with no predicted samples. Use `zero_division` parameter to control this behavior.\n",
            "  _warn_prf(average, modifier, msg_start, len(result))\n",
            "/usr/local/lib/python3.10/dist-packages/sklearn/metrics/_classification.py:1344: UndefinedMetricWarning: Precision and F-score are ill-defined and being set to 0.0 in labels with no predicted samples. Use `zero_division` parameter to control this behavior.\n",
            "  _warn_prf(average, modifier, msg_start, len(result))\n"
          ]
        }
      ]
    },
    {
      "cell_type": "markdown",
      "source": [
        "spectral **contrast**"
      ],
      "metadata": {
        "id": "pYx0HTN5WLVy"
      }
    },
    {
      "cell_type": "code",
      "source": [
        "import numpy as np\n",
        "import pandas as pd\n",
        "from sklearn.model_selection import train_test_split\n",
        "from sklearn.neural_network import MLPClassifier\n",
        "from sklearn.metrics import accuracy_score, classification_report\n",
        "\n",
        "# Load the dataset from the CSV file\n",
        "dataset_path = \"/content/drive/MyDrive/mini project/spectral_contrast_features2.csv\"\n",
        "dataset = pd.read_csv(dataset_path)\n",
        "\n",
        "# Create feature matrix (X) and target labels (y)\n",
        "X = dataset.drop(columns=[\"label_list\"]).values\n",
        "y = dataset[\"label_list\"].values\n",
        "\n",
        "# Split the data into training and testing sets\n",
        "X_train, X_test, y_train, y_test = train_test_split(X, y, test_size=0.5, random_state=42)\n",
        "\n",
        "# Initialize the MLP classifier\n",
        "mlp_classifier = MLPClassifier(hidden_layer_sizes=(100, 50), max_iter=1000, random_state=42)\n",
        "# You can adjust the hidden_layer_sizes and other hyperparameters as needed\n",
        "\n",
        "# Fit the MLP model\n",
        "mlp_classifier.fit(X_train, y_train)\n",
        "\n",
        "# Make predictions on the test set\n",
        "y_pred = mlp_classifier.predict(X_test)\n",
        "\n",
        "# Evaluate the model\n",
        "accuracy = accuracy_score(y_test, y_pred)\n",
        "print(\"Accuracy:\", accuracy)\n",
        "\n",
        "# Generate a classification report\n",
        "print(\"Classification Report:\")\n",
        "print(classification_report(y_test, y_pred))\n"
      ],
      "metadata": {
        "colab": {
          "base_uri": "https://localhost:8080/"
        },
        "id": "xoKI-8H6WRWI",
        "outputId": "10cc721e-3594-477c-dc42-0a8241d2dc3d"
      },
      "execution_count": null,
      "outputs": [
        {
          "output_type": "stream",
          "name": "stdout",
          "text": [
            "Accuracy: 0.6705559368565546\n",
            "Classification Report:\n",
            "              precision    recall  f1-score   support\n",
            "\n",
            "   Accordion       0.81      0.84      0.83       334\n",
            "   Bass Tuba       0.59      0.50      0.54        54\n",
            "     Bassoon       0.66      0.64      0.65        72\n",
            "    Clarinet       0.59      0.72      0.65        61\n",
            "  Contrabass       0.77      0.86      0.82       162\n",
            "       Flute       0.66      0.74      0.70        58\n",
            "        Horn       0.45      0.53      0.48        59\n",
            "        Oboe       0.61      0.70      0.65        53\n",
            "    Sax_Alto       0.42      0.10      0.17        48\n",
            "    Trombone       0.46      0.46      0.46        54\n",
            "     Trumpet       0.65      0.28      0.39        53\n",
            "       Viola       0.58      0.46      0.52       155\n",
            "      Violin       0.65      0.69      0.67       136\n",
            " Violoncello       0.63      0.73      0.68       158\n",
            "\n",
            "    accuracy                           0.67      1457\n",
            "   macro avg       0.61      0.59      0.59      1457\n",
            "weighted avg       0.66      0.67      0.66      1457\n",
            "\n"
          ]
        }
      ]
    },
    {
      "cell_type": "markdown",
      "source": [
        "**mixed**"
      ],
      "metadata": {
        "id": "ogGbHu_djaDB"
      }
    },
    {
      "cell_type": "code",
      "source": [
        "\n",
        "import numpy as np\n",
        "import pandas as pd\n",
        "from sklearn.model_selection import train_test_split\n",
        "from sklearn.neural_network import MLPClassifier\n",
        "from sklearn.metrics import accuracy_score, classification_report\n",
        "\n",
        "# Load the dataset from the CSV file\n",
        "dataset_path = \"/content/drive/MyDrive/mini project/mixed_feature2.csv\"\n",
        "dataset = pd.read_csv(dataset_path)\n",
        "\n",
        "# Create feature matrix (X) and target labels (y)\n",
        "X = dataset.drop(columns=[\"38\"]).values\n",
        "y = dataset[\"38\"].values\n",
        "\n",
        "# Split the data into training and testing sets\n",
        "X_train, X_test, y_train, y_test = train_test_split(X, y, test_size=0.25, random_state=42)\n",
        "\n",
        "# Initialize the MLP classifier\n",
        "mlp_classifier = MLPClassifier(hidden_layer_sizes=(100, 50), max_iter=1000, random_state=42)\n",
        "# You can adjust the hidden_layer_sizes and other hyperparameters as needed\n",
        "\n",
        "# Fit the MLP model\n",
        "mlp_classifier.fit(X_train, y_train)\n",
        "\n",
        "# Make predictions on the test set\n",
        "y_pred = mlp_classifier.predict(X_test)\n",
        "\n",
        "# Evaluate the model\n",
        "accuracy = accuracy_score(y_test, y_pred)\n",
        "print(\"Accuracy:\", accuracy)\n",
        "\n",
        "# Generate a classification report\n",
        "print(\"Classification Report:\")\n",
        "print(classification_report(y_test, y_pred))\n"
      ],
      "metadata": {
        "colab": {
          "base_uri": "https://localhost:8080/"
        },
        "id": "n1zIrz0Qjc-c",
        "outputId": "4cca4d24-1278-41be-9244-f111135edfe7"
      },
      "execution_count": null,
      "outputs": [
        {
          "output_type": "stream",
          "name": "stdout",
          "text": [
            "Accuracy: 0.9835390946502057\n",
            "Classification Report:\n",
            "              precision    recall  f1-score   support\n",
            "\n",
            "   Accordion       1.00      0.99      1.00       159\n",
            "   Bass Tuba       0.88      1.00      0.94        29\n",
            "     Bassoon       0.97      0.95      0.96        40\n",
            "    Clarinet       1.00      0.96      0.98        26\n",
            "  Contrabass       0.99      1.00      0.99        74\n",
            "       Flute       1.00      1.00      1.00        34\n",
            "        Horn       1.00      0.83      0.91        35\n",
            "        Oboe       1.00      1.00      1.00        26\n",
            "    Sax_Alto       1.00      1.00      1.00        20\n",
            "    Trombone       0.91      0.97      0.94        32\n",
            "     Trumpet       1.00      1.00      1.00        27\n",
            "       Viola       0.99      1.00      0.99        69\n",
            "      Violin       1.00      0.99      0.99        76\n",
            " Violoncello       0.98      1.00      0.99        82\n",
            "\n",
            "    accuracy                           0.98       729\n",
            "   macro avg       0.98      0.98      0.98       729\n",
            "weighted avg       0.98      0.98      0.98       729\n",
            "\n"
          ]
        }
      ]
    },
    {
      "cell_type": "markdown",
      "source": [
        "## KNN"
      ],
      "metadata": {
        "id": "hKljlTb7eIHR"
      }
    },
    {
      "cell_type": "markdown",
      "source": [
        "**MFCC**"
      ],
      "metadata": {
        "id": "GECbWjO9qB66"
      }
    },
    {
      "cell_type": "code",
      "source": [
        "import numpy as np\n",
        "import pandas as pd\n",
        "from sklearn.model_selection import train_test_split\n",
        "from sklearn.neighbors import KNeighborsClassifier\n",
        "from sklearn.metrics import accuracy_score, classification_report\n",
        "\n",
        "# Load the dataset from the CSV file\n",
        "dataset_path = \"/content/drive/MyDrive/mini project/MFCC2.csv\"\n",
        "dataset = pd.read_csv(dataset_path)\n",
        "\n",
        "# Create feature matrix (X) and target labels (y)\n",
        "X = dataset.drop(columns=[\"label_list\"]).values\n",
        "y = dataset[\"label_list\"].values\n",
        "\n",
        "# Split the data into training and testing sets\n",
        "X_train, X_test, y_train, y_test = train_test_split(X, y, test_size=0.3, random_state=42)\n",
        "\n",
        "# Initialize the KNN classifier\n",
        "knn_classifier = KNeighborsClassifier(n_neighbors=12)  # You can adjust the number of neighbors (k) here\n",
        "\n",
        "# No training is needed for KNN\n",
        "\n",
        "# Fit the KNN model (not a traditional training, just organizing the data)\n",
        "knn_classifier.fit(X_train, y_train)\n",
        "\n",
        "# Make predictions on the test set\n",
        "y_pred = knn_classifier.predict(X_test)\n",
        "\n",
        "# Evaluate the model\n",
        "accuracy = accuracy_score(y_test, y_pred)\n",
        "print(\"Accuracy:\", accuracy)\n",
        "\n",
        "# Generate a classification report\n",
        "print(\"Classification Report:\")\n",
        "print(classification_report(y_test, y_pred))\n"
      ],
      "metadata": {
        "colab": {
          "base_uri": "https://localhost:8080/"
        },
        "id": "6g9Q0QE5LPjv",
        "outputId": "df007679-06f2-4922-af6f-2c795a520fe9"
      },
      "execution_count": null,
      "outputs": [
        {
          "output_type": "stream",
          "name": "stdout",
          "text": [
            "Accuracy: 0.8375286041189931\n",
            "Classification Report:\n",
            "              precision    recall  f1-score   support\n",
            "\n",
            "   Accordion       0.87      0.92      0.89       189\n",
            "   Bass Tuba       0.80      0.91      0.85        35\n",
            "     Bassoon       0.84      0.73      0.78        49\n",
            "    Clarinet       0.67      0.47      0.55        34\n",
            "  Contrabass       0.93      0.99      0.96        95\n",
            "       Flute       0.79      0.59      0.68        39\n",
            "        Horn       0.67      0.51      0.58        39\n",
            "        Oboe       0.68      0.66      0.67        29\n",
            "    Sax_Alto       0.75      0.43      0.55        28\n",
            "    Trombone       0.68      0.72      0.70        36\n",
            "     Trumpet       0.93      0.81      0.87        32\n",
            "       Viola       0.78      0.94      0.85        86\n",
            "      Violin       0.87      0.96      0.91        89\n",
            " Violoncello       0.93      0.95      0.94        94\n",
            "\n",
            "    accuracy                           0.84       874\n",
            "   macro avg       0.80      0.76      0.77       874\n",
            "weighted avg       0.83      0.84      0.83       874\n",
            "\n"
          ]
        }
      ]
    },
    {
      "cell_type": "markdown",
      "source": [
        "**CHROMA**"
      ],
      "metadata": {
        "id": "0daG7EBPqFqJ"
      }
    },
    {
      "cell_type": "code",
      "source": [
        "\n",
        "import numpy as np\n",
        "import pandas as pd\n",
        "from sklearn.model_selection import train_test_split\n",
        "from sklearn.neighbors import KNeighborsClassifier\n",
        "from sklearn.metrics import accuracy_score, classification_report\n",
        "\n",
        "# Load the dataset from the CSV file\n",
        "dataset_path = \"/content/drive/MyDrive/mini project/chroma_features2.csv\"\n",
        "dataset = pd.read_csv(dataset_path)\n",
        "\n",
        "# Create feature matrix (X) and target labels (y)\n",
        "X = dataset.drop(columns=[\"label_list\"]).values\n",
        "y = dataset[\"label_list\"].values\n",
        "\n",
        "# Split the data into training and testing sets\n",
        "X_train, X_test, y_train, y_test = train_test_split(X, y, test_size=0.3, random_state=42)\n",
        "\n",
        "# Initialize the KNN classifier\n",
        "knn_classifier = KNeighborsClassifier(n_neighbors=5)  # You can adjust the number of neighbors (k) here\n",
        "\n",
        "# No training is needed for KNN\n",
        "\n",
        "# Fit the KNN model (not a traditional training, just organizing the data)\n",
        "knn_classifier.fit(X_train, y_train)\n",
        "\n",
        "# Make predictions on the test set\n",
        "y_pred = knn_classifier.predict(X_test)\n",
        "\n",
        "# Evaluate the model\n",
        "accuracy = accuracy_score(y_test, y_pred)\n",
        "print(\"Accuracy:\", accuracy)\n",
        "\n",
        "# Generate a classification report\n",
        "print(\"Classification Report:\")\n",
        "print(classification_report(y_test, y_pred))\n"
      ],
      "metadata": {
        "colab": {
          "base_uri": "https://localhost:8080/"
        },
        "id": "9GkUAO7zqICy",
        "outputId": "6802722c-7d5f-449d-b35f-ff0376230715"
      },
      "execution_count": null,
      "outputs": [
        {
          "output_type": "stream",
          "name": "stdout",
          "text": [
            "Accuracy: 0.5205949656750573\n",
            "Classification Report:\n",
            "              precision    recall  f1-score   support\n",
            "\n",
            "   Accordion       0.70      0.93      0.80       189\n",
            "   Bass Tuba       0.23      0.23      0.23        35\n",
            "     Bassoon       0.43      0.41      0.42        49\n",
            "    Clarinet       0.08      0.06      0.07        34\n",
            "  Contrabass       0.65      0.83      0.73        95\n",
            "       Flute       0.28      0.18      0.22        39\n",
            "        Horn       0.18      0.10      0.13        39\n",
            "        Oboe       0.33      0.31      0.32        29\n",
            "    Sax_Alto       0.00      0.00      0.00        28\n",
            "    Trombone       0.09      0.03      0.04        36\n",
            "     Trumpet       0.00      0.00      0.00        32\n",
            "       Viola       0.47      0.66      0.55        86\n",
            "      Violin       0.49      0.57      0.53        89\n",
            " Violoncello       0.57      0.45      0.50        94\n",
            "\n",
            "    accuracy                           0.52       874\n",
            "   macro avg       0.32      0.34      0.32       874\n",
            "weighted avg       0.45      0.52      0.48       874\n",
            "\n"
          ]
        }
      ]
    },
    {
      "cell_type": "markdown",
      "source": [
        "**wavelet transform**"
      ],
      "metadata": {
        "id": "bvyPgrGAqLCi"
      }
    },
    {
      "cell_type": "code",
      "source": [
        "\n",
        "import numpy as np\n",
        "import pandas as pd\n",
        "from sklearn.model_selection import train_test_split\n",
        "from sklearn.neighbors import KNeighborsClassifier\n",
        "from sklearn.metrics import accuracy_score, classification_report\n",
        "\n",
        "# Load the dataset from the CSV file\n",
        "dataset_path = \"/content/drive/MyDrive/mini project/wavelet_features2.csv\"\n",
        "dataset = pd.read_csv(dataset_path)\n",
        "\n",
        "# Create feature matrix (X) and target labels (y)\n",
        "X = dataset.drop(columns=[\"label_list\"]).values\n",
        "y = dataset[\"label_list\"].values\n",
        "\n",
        "# Split the data into training and testing sets\n",
        "X_train, X_test, y_train, y_test = train_test_split(X, y, test_size=0.2, random_state=42)\n",
        "\n",
        "# Initialize the KNN classifier\n",
        "knn_classifier = KNeighborsClassifier(n_neighbors=5)  # You can adjust the number of neighbors (k) here\n",
        "\n",
        "# No training is needed for KNN\n",
        "\n",
        "# Fit the KNN model (not a traditional training, just organizing the data)\n",
        "knn_classifier.fit(X_train, y_train)\n",
        "\n",
        "# Make predictions on the test set\n",
        "y_pred = knn_classifier.predict(X_test)\n",
        "\n",
        "# Evaluate the model\n",
        "accuracy = accuracy_score(y_test, y_pred)\n",
        "print(\"Accuracy:\", accuracy)\n",
        "\n",
        "# Generate a classification report\n",
        "print(\"Classification Report:\")\n",
        "print(classification_report(y_test, y_pred))\n"
      ],
      "metadata": {
        "colab": {
          "base_uri": "https://localhost:8080/"
        },
        "id": "sbY9yQ6bqPBF",
        "outputId": "e5baddda-634f-45c6-8e77-16e221a16208"
      },
      "execution_count": null,
      "outputs": [
        {
          "output_type": "stream",
          "name": "stdout",
          "text": [
            "Accuracy: 0.2830188679245283\n",
            "Classification Report:\n",
            "              precision    recall  f1-score   support\n",
            "\n",
            "   Accordion       0.44      0.79      0.57       128\n",
            "   Bass Tuba       0.19      0.13      0.15        23\n",
            "     Bassoon       0.00      0.00      0.00        34\n",
            "    Clarinet       0.05      0.10      0.07        21\n",
            "  Contrabass       0.33      0.23      0.28        64\n",
            "       Flute       0.00      0.00      0.00        27\n",
            "        Horn       0.10      0.06      0.08        31\n",
            "        Oboe       0.00      0.00      0.00        20\n",
            "    Sax_Alto       0.12      0.08      0.10        12\n",
            "    Trombone       0.17      0.08      0.11        26\n",
            "     Trumpet       0.40      0.09      0.15        22\n",
            "       Viola       0.18      0.27      0.22        51\n",
            "      Violin       0.18      0.19      0.18        57\n",
            " Violoncello       0.27      0.18      0.22        67\n",
            "\n",
            "    accuracy                           0.28       583\n",
            "   macro avg       0.17      0.16      0.15       583\n",
            "weighted avg       0.24      0.28      0.24       583\n",
            "\n"
          ]
        }
      ]
    },
    {
      "cell_type": "markdown",
      "source": [
        "spectral contrast"
      ],
      "metadata": {
        "id": "xeIybh6xqTd7"
      }
    },
    {
      "cell_type": "code",
      "source": [
        "\n",
        "import numpy as np\n",
        "import pandas as pd\n",
        "from sklearn.model_selection import train_test_split\n",
        "from sklearn.neighbors import KNeighborsClassifier\n",
        "from sklearn.metrics import accuracy_score, classification_report\n",
        "\n",
        "# Load the dataset from the CSV file\n",
        "dataset_path = \"/content/drive/MyDrive/mini project/spectral_contrast_features2.csv\"\n",
        "dataset = pd.read_csv(dataset_path)\n",
        "\n",
        "# Create feature matrix (X) and target labels (y)\n",
        "X = dataset.drop(columns=[\"label_list\"]).values\n",
        "y = dataset[\"label_list\"].values\n",
        "\n",
        "# Split the data into training and testing sets\n",
        "X_train, X_test, y_train, y_test = train_test_split(X, y, test_size=0.3, random_state=42)\n",
        "\n",
        "# Initialize the KNN classifier\n",
        "knn_classifier = KNeighborsClassifier(n_neighbors=5)  # You can adjust the number of neighbors (k) here\n",
        "\n",
        "# No training is needed for KNN\n",
        "\n",
        "# Fit the KNN model (not a traditional training, just organizing the data)\n",
        "knn_classifier.fit(X_train, y_train)\n",
        "\n",
        "# Make predictions on the test set\n",
        "y_pred = knn_classifier.predict(X_test)\n",
        "\n",
        "# Evaluate the model\n",
        "accuracy = accuracy_score(y_test, y_pred)\n",
        "print(\"Accuracy:\", accuracy)\n",
        "\n",
        "# Generate a classification report\n",
        "print(\"Classification Report:\")\n",
        "print(classification_report(y_test, y_pred))\n"
      ],
      "metadata": {
        "colab": {
          "base_uri": "https://localhost:8080/"
        },
        "id": "5BOkUzotqWtx",
        "outputId": "d965a0a3-81fb-4f1a-9bf0-75f378b2ec72"
      },
      "execution_count": null,
      "outputs": [
        {
          "output_type": "stream",
          "name": "stdout",
          "text": [
            "Accuracy: 0.7356979405034325\n",
            "Classification Report:\n",
            "              precision    recall  f1-score   support\n",
            "\n",
            "   Accordion       0.79      0.90      0.84       189\n",
            "   Bass Tuba       0.65      0.63      0.64        35\n",
            "     Bassoon       0.76      0.57      0.65        49\n",
            "    Clarinet       0.80      0.59      0.68        34\n",
            "  Contrabass       0.79      0.94      0.86        95\n",
            "       Flute       0.81      0.77      0.79        39\n",
            "        Horn       0.60      0.64      0.62        39\n",
            "        Oboe       0.76      0.86      0.81        29\n",
            "    Sax_Alto       0.65      0.54      0.59        28\n",
            "    Trombone       0.62      0.36      0.46        36\n",
            "     Trumpet       0.65      0.62      0.63        32\n",
            "       Viola       0.63      0.69      0.66        86\n",
            "      Violin       0.79      0.65      0.72        89\n",
            " Violoncello       0.71      0.73      0.72        94\n",
            "\n",
            "    accuracy                           0.74       874\n",
            "   macro avg       0.71      0.68      0.69       874\n",
            "weighted avg       0.73      0.74      0.73       874\n",
            "\n"
          ]
        }
      ]
    },
    {
      "cell_type": "markdown",
      "source": [
        "MIXED"
      ],
      "metadata": {
        "id": "7y0-mJcdTYJm"
      }
    },
    {
      "cell_type": "code",
      "source": [
        "import numpy as np\n",
        "import pandas as pd\n",
        "from sklearn.model_selection import train_test_split\n",
        "from sklearn.neighbors import KNeighborsClassifier\n",
        "from sklearn.metrics import accuracy_score, classification_report\n",
        "\n",
        "# Load the dataset from the CSV file\n",
        "dataset_path = \"/content/drive/MyDrive/mini project/mixed_feature2.csv\"\n",
        "dataset = pd.read_csv(dataset_path)\n",
        "\n",
        "# Create feature matrix (X) and target labels (y)\n",
        "X = dataset.drop(columns=[\"38\"]).values\n",
        "y = dataset[\"38\"].values\n",
        "\n",
        "# Split the data into training and testing sets\n",
        "X_train, X_test, y_train, y_test = train_test_split(X, y, test_size=0.3, random_state=42)\n",
        "\n",
        "# Initialize the KNN classifier\n",
        "knn_classifier = KNeighborsClassifier(n_neighbors=5)  # You can adjust the number of neighbors (k) here\n",
        "\n",
        "# No training is needed for KNN\n",
        "\n",
        "# Fit the KNN model (not a traditional training, just organizing the data)\n",
        "knn_classifier.fit(X_train, y_train)\n",
        "\n",
        "# Make predictions on the test set\n",
        "y_pred = knn_classifier.predict(X_test)\n",
        "\n",
        "# Evaluate the model\n",
        "accuracy = accuracy_score(y_test, y_pred)\n",
        "print(\"Accuracy:\", accuracy)\n",
        "\n",
        "# Generate a classification report\n",
        "print(\"Classification Report:\")\n",
        "print(classification_report(y_test, y_pred))\n"
      ],
      "metadata": {
        "colab": {
          "base_uri": "https://localhost:8080/"
        },
        "id": "ONqJCNLHTXs8",
        "outputId": "fab83ce4-1d25-498b-cfea-53e3cef41296"
      },
      "execution_count": null,
      "outputs": [
        {
          "output_type": "stream",
          "name": "stdout",
          "text": [
            "Accuracy: 0.9919908466819222\n",
            "Classification Report:\n",
            "              precision    recall  f1-score   support\n",
            "\n",
            "   Accordion       0.99      0.99      0.99       189\n",
            "   Bass Tuba       1.00      1.00      1.00        35\n",
            "     Bassoon       1.00      1.00      1.00        49\n",
            "    Clarinet       1.00      1.00      1.00        34\n",
            "  Contrabass       1.00      1.00      1.00        95\n",
            "       Flute       1.00      0.92      0.96        39\n",
            "        Horn       1.00      0.95      0.97        39\n",
            "        Oboe       0.91      1.00      0.95        29\n",
            "    Sax_Alto       0.96      0.96      0.96        28\n",
            "    Trombone       0.95      1.00      0.97        36\n",
            "     Trumpet       1.00      1.00      1.00        32\n",
            "       Viola       1.00      1.00      1.00        86\n",
            "      Violin       1.00      1.00      1.00        89\n",
            " Violoncello       1.00      1.00      1.00        94\n",
            "\n",
            "    accuracy                           0.99       874\n",
            "   macro avg       0.99      0.99      0.99       874\n",
            "weighted avg       0.99      0.99      0.99       874\n",
            "\n"
          ]
        }
      ]
    },
    {
      "cell_type": "markdown",
      "source": [
        "# **Random Forest**"
      ],
      "metadata": {
        "id": "iKhEQIUHqIiF"
      }
    },
    {
      "cell_type": "markdown",
      "source": [
        "Using **MFCC**"
      ],
      "metadata": {
        "id": "4Peyk8w3sjmY"
      }
    },
    {
      "cell_type": "code",
      "source": [
        "import numpy as np\n",
        "import pandas as pd\n",
        "from sklearn.model_selection import train_test_split\n",
        "from sklearn.ensemble import RandomForestClassifier\n",
        "from sklearn.metrics import accuracy_score, classification_report\n",
        "\n",
        "# Load the dataset from the CSV file\n",
        "dataset_path = \"/content/drive/MyDrive/mini project/MFCC2.csv\"\n",
        "dataset = pd.read_csv(dataset_path)\n",
        "\n",
        "# Create feature matrix (X) and target labels (y)\n",
        "X = dataset.drop(columns=[\"label_list\"]).values\n",
        "y = dataset[\"label_list\"].values\n",
        "\n",
        "# Split the data into training and testing sets\n",
        "X_train, X_test, y_train, y_test = train_test_split(X, y, test_size=0.3, random_state=42)\n",
        "\n",
        "# Initialize the Random Forest classifier\n",
        "rf_classifier = RandomForestClassifier(n_estimators=100, random_state=42)\n",
        "\n",
        "# Train the Random Forest model\n",
        "rf_classifier.fit(X_train, y_train)\n",
        "\n",
        "# Make predictions on the test set\n",
        "y_pred = rf_classifier.predict(X_test)\n",
        "\n",
        "# Evaluate the model\n",
        "accuracy = accuracy_score(y_test, y_pred)\n",
        "print(\"Accuracy:\", accuracy)\n",
        "\n",
        "# Generate a classification report\n",
        "print(\"Classification Report:\")\n",
        "print(classification_report(y_test, y_pred))\n"
      ],
      "metadata": {
        "id": "4zkaqtd4rttw",
        "colab": {
          "base_uri": "https://localhost:8080/"
        },
        "outputId": "cf2dd1f5-d9f4-47b4-fe09-f3e22b895a53"
      },
      "execution_count": null,
      "outputs": [
        {
          "output_type": "stream",
          "name": "stdout",
          "text": [
            "Accuracy: 0.9473684210526315\n",
            "Classification Report:\n",
            "              precision    recall  f1-score   support\n",
            "\n",
            "   Accordion       0.94      0.97      0.96       189\n",
            "   Bass Tuba       0.92      0.97      0.94        35\n",
            "     Bassoon       0.98      0.96      0.97        49\n",
            "    Clarinet       0.92      0.71      0.80        34\n",
            "  Contrabass       0.99      1.00      0.99        95\n",
            "       Flute       0.97      0.87      0.92        39\n",
            "        Horn       0.94      0.87      0.91        39\n",
            "        Oboe       0.88      0.97      0.92        29\n",
            "    Sax_Alto       0.85      0.82      0.84        28\n",
            "    Trombone       0.92      0.92      0.92        36\n",
            "     Trumpet       0.97      0.97      0.97        32\n",
            "       Viola       0.94      0.97      0.95        86\n",
            "      Violin       0.92      0.97      0.95        89\n",
            " Violoncello       0.99      0.98      0.98        94\n",
            "\n",
            "    accuracy                           0.95       874\n",
            "   macro avg       0.94      0.92      0.93       874\n",
            "weighted avg       0.95      0.95      0.95       874\n",
            "\n"
          ]
        }
      ]
    },
    {
      "cell_type": "markdown",
      "source": [
        "**CHROMA**"
      ],
      "metadata": {
        "id": "6Wxf7fpJqrGW"
      }
    },
    {
      "cell_type": "code",
      "source": [
        "import numpy as np\n",
        "import pandas as pd\n",
        "from sklearn.model_selection import train_test_split\n",
        "from sklearn.ensemble import RandomForestClassifier\n",
        "from sklearn.metrics import accuracy_score, classification_report\n",
        "\n",
        "# Load the dataset from the CSV file\n",
        "dataset_path = \"/content/drive/MyDrive/mini project/chroma_features2.csv\"\n",
        "dataset = pd.read_csv(dataset_path)\n",
        "\n",
        "# Create feature matrix (X) and target labels (y)\n",
        "X = dataset.drop(columns=[\"label_list\"]).values\n",
        "y = dataset[\"label_list\"].values\n",
        "\n",
        "# Split the data into training and testing sets\n",
        "X_train, X_test, y_train, y_test = train_test_split(X, y, test_size=0.3, random_state=42)\n",
        "\n",
        "# Initialize the Random Forest classifier\n",
        "rf_classifier = RandomForestClassifier(n_estimators=100, random_state=42)\n",
        "\n",
        "# Train the Random Forest model\n",
        "rf_classifier.fit(X_train, y_train)\n",
        "\n",
        "# Make predictions on the test set\n",
        "y_pred = rf_classifier.predict(X_test)\n",
        "\n",
        "# Evaluate the model\n",
        "accuracy = accuracy_score(y_test, y_pred)\n",
        "print(\"Accuracy:\", accuracy)\n",
        "\n",
        "# Generate a classification report\n",
        "print(\"Classification Report:\")\n",
        "print(classification_report(y_test, y_pred))\n"
      ],
      "metadata": {
        "colab": {
          "base_uri": "https://localhost:8080/"
        },
        "id": "j8pFfFZdqd8H",
        "outputId": "31cb3af4-1b2a-4f26-9395-66fcb2e68b33"
      },
      "execution_count": null,
      "outputs": [
        {
          "output_type": "stream",
          "name": "stdout",
          "text": [
            "Accuracy: 0.6132723112128147\n",
            "Classification Report:\n",
            "              precision    recall  f1-score   support\n",
            "\n",
            "   Accordion       0.78      0.95      0.86       189\n",
            "   Bass Tuba       0.21      0.09      0.12        35\n",
            "     Bassoon       0.67      0.57      0.62        49\n",
            "    Clarinet       0.15      0.15      0.15        34\n",
            "  Contrabass       0.79      0.82      0.80        95\n",
            "       Flute       0.36      0.31      0.33        39\n",
            "        Horn       0.57      0.33      0.42        39\n",
            "        Oboe       0.41      0.52      0.45        29\n",
            "    Sax_Alto       0.12      0.11      0.11        28\n",
            "    Trombone       0.25      0.08      0.12        36\n",
            "     Trumpet       0.20      0.06      0.10        32\n",
            "       Viola       0.58      0.79      0.67        86\n",
            "      Violin       0.65      0.71      0.68        89\n",
            " Violoncello       0.64      0.67      0.66        94\n",
            "\n",
            "    accuracy                           0.61       874\n",
            "   macro avg       0.45      0.44      0.43       874\n",
            "weighted avg       0.57      0.61      0.58       874\n",
            "\n"
          ]
        }
      ]
    },
    {
      "cell_type": "markdown",
      "source": [
        "**WAVELET Transform**"
      ],
      "metadata": {
        "id": "geSEmRAFqv3m"
      }
    },
    {
      "cell_type": "code",
      "source": [
        "import numpy as np\n",
        "import pandas as pd\n",
        "from sklearn.model_selection import train_test_split\n",
        "from sklearn.ensemble import RandomForestClassifier\n",
        "from sklearn.metrics import accuracy_score, classification_report\n",
        "\n",
        "# Load the dataset from the CSV file\n",
        "dataset_path = \"/content/drive/MyDrive/mini project/wavelet_features2.csv\"\n",
        "dataset = pd.read_csv(dataset_path)\n",
        "\n",
        "# Create feature matrix (X) and target labels (y)\n",
        "X = dataset.drop(columns=[\"label_list\"]).values\n",
        "y = dataset[\"label_list\"].values\n",
        "\n",
        "# Split the data into training and testing sets\n",
        "X_train, X_test, y_train, y_test = train_test_split(X, y, test_size=0.2, random_state=42)\n",
        "\n",
        "# Initialize the Random Forest classifier\n",
        "rf_classifier = RandomForestClassifier(n_estimators=100, random_state=42)\n",
        "\n",
        "# Train the Random Forest model\n",
        "rf_classifier.fit(X_train, y_train)\n",
        "\n",
        "# Make predictions on the test set\n",
        "y_pred = rf_classifier.predict(X_test)\n",
        "\n",
        "# Evaluate the model\n",
        "accuracy = accuracy_score(y_test, y_pred)\n",
        "print(\"Accuracy:\", accuracy)\n",
        "\n",
        "# Generate a classification report\n",
        "print(\"Classification Report:\")\n",
        "print(classification_report(y_test, y_pred))\n"
      ],
      "metadata": {
        "colab": {
          "base_uri": "https://localhost:8080/"
        },
        "id": "OnCj_6qfq4RR",
        "outputId": "c76faf05-bc2c-4ec8-84b0-7abbdb337dfb"
      },
      "execution_count": null,
      "outputs": [
        {
          "output_type": "stream",
          "name": "stdout",
          "text": [
            "Accuracy: 0.2195540308747856\n",
            "Classification Report:\n",
            "              precision    recall  f1-score   support\n",
            "\n",
            "   Accordion       0.22      1.00      0.36       128\n",
            "   Bass Tuba       0.00      0.00      0.00        23\n",
            "     Bassoon       0.00      0.00      0.00        34\n",
            "    Clarinet       0.00      0.00      0.00        21\n",
            "  Contrabass       0.00      0.00      0.00        64\n",
            "       Flute       0.00      0.00      0.00        27\n",
            "        Horn       0.00      0.00      0.00        31\n",
            "        Oboe       0.00      0.00      0.00        20\n",
            "    Sax_Alto       0.00      0.00      0.00        12\n",
            "    Trombone       0.00      0.00      0.00        26\n",
            "     Trumpet       0.00      0.00      0.00        22\n",
            "       Viola       0.00      0.00      0.00        51\n",
            "      Violin       0.00      0.00      0.00        57\n",
            " Violoncello       0.00      0.00      0.00        67\n",
            "\n",
            "    accuracy                           0.22       583\n",
            "   macro avg       0.02      0.07      0.03       583\n",
            "weighted avg       0.05      0.22      0.08       583\n",
            "\n"
          ]
        },
        {
          "output_type": "stream",
          "name": "stderr",
          "text": [
            "/usr/local/lib/python3.10/dist-packages/sklearn/metrics/_classification.py:1344: UndefinedMetricWarning: Precision and F-score are ill-defined and being set to 0.0 in labels with no predicted samples. Use `zero_division` parameter to control this behavior.\n",
            "  _warn_prf(average, modifier, msg_start, len(result))\n",
            "/usr/local/lib/python3.10/dist-packages/sklearn/metrics/_classification.py:1344: UndefinedMetricWarning: Precision and F-score are ill-defined and being set to 0.0 in labels with no predicted samples. Use `zero_division` parameter to control this behavior.\n",
            "  _warn_prf(average, modifier, msg_start, len(result))\n",
            "/usr/local/lib/python3.10/dist-packages/sklearn/metrics/_classification.py:1344: UndefinedMetricWarning: Precision and F-score are ill-defined and being set to 0.0 in labels with no predicted samples. Use `zero_division` parameter to control this behavior.\n",
            "  _warn_prf(average, modifier, msg_start, len(result))\n"
          ]
        }
      ]
    },
    {
      "cell_type": "markdown",
      "source": [
        "**spectral contrast**"
      ],
      "metadata": {
        "id": "JpV6xgfoq8fK"
      }
    },
    {
      "cell_type": "code",
      "source": [
        "import numpy as np\n",
        "import pandas as pd\n",
        "from sklearn.model_selection import train_test_split\n",
        "from sklearn.ensemble import RandomForestClassifier\n",
        "from sklearn.metrics import accuracy_score, classification_report\n",
        "\n",
        "# Load the dataset from the CSV file\n",
        "dataset_path = \"/content/drive/MyDrive/mini project/spectral_contrast_features2.csv\"\n",
        "dataset = pd.read_csv(dataset_path)\n",
        "\n",
        "# Create feature matrix (X) and target labels (y)\n",
        "X = dataset.drop(columns=[\"label_list\"]).values\n",
        "y = dataset[\"label_list\"].values\n",
        "\n",
        "# Split the data into training and testing sets\n",
        "X_train, X_test, y_train, y_test = train_test_split(X, y, test_size=0.3, random_state=42)\n",
        "\n",
        "# Initialize the Random Forest classifier\n",
        "rf_classifier = RandomForestClassifier(n_estimators=100, random_state=42)\n",
        "\n",
        "# Train the Random Forest model\n",
        "rf_classifier.fit(X_train, y_train)\n",
        "\n",
        "# Make predictions on the test set\n",
        "y_pred = rf_classifier.predict(X_test)\n",
        "\n",
        "# Evaluate the model\n",
        "accuracy = accuracy_score(y_test, y_pred)\n",
        "print(\"Accuracy:\", accuracy)\n",
        "\n",
        "# Generate a classification report\n",
        "print(\"Classification Report:\")\n",
        "print(classification_report(y_test, y_pred))\n"
      ],
      "metadata": {
        "colab": {
          "base_uri": "https://localhost:8080/"
        },
        "id": "CPBt-lM-rECd",
        "outputId": "3e70b9f8-b9db-484f-c033-bd4b08335de6"
      },
      "execution_count": null,
      "outputs": [
        {
          "output_type": "stream",
          "name": "stdout",
          "text": [
            "Accuracy: 0.7860411899313501\n",
            "Classification Report:\n",
            "              precision    recall  f1-score   support\n",
            "\n",
            "   Accordion       0.80      0.94      0.87       189\n",
            "   Bass Tuba       0.83      0.69      0.75        35\n",
            "     Bassoon       0.69      0.49      0.57        49\n",
            "    Clarinet       0.93      0.74      0.82        34\n",
            "  Contrabass       0.83      0.95      0.89        95\n",
            "       Flute       0.82      0.85      0.84        39\n",
            "        Horn       0.68      0.59      0.63        39\n",
            "        Oboe       0.90      0.90      0.90        29\n",
            "    Sax_Alto       0.59      0.68      0.63        28\n",
            "    Trombone       0.54      0.36      0.43        36\n",
            "     Trumpet       0.68      0.66      0.67        32\n",
            "       Viola       0.75      0.77      0.76        86\n",
            "      Violin       0.84      0.80      0.82        89\n",
            " Violoncello       0.82      0.79      0.80        94\n",
            "\n",
            "    accuracy                           0.79       874\n",
            "   macro avg       0.76      0.73      0.74       874\n",
            "weighted avg       0.78      0.79      0.78       874\n",
            "\n"
          ]
        }
      ]
    },
    {
      "cell_type": "markdown",
      "source": [
        "**mixed**"
      ],
      "metadata": {
        "id": "2zSIkAVWjj0Q"
      }
    },
    {
      "cell_type": "code",
      "source": [
        "import numpy as np\n",
        "import pandas as pd\n",
        "from sklearn.model_selection import train_test_split\n",
        "from sklearn.ensemble import RandomForestClassifier\n",
        "from sklearn.metrics import accuracy_score, classification_report\n",
        "\n",
        "# Load the dataset from the CSV file\n",
        "dataset_path = \"/content/drive/MyDrive/mini project/mixed_feature2.csv\"\n",
        "dataset = pd.read_csv(dataset_path)\n",
        "\n",
        "# Create feature matrix (X) and target labels (y)\n",
        "X = dataset.drop(columns=[\"38\"]).values\n",
        "y = dataset[\"38\"].values\n",
        "\n",
        "# Split the data into training and testing sets\n",
        "X_train, X_test, y_train, y_test = train_test_split(X, y, test_size=0.3, random_state=42)\n",
        "\n",
        "# Initialize the Random Forest classifier\n",
        "rf_classifier = RandomForestClassifier(n_estimators=100, random_state=42)\n",
        "\n",
        "# Train the Random Forest model\n",
        "rf_classifier.fit(X_train, y_train)\n",
        "\n",
        "# Make predictions on the test set\n",
        "y_pred = rf_classifier.predict(X_test)\n",
        "\n",
        "# Evaluate the model\n",
        "accuracy = accuracy_score(y_test, y_pred)\n",
        "print(\"Accuracy:\", accuracy)\n",
        "\n",
        "# Generate a classification report\n",
        "print(\"Classification Report:\")\n",
        "print(classification_report(y_test, y_pred))\n"
      ],
      "metadata": {
        "colab": {
          "base_uri": "https://localhost:8080/"
        },
        "id": "KdVVNdumoqpD",
        "outputId": "6b2b3990-3c2d-470b-cd60-2b219404f6b8"
      },
      "execution_count": null,
      "outputs": [
        {
          "output_type": "stream",
          "name": "stdout",
          "text": [
            "Accuracy: 0.982837528604119\n",
            "Classification Report:\n",
            "              precision    recall  f1-score   support\n",
            "\n",
            "   Accordion       0.98      1.00      0.99       189\n",
            "   Bass Tuba       0.95      1.00      0.97        35\n",
            "     Bassoon       1.00      1.00      1.00        49\n",
            "    Clarinet       1.00      0.94      0.97        34\n",
            "  Contrabass       0.99      1.00      0.99        95\n",
            "       Flute       0.97      0.95      0.96        39\n",
            "        Horn       1.00      0.97      0.99        39\n",
            "        Oboe       1.00      1.00      1.00        29\n",
            "    Sax_Alto       0.93      0.96      0.95        28\n",
            "    Trombone       0.97      0.97      0.97        36\n",
            "     Trumpet       1.00      0.97      0.98        32\n",
            "       Viola       0.99      0.95      0.97        86\n",
            "      Violin       0.98      0.97      0.97        89\n",
            " Violoncello       0.99      1.00      0.99        94\n",
            "\n",
            "    accuracy                           0.98       874\n",
            "   macro avg       0.98      0.98      0.98       874\n",
            "weighted avg       0.98      0.98      0.98       874\n",
            "\n"
          ]
        }
      ]
    },
    {
      "cell_type": "code",
      "source": [
        "dataset"
      ],
      "metadata": {
        "colab": {
          "base_uri": "https://localhost:8080/"
        },
        "id": "EscLrN7x7ZPs",
        "outputId": "7d920121-c688-4c9f-a89f-20e975feeeda"
      },
      "execution_count": null,
      "outputs": [
        {
          "output_type": "execute_result",
          "data": {
            "text/plain": [
              "      Unnamed: 0          0           1          2          3          4  \\\n",
              "0              0 -659.21630   18.278786 -12.107536  44.013153 -13.154768   \n",
              "1              1 -533.87380   33.250694 -24.455145  43.151917 -25.093418   \n",
              "2              2 -468.43643   11.820848 -19.447367  33.744300 -24.006926   \n",
              "3              3 -594.96625   10.194246  -8.782218  40.609173 -10.718865   \n",
              "4              4 -635.07110   58.709858 -32.574550  46.426970 -21.101156   \n",
              "...          ...        ...         ...        ...        ...        ...   \n",
              "2908        2908 -853.85474   30.689743  24.807337  27.891415  24.391132   \n",
              "2909        2909 -515.60620  117.292404 -28.858470  -0.166154 -22.809288   \n",
              "2910        2910 -483.52502  122.156690 -39.812244  -3.797422  -9.360095   \n",
              "2911        2911 -838.04193   21.284880  18.860140  30.818695  22.122593   \n",
              "2912        2912 -555.97780   84.719690 -35.458614  17.262340   1.335765   \n",
              "\n",
              "              5          6          7          8  ...         29         30  \\\n",
              "0      5.019222  -5.396541  -3.083084  -9.133388  ...  21.314483  16.162295   \n",
              "1    -10.435495 -19.112411 -15.169186  -7.704080  ...  20.374345  15.423609   \n",
              "2    -10.317425 -12.795439 -13.549147 -10.402909  ...  21.514069  17.738277   \n",
              "3      0.291726  -3.624802  -6.048359  -7.304923  ...  22.624560  18.797797   \n",
              "4      1.964660 -16.300379  -8.601916   4.498190  ...  18.141995  13.921893   \n",
              "...         ...        ...        ...        ...  ...        ...        ...   \n",
              "2908   1.348291  10.089901  27.455496   7.106500  ...  23.438054  16.812360   \n",
              "2909  10.571767  -7.357612   1.925440   9.165670  ...  18.572611  15.719823   \n",
              "2910  -2.103504   1.424180  -3.274032  -0.363364  ...  18.595865  16.487032   \n",
              "2911   1.856854  12.400106  22.434920   5.217744  ...  27.156039  21.744066   \n",
              "2912  18.982141   4.952482  -4.093780  -2.035099  ...  19.896356  16.384535   \n",
              "\n",
              "             31         32         33         34         35         36  \\\n",
              "0     15.162575  25.197684  22.266555  26.871772  26.033675  21.314483   \n",
              "1     15.484341  25.202887  24.579884  26.081575  25.067514  20.374345   \n",
              "2     16.281310  26.613672  24.604883  27.214358  26.568307  21.514069   \n",
              "3     15.776857  25.668242  23.883489  27.364402  28.478042  22.624560   \n",
              "4     23.834682  24.589448  26.844933  20.721276  21.594385  18.141995   \n",
              "...         ...        ...        ...        ...        ...        ...   \n",
              "2908  20.090048  10.443753  12.450319  30.848957  21.604394  23.438054   \n",
              "2909  24.028890  17.766160  20.336524  20.065962  18.779595  18.572611   \n",
              "2910  23.615017  17.293229  20.440290  20.330123  22.441011  18.595865   \n",
              "2911  18.793144  10.396214  12.444192  32.240963  25.115234  27.156039   \n",
              "2912  21.555371  15.778265  18.424347  21.651723  22.902837  19.896356   \n",
              "\n",
              "             37         38  \n",
              "0     16.162295     Violin  \n",
              "1     15.423609     Violin  \n",
              "2     17.738277     Violin  \n",
              "3     18.797797     Violin  \n",
              "4     13.921893     Violin  \n",
              "...         ...        ...  \n",
              "2908  16.812360  Accordion  \n",
              "2909  15.719823  Accordion  \n",
              "2910  16.487032  Accordion  \n",
              "2911  21.744066  Accordion  \n",
              "2912  16.384535  Accordion  \n",
              "\n",
              "[2913 rows x 40 columns]"
            ],
            "text/html": [
              "\n",
              "  <div id=\"df-e54ccabc-fe8c-4061-8b3c-9c759dc776fa\" class=\"colab-df-container\">\n",
              "    <div>\n",
              "<style scoped>\n",
              "    .dataframe tbody tr th:only-of-type {\n",
              "        vertical-align: middle;\n",
              "    }\n",
              "\n",
              "    .dataframe tbody tr th {\n",
              "        vertical-align: top;\n",
              "    }\n",
              "\n",
              "    .dataframe thead th {\n",
              "        text-align: right;\n",
              "    }\n",
              "</style>\n",
              "<table border=\"1\" class=\"dataframe\">\n",
              "  <thead>\n",
              "    <tr style=\"text-align: right;\">\n",
              "      <th></th>\n",
              "      <th>Unnamed: 0</th>\n",
              "      <th>0</th>\n",
              "      <th>1</th>\n",
              "      <th>2</th>\n",
              "      <th>3</th>\n",
              "      <th>4</th>\n",
              "      <th>5</th>\n",
              "      <th>6</th>\n",
              "      <th>7</th>\n",
              "      <th>8</th>\n",
              "      <th>...</th>\n",
              "      <th>29</th>\n",
              "      <th>30</th>\n",
              "      <th>31</th>\n",
              "      <th>32</th>\n",
              "      <th>33</th>\n",
              "      <th>34</th>\n",
              "      <th>35</th>\n",
              "      <th>36</th>\n",
              "      <th>37</th>\n",
              "      <th>38</th>\n",
              "    </tr>\n",
              "  </thead>\n",
              "  <tbody>\n",
              "    <tr>\n",
              "      <th>0</th>\n",
              "      <td>0</td>\n",
              "      <td>-659.21630</td>\n",
              "      <td>18.278786</td>\n",
              "      <td>-12.107536</td>\n",
              "      <td>44.013153</td>\n",
              "      <td>-13.154768</td>\n",
              "      <td>5.019222</td>\n",
              "      <td>-5.396541</td>\n",
              "      <td>-3.083084</td>\n",
              "      <td>-9.133388</td>\n",
              "      <td>...</td>\n",
              "      <td>21.314483</td>\n",
              "      <td>16.162295</td>\n",
              "      <td>15.162575</td>\n",
              "      <td>25.197684</td>\n",
              "      <td>22.266555</td>\n",
              "      <td>26.871772</td>\n",
              "      <td>26.033675</td>\n",
              "      <td>21.314483</td>\n",
              "      <td>16.162295</td>\n",
              "      <td>Violin</td>\n",
              "    </tr>\n",
              "    <tr>\n",
              "      <th>1</th>\n",
              "      <td>1</td>\n",
              "      <td>-533.87380</td>\n",
              "      <td>33.250694</td>\n",
              "      <td>-24.455145</td>\n",
              "      <td>43.151917</td>\n",
              "      <td>-25.093418</td>\n",
              "      <td>-10.435495</td>\n",
              "      <td>-19.112411</td>\n",
              "      <td>-15.169186</td>\n",
              "      <td>-7.704080</td>\n",
              "      <td>...</td>\n",
              "      <td>20.374345</td>\n",
              "      <td>15.423609</td>\n",
              "      <td>15.484341</td>\n",
              "      <td>25.202887</td>\n",
              "      <td>24.579884</td>\n",
              "      <td>26.081575</td>\n",
              "      <td>25.067514</td>\n",
              "      <td>20.374345</td>\n",
              "      <td>15.423609</td>\n",
              "      <td>Violin</td>\n",
              "    </tr>\n",
              "    <tr>\n",
              "      <th>2</th>\n",
              "      <td>2</td>\n",
              "      <td>-468.43643</td>\n",
              "      <td>11.820848</td>\n",
              "      <td>-19.447367</td>\n",
              "      <td>33.744300</td>\n",
              "      <td>-24.006926</td>\n",
              "      <td>-10.317425</td>\n",
              "      <td>-12.795439</td>\n",
              "      <td>-13.549147</td>\n",
              "      <td>-10.402909</td>\n",
              "      <td>...</td>\n",
              "      <td>21.514069</td>\n",
              "      <td>17.738277</td>\n",
              "      <td>16.281310</td>\n",
              "      <td>26.613672</td>\n",
              "      <td>24.604883</td>\n",
              "      <td>27.214358</td>\n",
              "      <td>26.568307</td>\n",
              "      <td>21.514069</td>\n",
              "      <td>17.738277</td>\n",
              "      <td>Violin</td>\n",
              "    </tr>\n",
              "    <tr>\n",
              "      <th>3</th>\n",
              "      <td>3</td>\n",
              "      <td>-594.96625</td>\n",
              "      <td>10.194246</td>\n",
              "      <td>-8.782218</td>\n",
              "      <td>40.609173</td>\n",
              "      <td>-10.718865</td>\n",
              "      <td>0.291726</td>\n",
              "      <td>-3.624802</td>\n",
              "      <td>-6.048359</td>\n",
              "      <td>-7.304923</td>\n",
              "      <td>...</td>\n",
              "      <td>22.624560</td>\n",
              "      <td>18.797797</td>\n",
              "      <td>15.776857</td>\n",
              "      <td>25.668242</td>\n",
              "      <td>23.883489</td>\n",
              "      <td>27.364402</td>\n",
              "      <td>28.478042</td>\n",
              "      <td>22.624560</td>\n",
              "      <td>18.797797</td>\n",
              "      <td>Violin</td>\n",
              "    </tr>\n",
              "    <tr>\n",
              "      <th>4</th>\n",
              "      <td>4</td>\n",
              "      <td>-635.07110</td>\n",
              "      <td>58.709858</td>\n",
              "      <td>-32.574550</td>\n",
              "      <td>46.426970</td>\n",
              "      <td>-21.101156</td>\n",
              "      <td>1.964660</td>\n",
              "      <td>-16.300379</td>\n",
              "      <td>-8.601916</td>\n",
              "      <td>4.498190</td>\n",
              "      <td>...</td>\n",
              "      <td>18.141995</td>\n",
              "      <td>13.921893</td>\n",
              "      <td>23.834682</td>\n",
              "      <td>24.589448</td>\n",
              "      <td>26.844933</td>\n",
              "      <td>20.721276</td>\n",
              "      <td>21.594385</td>\n",
              "      <td>18.141995</td>\n",
              "      <td>13.921893</td>\n",
              "      <td>Violin</td>\n",
              "    </tr>\n",
              "    <tr>\n",
              "      <th>...</th>\n",
              "      <td>...</td>\n",
              "      <td>...</td>\n",
              "      <td>...</td>\n",
              "      <td>...</td>\n",
              "      <td>...</td>\n",
              "      <td>...</td>\n",
              "      <td>...</td>\n",
              "      <td>...</td>\n",
              "      <td>...</td>\n",
              "      <td>...</td>\n",
              "      <td>...</td>\n",
              "      <td>...</td>\n",
              "      <td>...</td>\n",
              "      <td>...</td>\n",
              "      <td>...</td>\n",
              "      <td>...</td>\n",
              "      <td>...</td>\n",
              "      <td>...</td>\n",
              "      <td>...</td>\n",
              "      <td>...</td>\n",
              "      <td>...</td>\n",
              "    </tr>\n",
              "    <tr>\n",
              "      <th>2908</th>\n",
              "      <td>2908</td>\n",
              "      <td>-853.85474</td>\n",
              "      <td>30.689743</td>\n",
              "      <td>24.807337</td>\n",
              "      <td>27.891415</td>\n",
              "      <td>24.391132</td>\n",
              "      <td>1.348291</td>\n",
              "      <td>10.089901</td>\n",
              "      <td>27.455496</td>\n",
              "      <td>7.106500</td>\n",
              "      <td>...</td>\n",
              "      <td>23.438054</td>\n",
              "      <td>16.812360</td>\n",
              "      <td>20.090048</td>\n",
              "      <td>10.443753</td>\n",
              "      <td>12.450319</td>\n",
              "      <td>30.848957</td>\n",
              "      <td>21.604394</td>\n",
              "      <td>23.438054</td>\n",
              "      <td>16.812360</td>\n",
              "      <td>Accordion</td>\n",
              "    </tr>\n",
              "    <tr>\n",
              "      <th>2909</th>\n",
              "      <td>2909</td>\n",
              "      <td>-515.60620</td>\n",
              "      <td>117.292404</td>\n",
              "      <td>-28.858470</td>\n",
              "      <td>-0.166154</td>\n",
              "      <td>-22.809288</td>\n",
              "      <td>10.571767</td>\n",
              "      <td>-7.357612</td>\n",
              "      <td>1.925440</td>\n",
              "      <td>9.165670</td>\n",
              "      <td>...</td>\n",
              "      <td>18.572611</td>\n",
              "      <td>15.719823</td>\n",
              "      <td>24.028890</td>\n",
              "      <td>17.766160</td>\n",
              "      <td>20.336524</td>\n",
              "      <td>20.065962</td>\n",
              "      <td>18.779595</td>\n",
              "      <td>18.572611</td>\n",
              "      <td>15.719823</td>\n",
              "      <td>Accordion</td>\n",
              "    </tr>\n",
              "    <tr>\n",
              "      <th>2910</th>\n",
              "      <td>2910</td>\n",
              "      <td>-483.52502</td>\n",
              "      <td>122.156690</td>\n",
              "      <td>-39.812244</td>\n",
              "      <td>-3.797422</td>\n",
              "      <td>-9.360095</td>\n",
              "      <td>-2.103504</td>\n",
              "      <td>1.424180</td>\n",
              "      <td>-3.274032</td>\n",
              "      <td>-0.363364</td>\n",
              "      <td>...</td>\n",
              "      <td>18.595865</td>\n",
              "      <td>16.487032</td>\n",
              "      <td>23.615017</td>\n",
              "      <td>17.293229</td>\n",
              "      <td>20.440290</td>\n",
              "      <td>20.330123</td>\n",
              "      <td>22.441011</td>\n",
              "      <td>18.595865</td>\n",
              "      <td>16.487032</td>\n",
              "      <td>Accordion</td>\n",
              "    </tr>\n",
              "    <tr>\n",
              "      <th>2911</th>\n",
              "      <td>2911</td>\n",
              "      <td>-838.04193</td>\n",
              "      <td>21.284880</td>\n",
              "      <td>18.860140</td>\n",
              "      <td>30.818695</td>\n",
              "      <td>22.122593</td>\n",
              "      <td>1.856854</td>\n",
              "      <td>12.400106</td>\n",
              "      <td>22.434920</td>\n",
              "      <td>5.217744</td>\n",
              "      <td>...</td>\n",
              "      <td>27.156039</td>\n",
              "      <td>21.744066</td>\n",
              "      <td>18.793144</td>\n",
              "      <td>10.396214</td>\n",
              "      <td>12.444192</td>\n",
              "      <td>32.240963</td>\n",
              "      <td>25.115234</td>\n",
              "      <td>27.156039</td>\n",
              "      <td>21.744066</td>\n",
              "      <td>Accordion</td>\n",
              "    </tr>\n",
              "    <tr>\n",
              "      <th>2912</th>\n",
              "      <td>2912</td>\n",
              "      <td>-555.97780</td>\n",
              "      <td>84.719690</td>\n",
              "      <td>-35.458614</td>\n",
              "      <td>17.262340</td>\n",
              "      <td>1.335765</td>\n",
              "      <td>18.982141</td>\n",
              "      <td>4.952482</td>\n",
              "      <td>-4.093780</td>\n",
              "      <td>-2.035099</td>\n",
              "      <td>...</td>\n",
              "      <td>19.896356</td>\n",
              "      <td>16.384535</td>\n",
              "      <td>21.555371</td>\n",
              "      <td>15.778265</td>\n",
              "      <td>18.424347</td>\n",
              "      <td>21.651723</td>\n",
              "      <td>22.902837</td>\n",
              "      <td>19.896356</td>\n",
              "      <td>16.384535</td>\n",
              "      <td>Accordion</td>\n",
              "    </tr>\n",
              "  </tbody>\n",
              "</table>\n",
              "<p>2913 rows × 40 columns</p>\n",
              "</div>\n",
              "    <div class=\"colab-df-buttons\">\n",
              "\n",
              "  <div class=\"colab-df-container\">\n",
              "    <button class=\"colab-df-convert\" onclick=\"convertToInteractive('df-e54ccabc-fe8c-4061-8b3c-9c759dc776fa')\"\n",
              "            title=\"Convert this dataframe to an interactive table.\"\n",
              "            style=\"display:none;\">\n",
              "\n",
              "  <svg xmlns=\"http://www.w3.org/2000/svg\" height=\"24px\" viewBox=\"0 -960 960 960\">\n",
              "    <path d=\"M120-120v-720h720v720H120Zm60-500h600v-160H180v160Zm220 220h160v-160H400v160Zm0 220h160v-160H400v160ZM180-400h160v-160H180v160Zm440 0h160v-160H620v160ZM180-180h160v-160H180v160Zm440 0h160v-160H620v160Z\"/>\n",
              "  </svg>\n",
              "    </button>\n",
              "\n",
              "  <style>\n",
              "    .colab-df-container {\n",
              "      display:flex;\n",
              "      gap: 12px;\n",
              "    }\n",
              "\n",
              "    .colab-df-convert {\n",
              "      background-color: #E8F0FE;\n",
              "      border: none;\n",
              "      border-radius: 50%;\n",
              "      cursor: pointer;\n",
              "      display: none;\n",
              "      fill: #1967D2;\n",
              "      height: 32px;\n",
              "      padding: 0 0 0 0;\n",
              "      width: 32px;\n",
              "    }\n",
              "\n",
              "    .colab-df-convert:hover {\n",
              "      background-color: #E2EBFA;\n",
              "      box-shadow: 0px 1px 2px rgba(60, 64, 67, 0.3), 0px 1px 3px 1px rgba(60, 64, 67, 0.15);\n",
              "      fill: #174EA6;\n",
              "    }\n",
              "\n",
              "    .colab-df-buttons div {\n",
              "      margin-bottom: 4px;\n",
              "    }\n",
              "\n",
              "    [theme=dark] .colab-df-convert {\n",
              "      background-color: #3B4455;\n",
              "      fill: #D2E3FC;\n",
              "    }\n",
              "\n",
              "    [theme=dark] .colab-df-convert:hover {\n",
              "      background-color: #434B5C;\n",
              "      box-shadow: 0px 1px 3px 1px rgba(0, 0, 0, 0.15);\n",
              "      filter: drop-shadow(0px 1px 2px rgba(0, 0, 0, 0.3));\n",
              "      fill: #FFFFFF;\n",
              "    }\n",
              "  </style>\n",
              "\n",
              "    <script>\n",
              "      const buttonEl =\n",
              "        document.querySelector('#df-e54ccabc-fe8c-4061-8b3c-9c759dc776fa button.colab-df-convert');\n",
              "      buttonEl.style.display =\n",
              "        google.colab.kernel.accessAllowed ? 'block' : 'none';\n",
              "\n",
              "      async function convertToInteractive(key) {\n",
              "        const element = document.querySelector('#df-e54ccabc-fe8c-4061-8b3c-9c759dc776fa');\n",
              "        const dataTable =\n",
              "          await google.colab.kernel.invokeFunction('convertToInteractive',\n",
              "                                                    [key], {});\n",
              "        if (!dataTable) return;\n",
              "\n",
              "        const docLinkHtml = 'Like what you see? Visit the ' +\n",
              "          '<a target=\"_blank\" href=https://colab.research.google.com/notebooks/data_table.ipynb>data table notebook</a>'\n",
              "          + ' to learn more about interactive tables.';\n",
              "        element.innerHTML = '';\n",
              "        dataTable['output_type'] = 'display_data';\n",
              "        await google.colab.output.renderOutput(dataTable, element);\n",
              "        const docLink = document.createElement('div');\n",
              "        docLink.innerHTML = docLinkHtml;\n",
              "        element.appendChild(docLink);\n",
              "      }\n",
              "    </script>\n",
              "  </div>\n",
              "\n",
              "\n",
              "<div id=\"df-15525740-71f4-4e64-8709-a057f09d3824\">\n",
              "  <button class=\"colab-df-quickchart\" onclick=\"quickchart('df-15525740-71f4-4e64-8709-a057f09d3824')\"\n",
              "            title=\"Suggest charts.\"\n",
              "            style=\"display:none;\">\n",
              "\n",
              "<svg xmlns=\"http://www.w3.org/2000/svg\" height=\"24px\"viewBox=\"0 0 24 24\"\n",
              "     width=\"24px\">\n",
              "    <g>\n",
              "        <path d=\"M19 3H5c-1.1 0-2 .9-2 2v14c0 1.1.9 2 2 2h14c1.1 0 2-.9 2-2V5c0-1.1-.9-2-2-2zM9 17H7v-7h2v7zm4 0h-2V7h2v10zm4 0h-2v-4h2v4z\"/>\n",
              "    </g>\n",
              "</svg>\n",
              "  </button>\n",
              "\n",
              "<style>\n",
              "  .colab-df-quickchart {\n",
              "      --bg-color: #E8F0FE;\n",
              "      --fill-color: #1967D2;\n",
              "      --hover-bg-color: #E2EBFA;\n",
              "      --hover-fill-color: #174EA6;\n",
              "      --disabled-fill-color: #AAA;\n",
              "      --disabled-bg-color: #DDD;\n",
              "  }\n",
              "\n",
              "  [theme=dark] .colab-df-quickchart {\n",
              "      --bg-color: #3B4455;\n",
              "      --fill-color: #D2E3FC;\n",
              "      --hover-bg-color: #434B5C;\n",
              "      --hover-fill-color: #FFFFFF;\n",
              "      --disabled-bg-color: #3B4455;\n",
              "      --disabled-fill-color: #666;\n",
              "  }\n",
              "\n",
              "  .colab-df-quickchart {\n",
              "    background-color: var(--bg-color);\n",
              "    border: none;\n",
              "    border-radius: 50%;\n",
              "    cursor: pointer;\n",
              "    display: none;\n",
              "    fill: var(--fill-color);\n",
              "    height: 32px;\n",
              "    padding: 0;\n",
              "    width: 32px;\n",
              "  }\n",
              "\n",
              "  .colab-df-quickchart:hover {\n",
              "    background-color: var(--hover-bg-color);\n",
              "    box-shadow: 0 1px 2px rgba(60, 64, 67, 0.3), 0 1px 3px 1px rgba(60, 64, 67, 0.15);\n",
              "    fill: var(--button-hover-fill-color);\n",
              "  }\n",
              "\n",
              "  .colab-df-quickchart-complete:disabled,\n",
              "  .colab-df-quickchart-complete:disabled:hover {\n",
              "    background-color: var(--disabled-bg-color);\n",
              "    fill: var(--disabled-fill-color);\n",
              "    box-shadow: none;\n",
              "  }\n",
              "\n",
              "  .colab-df-spinner {\n",
              "    border: 2px solid var(--fill-color);\n",
              "    border-color: transparent;\n",
              "    border-bottom-color: var(--fill-color);\n",
              "    animation:\n",
              "      spin 1s steps(1) infinite;\n",
              "  }\n",
              "\n",
              "  @keyframes spin {\n",
              "    0% {\n",
              "      border-color: transparent;\n",
              "      border-bottom-color: var(--fill-color);\n",
              "      border-left-color: var(--fill-color);\n",
              "    }\n",
              "    20% {\n",
              "      border-color: transparent;\n",
              "      border-left-color: var(--fill-color);\n",
              "      border-top-color: var(--fill-color);\n",
              "    }\n",
              "    30% {\n",
              "      border-color: transparent;\n",
              "      border-left-color: var(--fill-color);\n",
              "      border-top-color: var(--fill-color);\n",
              "      border-right-color: var(--fill-color);\n",
              "    }\n",
              "    40% {\n",
              "      border-color: transparent;\n",
              "      border-right-color: var(--fill-color);\n",
              "      border-top-color: var(--fill-color);\n",
              "    }\n",
              "    60% {\n",
              "      border-color: transparent;\n",
              "      border-right-color: var(--fill-color);\n",
              "    }\n",
              "    80% {\n",
              "      border-color: transparent;\n",
              "      border-right-color: var(--fill-color);\n",
              "      border-bottom-color: var(--fill-color);\n",
              "    }\n",
              "    90% {\n",
              "      border-color: transparent;\n",
              "      border-bottom-color: var(--fill-color);\n",
              "    }\n",
              "  }\n",
              "</style>\n",
              "\n",
              "  <script>\n",
              "    async function quickchart(key) {\n",
              "      const quickchartButtonEl =\n",
              "        document.querySelector('#' + key + ' button');\n",
              "      quickchartButtonEl.disabled = true;  // To prevent multiple clicks.\n",
              "      quickchartButtonEl.classList.add('colab-df-spinner');\n",
              "      try {\n",
              "        const charts = await google.colab.kernel.invokeFunction(\n",
              "            'suggestCharts', [key], {});\n",
              "      } catch (error) {\n",
              "        console.error('Error during call to suggestCharts:', error);\n",
              "      }\n",
              "      quickchartButtonEl.classList.remove('colab-df-spinner');\n",
              "      quickchartButtonEl.classList.add('colab-df-quickchart-complete');\n",
              "    }\n",
              "    (() => {\n",
              "      let quickchartButtonEl =\n",
              "        document.querySelector('#df-15525740-71f4-4e64-8709-a057f09d3824 button');\n",
              "      quickchartButtonEl.style.display =\n",
              "        google.colab.kernel.accessAllowed ? 'block' : 'none';\n",
              "    })();\n",
              "  </script>\n",
              "</div>\n",
              "    </div>\n",
              "  </div>\n"
            ]
          },
          "metadata": {},
          "execution_count": 36
        }
      ]
    },
    {
      "cell_type": "markdown",
      "source": [
        "# CNN"
      ],
      "metadata": {
        "id": "s2cHqtkH15bZ"
      }
    },
    {
      "cell_type": "markdown",
      "source": [
        "**MfCC**"
      ],
      "metadata": {
        "id": "sJlIisiPrJuW"
      }
    },
    {
      "cell_type": "code",
      "source": [
        "import numpy as np\n",
        "import pandas as pd\n",
        "from sklearn.model_selection import train_test_split\n",
        "from sklearn.preprocessing import LabelEncoder\n",
        "from tensorflow import keras\n",
        "from tensorflow.keras import layers\n",
        "\n",
        "# Load the data from the CSV file\n",
        "data = pd.read_csv('/content/drive/MyDrive/mini project/MFCC2.csv')\n",
        "\n",
        "# Extract features and labels\n",
        "features = data.drop('label_list', axis=1).values\n",
        "labels = data['label_list'].values\n",
        "\n",
        "# Convert labels to integers using LabelEncoder\n",
        "label_encoder = LabelEncoder()\n",
        "labels = label_encoder.fit_transform(labels)\n",
        "\n",
        "# Split the data into training and testing sets\n",
        "x_train, x_test, y_train, y_test = train_test_split(features, labels, test_size=0.1, random_state=42)\n",
        "\n",
        "# Normalize the features to range [0, 1]\n",
        "x_train = x_train.astype('float32') / np.max(features)\n",
        "x_test = x_test.astype('float32') / np.max(features)\n",
        "\n",
        "# If the data is in 2D format, reshape it to 3D (num_samples, num_timesteps, num_features)\n",
        "# Example: x_train = x_train.reshape(x_train.shape[0], x_train.shape[1], 1)\n",
        "\n",
        "# Convert labels to one-hot encoding\n",
        "num_classes = len(np.unique(labels))\n",
        "y_train = keras.utils.to_categorical(y_train, num_classes)\n",
        "y_test = keras.utils.to_categorical(y_test, num_classes)\n"
      ],
      "metadata": {
        "id": "D38ejv0t0XbL"
      },
      "execution_count": null,
      "outputs": []
    },
    {
      "cell_type": "code",
      "source": [
        "\n",
        "# Create the CNN model\n",
        "model = keras.Sequential([\n",
        "    layers.Reshape((12, 1), input_shape=(12,)),  # Reshape input for CNN\n",
        "    layers.Conv1D(32, 3, activation='relu', padding='same'),\n",
        "    layers.MaxPooling1D(pool_size=2),\n",
        "    layers.Conv1D(64, 3, activation='relu', padding='same'),\n",
        "    layers.MaxPooling1D(pool_size=2),\n",
        "    layers.Flatten(),\n",
        "    layers.Dense(128, activation='relu'),\n",
        "    layers.Dense(num_classes, activation='softmax')\n",
        "])\n",
        "\n",
        "# Compile the model\n",
        "model.compile(loss='categorical_crossentropy', optimizer='adam', metrics=['accuracy'])\n"
      ],
      "metadata": {
        "id": "OXSKf9CB1o5F"
      },
      "execution_count": null,
      "outputs": []
    },
    {
      "cell_type": "code",
      "source": [
        "\n",
        "# Train the model\n",
        "batch_size = 16\n",
        "epochs = 20"
      ],
      "metadata": {
        "id": "mlV401uBz-2S"
      },
      "execution_count": null,
      "outputs": []
    },
    {
      "cell_type": "code",
      "source": [
        "model.fit(x_train, y_train, batch_size=batch_size, epochs=epochs, validation_split=0.1)"
      ],
      "metadata": {
        "id": "wMgdnnHg2gMC",
        "colab": {
          "base_uri": "https://localhost:8080/"
        },
        "outputId": "d399f8be-0577-466c-be26-9524623a0f78"
      },
      "execution_count": null,
      "outputs": [
        {
          "output_type": "stream",
          "name": "stdout",
          "text": [
            "Epoch 1/20\n",
            "148/148 [==============================] - 2s 5ms/step - loss: 2.2024 - accuracy: 0.2761 - val_loss: 1.6255 - val_accuracy: 0.4525\n",
            "Epoch 2/20\n",
            "148/148 [==============================] - 1s 3ms/step - loss: 1.2707 - accuracy: 0.5700 - val_loss: 0.9897 - val_accuracy: 0.7338\n",
            "Epoch 3/20\n",
            "148/148 [==============================] - 0s 3ms/step - loss: 0.9075 - accuracy: 0.6900 - val_loss: 0.7552 - val_accuracy: 0.7490\n",
            "Epoch 4/20\n",
            "148/148 [==============================] - 1s 6ms/step - loss: 0.7124 - accuracy: 0.7549 - val_loss: 0.6305 - val_accuracy: 0.7909\n",
            "Epoch 5/20\n",
            "148/148 [==============================] - 1s 4ms/step - loss: 0.5945 - accuracy: 0.7990 - val_loss: 0.5057 - val_accuracy: 0.8251\n",
            "Epoch 6/20\n",
            "148/148 [==============================] - 0s 3ms/step - loss: 0.5249 - accuracy: 0.8240 - val_loss: 0.4494 - val_accuracy: 0.8517\n",
            "Epoch 7/20\n",
            "148/148 [==============================] - 0s 3ms/step - loss: 0.4563 - accuracy: 0.8486 - val_loss: 0.3785 - val_accuracy: 0.8897\n",
            "Epoch 8/20\n",
            "148/148 [==============================] - 1s 3ms/step - loss: 0.4151 - accuracy: 0.8592 - val_loss: 0.3274 - val_accuracy: 0.8783\n",
            "Epoch 9/20\n",
            "148/148 [==============================] - 1s 5ms/step - loss: 0.3904 - accuracy: 0.8656 - val_loss: 0.3295 - val_accuracy: 0.8935\n",
            "Epoch 10/20\n",
            "148/148 [==============================] - 1s 5ms/step - loss: 0.3411 - accuracy: 0.8855 - val_loss: 0.2789 - val_accuracy: 0.9049\n",
            "Epoch 11/20\n",
            "148/148 [==============================] - 1s 4ms/step - loss: 0.3188 - accuracy: 0.8910 - val_loss: 0.2423 - val_accuracy: 0.9240\n",
            "Epoch 12/20\n",
            "148/148 [==============================] - 1s 4ms/step - loss: 0.2970 - accuracy: 0.8940 - val_loss: 0.2473 - val_accuracy: 0.9011\n",
            "Epoch 13/20\n",
            "148/148 [==============================] - 1s 4ms/step - loss: 0.2729 - accuracy: 0.9118 - val_loss: 0.2286 - val_accuracy: 0.9240\n",
            "Epoch 14/20\n",
            "148/148 [==============================] - 1s 5ms/step - loss: 0.2528 - accuracy: 0.9194 - val_loss: 0.2305 - val_accuracy: 0.9163\n",
            "Epoch 15/20\n",
            "148/148 [==============================] - 0s 3ms/step - loss: 0.2463 - accuracy: 0.9241 - val_loss: 0.2192 - val_accuracy: 0.9240\n",
            "Epoch 16/20\n",
            "148/148 [==============================] - 0s 3ms/step - loss: 0.2264 - accuracy: 0.9232 - val_loss: 0.2004 - val_accuracy: 0.9316\n",
            "Epoch 17/20\n",
            "148/148 [==============================] - 0s 3ms/step - loss: 0.2310 - accuracy: 0.9245 - val_loss: 0.1637 - val_accuracy: 0.9316\n",
            "Epoch 18/20\n",
            "148/148 [==============================] - 0s 3ms/step - loss: 0.2000 - accuracy: 0.9338 - val_loss: 0.1921 - val_accuracy: 0.9354\n",
            "Epoch 19/20\n",
            "148/148 [==============================] - 0s 3ms/step - loss: 0.1920 - accuracy: 0.9402 - val_loss: 0.1683 - val_accuracy: 0.9430\n",
            "Epoch 20/20\n",
            "148/148 [==============================] - 0s 3ms/step - loss: 0.1865 - accuracy: 0.9385 - val_loss: 0.1348 - val_accuracy: 0.9506\n"
          ]
        },
        {
          "output_type": "execute_result",
          "data": {
            "text/plain": [
              "<keras.src.callbacks.History at 0x7a68f5695900>"
            ]
          },
          "metadata": {},
          "execution_count": 40
        }
      ]
    },
    {
      "cell_type": "code",
      "source": [
        "\n",
        "# Evaluate the model\n",
        "loss, accuracy = model.evaluate(x_test, y_test)\n",
        "print('Test accuracy:', accuracy)"
      ],
      "metadata": {
        "id": "Ofl8B5bA2cms",
        "colab": {
          "base_uri": "https://localhost:8080/"
        },
        "outputId": "8ee20893-51b2-45c7-a5e9-630400d4571f"
      },
      "execution_count": null,
      "outputs": [
        {
          "output_type": "stream",
          "name": "stdout",
          "text": [
            "10/10 [==============================] - 0s 3ms/step - loss: 0.1503 - accuracy: 0.9521\n",
            "Test accuracy: 0.9520547986030579\n"
          ]
        }
      ]
    },
    {
      "cell_type": "code",
      "source": [
        "# Specify the path where you want to save the model\n",
        "model_path = '/content/drive/MyDrive/CNN2_saved_model.h5'\n",
        "\n",
        "# Save the model to the specified path\n",
        "model.save(model_path)\n",
        "print(\"Model saved successfully at:\", model_path)"
      ],
      "metadata": {
        "id": "atjjlA_tbHd1",
        "colab": {
          "base_uri": "https://localhost:8080/"
        },
        "outputId": "da134022-243f-4f30-98fa-d0d2a962d0df"
      },
      "execution_count": null,
      "outputs": [
        {
          "output_type": "stream",
          "name": "stderr",
          "text": [
            "/usr/local/lib/python3.10/dist-packages/keras/src/engine/training.py:3000: UserWarning: You are saving your model as an HDF5 file via `model.save()`. This file format is considered legacy. We recommend using instead the native Keras format, e.g. `model.save('my_model.keras')`.\n",
            "  saving_api.save_model(\n"
          ]
        },
        {
          "output_type": "stream",
          "name": "stdout",
          "text": [
            "Model saved successfully at: /content/drive/MyDrive/CNN2_saved_model.h5\n"
          ]
        }
      ]
    },
    {
      "cell_type": "code",
      "source": [
        "# Make predictions on test data\n",
        "y_pred = model.predict(x_test)\n",
        "y_pred_classes = np.argmax(y_pred, axis=1)\n",
        "y_true = np.argmax(y_test, axis=1)\n",
        "\n",
        "# Calculate precision, recall, and F1-score with 'macro' averaging\n",
        "precision = precision_score(y_true, y_pred_classes, average='macro')\n",
        "recall = recall_score(y_true, y_pred_classes, average='macro')\n",
        "f1 = f1_score(y_true, y_pred_classes, average='macro')\n",
        "\n",
        "print('Macro Avg Precision:', precision)\n",
        "print('Macro Avg Recall:', recall)\n",
        "print('Macro Avg F1-score:', f1)"
      ],
      "metadata": {
        "id": "PBdxURVrFRsI",
        "colab": {
          "base_uri": "https://localhost:8080/"
        },
        "outputId": "5de8d51e-6d33-4c06-d734-58cc54dee9ff"
      },
      "execution_count": null,
      "outputs": [
        {
          "output_type": "stream",
          "name": "stdout",
          "text": [
            "10/10 [==============================] - 0s 3ms/step\n",
            "Macro Avg Precision: 0.9309917463488893\n",
            "Macro Avg Recall: 0.9336618907034685\n",
            "Macro Avg F1-score: 0.930952957635211\n"
          ]
        }
      ]
    },
    {
      "cell_type": "markdown",
      "source": [
        "**Chroma**"
      ],
      "metadata": {
        "id": "MAncPZvSrNo9"
      }
    },
    {
      "cell_type": "code",
      "source": [
        "import numpy as np\n",
        "import pandas as pd\n",
        "from sklearn.model_selection import train_test_split\n",
        "from sklearn.preprocessing import LabelEncoder\n",
        "from tensorflow import keras\n",
        "from tensorflow.keras import layers\n",
        "\n",
        "# Load the data from the CSV file\n",
        "data = pd.read_csv('/content/drive/MyDrive/mini project/chroma_features2.csv')\n",
        "\n",
        "# Extract features and labels\n",
        "features = data.drop('label_list', axis=1).values\n",
        "labels = data['label_list'].values\n",
        "\n",
        "# Convert labels to integers using LabelEncoder\n",
        "label_encoder = LabelEncoder()\n",
        "labels = label_encoder.fit_transform(labels)\n",
        "\n",
        "# Split the data into training and testing sets\n",
        "x_train, x_test, y_train, y_test = train_test_split(features, labels, test_size=0.1, random_state=42)\n",
        "\n",
        "# Normalize the features to range [0, 1]\n",
        "x_train = x_train.astype('float32') / np.max(features)\n",
        "x_test = x_test.astype('float32') / np.max(features)\n",
        "\n",
        "# If the data is in 2D format, reshape it to 3D (num_samples, num_timesteps, num_features)\n",
        "# Example: x_train = x_train.reshape(x_train.shape[0], x_train.shape[1], 1)\n",
        "\n",
        "# Convert labels to one-hot encoding\n",
        "num_classes = len(np.unique(labels))\n",
        "y_train = keras.utils.to_categorical(y_train, num_classes)\n",
        "y_test = keras.utils.to_categorical(y_test, num_classes)\n",
        "\n",
        "\n",
        "\n",
        "# Create the CNN model\n",
        "model = keras.Sequential([\n",
        "    layers.Reshape((12, 1), input_shape=(12,)),  # Reshape input for CNN\n",
        "    layers.Conv1D(32, 3, activation='relu', padding='same'),\n",
        "    layers.MaxPooling1D(pool_size=2),\n",
        "    layers.Conv1D(64, 3, activation='relu', padding='same'),\n",
        "    layers.MaxPooling1D(pool_size=2),\n",
        "    layers.Flatten(),\n",
        "    layers.Dense(128, activation='relu'),\n",
        "    layers.Dense(num_classes, activation='softmax')\n",
        "])\n",
        "\n",
        "# Compile the model\n",
        "model.compile(loss='categorical_crossentropy', optimizer='adam', metrics=['accuracy'])\n",
        "\n",
        "\n",
        "\n",
        "\n",
        "# Train the model\n",
        "batch_size = 16\n",
        "epochs = 20\n",
        "\n",
        "\n",
        "model.fit(x_train, y_train, batch_size=batch_size, epochs=epochs, validation_split=0.1)\n",
        "\n",
        "\n",
        "# Evaluate the model\n",
        "loss, accuracy = model.evaluate(x_test, y_test)\n",
        "print('Test accuracy:', accuracy)"
      ],
      "metadata": {
        "colab": {
          "base_uri": "https://localhost:8080/"
        },
        "id": "8sCHHkF7rtnO",
        "outputId": "7fd9b75a-8543-4b36-ac1e-bd034cebf452"
      },
      "execution_count": null,
      "outputs": [
        {
          "output_type": "stream",
          "name": "stdout",
          "text": [
            "Epoch 1/20\n",
            "148/148 [==============================] - 2s 4ms/step - loss: 2.2833 - accuracy: 0.2803 - val_loss: 2.0249 - val_accuracy: 0.3536\n",
            "Epoch 2/20\n",
            "148/148 [==============================] - 0s 3ms/step - loss: 1.9942 - accuracy: 0.3783 - val_loss: 1.8396 - val_accuracy: 0.4259\n",
            "Epoch 3/20\n",
            "148/148 [==============================] - 0s 3ms/step - loss: 1.8351 - accuracy: 0.4135 - val_loss: 1.7289 - val_accuracy: 0.4373\n",
            "Epoch 4/20\n",
            "148/148 [==============================] - 0s 3ms/step - loss: 1.6908 - accuracy: 0.4550 - val_loss: 1.6223 - val_accuracy: 0.4487\n",
            "Epoch 5/20\n",
            "148/148 [==============================] - 0s 3ms/step - loss: 1.5859 - accuracy: 0.4843 - val_loss: 1.5379 - val_accuracy: 0.4867\n",
            "Epoch 6/20\n",
            "148/148 [==============================] - 0s 3ms/step - loss: 1.5104 - accuracy: 0.4924 - val_loss: 1.4266 - val_accuracy: 0.4905\n",
            "Epoch 7/20\n",
            "148/148 [==============================] - 0s 3ms/step - loss: 1.4479 - accuracy: 0.4996 - val_loss: 1.3788 - val_accuracy: 0.5019\n",
            "Epoch 8/20\n",
            "148/148 [==============================] - 0s 3ms/step - loss: 1.3947 - accuracy: 0.5208 - val_loss: 1.2995 - val_accuracy: 0.5247\n",
            "Epoch 9/20\n",
            "148/148 [==============================] - 0s 3ms/step - loss: 1.3514 - accuracy: 0.5471 - val_loss: 1.2706 - val_accuracy: 0.5399\n",
            "Epoch 10/20\n",
            "148/148 [==============================] - 0s 3ms/step - loss: 1.2892 - accuracy: 0.5420 - val_loss: 1.2334 - val_accuracy: 0.5589\n",
            "Epoch 11/20\n",
            "148/148 [==============================] - 0s 3ms/step - loss: 1.2766 - accuracy: 0.5500 - val_loss: 1.2091 - val_accuracy: 0.5513\n",
            "Epoch 12/20\n",
            "148/148 [==============================] - 1s 5ms/step - loss: 1.2599 - accuracy: 0.5623 - val_loss: 1.1770 - val_accuracy: 0.5627\n",
            "Epoch 13/20\n",
            "148/148 [==============================] - 1s 5ms/step - loss: 1.2260 - accuracy: 0.5696 - val_loss: 1.1902 - val_accuracy: 0.5551\n",
            "Epoch 14/20\n",
            "148/148 [==============================] - 1s 5ms/step - loss: 1.1990 - accuracy: 0.5729 - val_loss: 1.2590 - val_accuracy: 0.5323\n",
            "Epoch 15/20\n",
            "148/148 [==============================] - 1s 5ms/step - loss: 1.1831 - accuracy: 0.5865 - val_loss: 1.1408 - val_accuracy: 0.5703\n",
            "Epoch 16/20\n",
            "148/148 [==============================] - 1s 5ms/step - loss: 1.1711 - accuracy: 0.5963 - val_loss: 1.1369 - val_accuracy: 0.5856\n",
            "Epoch 17/20\n",
            "148/148 [==============================] - 1s 5ms/step - loss: 1.1483 - accuracy: 0.5937 - val_loss: 1.1179 - val_accuracy: 0.6008\n",
            "Epoch 18/20\n",
            "148/148 [==============================] - 0s 3ms/step - loss: 1.1274 - accuracy: 0.6124 - val_loss: 1.1042 - val_accuracy: 0.6008\n",
            "Epoch 19/20\n",
            "148/148 [==============================] - 0s 3ms/step - loss: 1.0982 - accuracy: 0.6230 - val_loss: 1.1332 - val_accuracy: 0.5817\n",
            "Epoch 20/20\n",
            "148/148 [==============================] - 0s 3ms/step - loss: 1.1010 - accuracy: 0.6090 - val_loss: 1.0836 - val_accuracy: 0.6046\n",
            "10/10 [==============================] - 0s 4ms/step - loss: 1.1525 - accuracy: 0.6199\n",
            "Test accuracy: 0.6198630332946777\n"
          ]
        }
      ]
    },
    {
      "cell_type": "code",
      "source": [
        "# Make predictions on test data\n",
        "y_pred = model.predict(x_test)\n",
        "y_pred_classes = np.argmax(y_pred, axis=1)\n",
        "y_true = np.argmax(y_test, axis=1)\n",
        "\n",
        "# Calculate precision, recall, and F1-score with 'macro' averaging\n",
        "precision = precision_score(y_true, y_pred_classes, average='macro')\n",
        "recall = recall_score(y_true, y_pred_classes, average='macro')\n",
        "f1 = f1_score(y_true, y_pred_classes, average='macro')\n",
        "\n",
        "print('Macro Avg Precision:', precision)\n",
        "print('Macro Avg Recall:', recall)\n",
        "print('Macro Avg F1-score:', f1)"
      ],
      "metadata": {
        "colab": {
          "base_uri": "https://localhost:8080/"
        },
        "id": "lnDeGmS3Fvy9",
        "outputId": "b3f76f9a-0704-4222-e6ef-22923bc72a6b"
      },
      "execution_count": null,
      "outputs": [
        {
          "output_type": "stream",
          "name": "stdout",
          "text": [
            "10/10 [==============================] - 0s 3ms/step\n",
            "Macro Avg Precision: 0.45803229470565976\n",
            "Macro Avg Recall: 0.4769862261781866\n",
            "Macro Avg F1-score: 0.447248771430309\n"
          ]
        },
        {
          "output_type": "stream",
          "name": "stderr",
          "text": [
            "/usr/local/lib/python3.10/dist-packages/sklearn/metrics/_classification.py:1344: UndefinedMetricWarning: Precision is ill-defined and being set to 0.0 in labels with no predicted samples. Use `zero_division` parameter to control this behavior.\n",
            "  _warn_prf(average, modifier, msg_start, len(result))\n"
          ]
        }
      ]
    },
    {
      "cell_type": "markdown",
      "source": [
        "wavelet transform"
      ],
      "metadata": {
        "id": "_VihPIHVrujR"
      }
    },
    {
      "cell_type": "code",
      "source": [
        "import numpy as np\n",
        "import pandas as pd\n",
        "from sklearn.model_selection import train_test_split\n",
        "from sklearn.preprocessing import LabelEncoder\n",
        "from tensorflow import keras\n",
        "from tensorflow.keras import layers\n",
        "\n",
        "# Load the data from the CSV file\n",
        "data = pd.read_csv('/content/drive/MyDrive/mini project/wavelet_features2.csv')\n",
        "\n",
        "# Extract features and labels\n",
        "features = data.drop('label_list', axis=1).values\n",
        "labels = data['label_list'].values\n",
        "\n",
        "# Convert labels to integers using LabelEncoder\n",
        "label_encoder = LabelEncoder()\n",
        "labels = label_encoder.fit_transform(labels)\n",
        "\n",
        "# Split the data into training and testing sets\n",
        "x_train, x_test, y_train, y_test = train_test_split(features, labels, test_size=0.2, random_state=42)\n",
        "\n",
        "# Normalize the features to range [0, 1]\n",
        "x_train = x_train.astype('float32') / np.max(features)\n",
        "x_test = x_test.astype('float32') / np.max(features)\n",
        "\n",
        "# If the data is in 2D format, reshape it to 3D (num_samples, num_timesteps, num_features)\n",
        "# Example: x_train = x_train.reshape(x_train.shape[0], x_train.shape[1], 1)\n",
        "\n",
        "# Convert labels to one-hot encoding\n",
        "num_classes = len(np.unique(labels))\n",
        "y_train = keras.utils.to_categorical(y_train, num_classes)\n",
        "y_test = keras.utils.to_categorical(y_test, num_classes)\n",
        "\n",
        "\n",
        "\n",
        "# Create the CNN model\n",
        "model = keras.Sequential([\n",
        "    layers.Reshape((10, 1), input_shape=(10,)),  # Reshape input for CNN\n",
        "    layers.Conv1D(32, 3, activation='relu', padding='same'),\n",
        "    layers.MaxPooling1D(pool_size=2),\n",
        "    layers.Conv1D(64, 3, activation='relu', padding='same'),\n",
        "    layers.MaxPooling1D(pool_size=2),\n",
        "    layers.Flatten(),\n",
        "    layers.Dense(128, activation='relu'),\n",
        "    layers.Dense(num_classes, activation='softmax')\n",
        "])\n",
        "\n",
        "# Compile the model\n",
        "model.compile(loss='categorical_crossentropy', optimizer='adam', metrics=['accuracy'])\n",
        "\n",
        "\n",
        "\n",
        "\n",
        "# Train the model\n",
        "batch_size = 16\n",
        "epochs = 20\n",
        "\n",
        "\n",
        "model.fit(x_train, y_train, batch_size=batch_size, epochs=epochs, validation_split=0.1)\n",
        "\n",
        "\n",
        "# Evaluate the model\n",
        "loss, accuracy = model.evaluate(x_test, y_test)\n",
        "print('Test accuracy:', accuracy)"
      ],
      "metadata": {
        "id": "UQ6Bfn64ryMZ",
        "colab": {
          "base_uri": "https://localhost:8080/"
        },
        "outputId": "01d4fc98-fd1c-4be1-d552-fafefcd94a2c"
      },
      "execution_count": null,
      "outputs": [
        {
          "output_type": "stream",
          "name": "stdout",
          "text": [
            "Epoch 1/20\n",
            "132/132 [==============================] - 2s 7ms/step - loss: 2.4548 - accuracy: 0.2413 - val_loss: 2.3466 - val_accuracy: 0.2661\n",
            "Epoch 2/20\n",
            "132/132 [==============================] - 0s 3ms/step - loss: 2.3767 - accuracy: 0.2604 - val_loss: 2.3050 - val_accuracy: 0.2876\n",
            "Epoch 3/20\n",
            "132/132 [==============================] - 0s 3ms/step - loss: 2.3286 - accuracy: 0.2661 - val_loss: 2.2745 - val_accuracy: 0.2918\n",
            "Epoch 4/20\n",
            "132/132 [==============================] - 0s 3ms/step - loss: 2.3048 - accuracy: 0.2694 - val_loss: 2.2895 - val_accuracy: 0.2918\n",
            "Epoch 5/20\n",
            "132/132 [==============================] - 0s 3ms/step - loss: 2.2822 - accuracy: 0.2728 - val_loss: 2.2014 - val_accuracy: 0.2918\n",
            "Epoch 6/20\n",
            "132/132 [==============================] - 0s 3ms/step - loss: 2.2454 - accuracy: 0.2756 - val_loss: 2.1746 - val_accuracy: 0.2961\n",
            "Epoch 7/20\n",
            "132/132 [==============================] - 0s 3ms/step - loss: 2.2074 - accuracy: 0.2842 - val_loss: 2.1156 - val_accuracy: 0.3133\n",
            "Epoch 8/20\n",
            "132/132 [==============================] - 0s 3ms/step - loss: 2.1657 - accuracy: 0.2842 - val_loss: 2.0784 - val_accuracy: 0.3176\n",
            "Epoch 9/20\n",
            "132/132 [==============================] - 0s 3ms/step - loss: 2.1278 - accuracy: 0.3023 - val_loss: 1.9924 - val_accuracy: 0.3305\n",
            "Epoch 10/20\n",
            "132/132 [==============================] - 0s 3ms/step - loss: 2.0862 - accuracy: 0.3038 - val_loss: 1.9743 - val_accuracy: 0.3820\n",
            "Epoch 11/20\n",
            "132/132 [==============================] - 0s 3ms/step - loss: 2.0634 - accuracy: 0.3157 - val_loss: 1.9458 - val_accuracy: 0.3305\n",
            "Epoch 12/20\n",
            "132/132 [==============================] - 0s 3ms/step - loss: 2.0358 - accuracy: 0.3171 - val_loss: 1.9207 - val_accuracy: 0.3262\n",
            "Epoch 13/20\n",
            "132/132 [==============================] - 0s 3ms/step - loss: 2.0143 - accuracy: 0.3324 - val_loss: 1.8881 - val_accuracy: 0.3605\n",
            "Epoch 14/20\n",
            "132/132 [==============================] - 0s 3ms/step - loss: 2.0088 - accuracy: 0.3324 - val_loss: 1.8634 - val_accuracy: 0.3820\n",
            "Epoch 15/20\n",
            "132/132 [==============================] - 0s 3ms/step - loss: 1.9964 - accuracy: 0.3357 - val_loss: 1.8853 - val_accuracy: 0.3562\n",
            "Epoch 16/20\n",
            "132/132 [==============================] - 0s 3ms/step - loss: 1.9830 - accuracy: 0.3381 - val_loss: 1.8700 - val_accuracy: 0.3648\n",
            "Epoch 17/20\n",
            "132/132 [==============================] - 0s 3ms/step - loss: 1.9775 - accuracy: 0.3381 - val_loss: 1.8589 - val_accuracy: 0.3519\n",
            "Epoch 18/20\n",
            "132/132 [==============================] - 0s 3ms/step - loss: 1.9614 - accuracy: 0.3438 - val_loss: 1.8531 - val_accuracy: 0.3562\n",
            "Epoch 19/20\n",
            "132/132 [==============================] - 0s 3ms/step - loss: 1.9514 - accuracy: 0.3515 - val_loss: 1.8700 - val_accuracy: 0.3648\n",
            "Epoch 20/20\n",
            "132/132 [==============================] - 0s 3ms/step - loss: 1.9538 - accuracy: 0.3457 - val_loss: 1.8565 - val_accuracy: 0.3605\n",
            "19/19 [==============================] - 0s 2ms/step - loss: 2.0154 - accuracy: 0.3190\n",
            "Test accuracy: 0.3190394639968872\n"
          ]
        }
      ]
    },
    {
      "cell_type": "markdown",
      "source": [
        "spactral contrast"
      ],
      "metadata": {
        "id": "PB9BS3yWr0qD"
      }
    },
    {
      "cell_type": "code",
      "source": [
        "import numpy as np\n",
        "import pandas as pd\n",
        "from sklearn.model_selection import train_test_split\n",
        "from sklearn.preprocessing import LabelEncoder\n",
        "from tensorflow import keras\n",
        "from tensorflow.keras import layers\n",
        "\n",
        "# Load the data from the CSV file\n",
        "data = pd.read_csv('/content/drive/MyDrive/mini project/spectral_contrast_features2.csv')\n",
        "\n",
        "# Extract features and labels\n",
        "features = data.drop('label_list', axis=1).values\n",
        "labels = data['label_list'].values\n",
        "\n",
        "# Convert labels to integers using LabelEncoder\n",
        "label_encoder = LabelEncoder()\n",
        "labels = label_encoder.fit_transform(labels)\n",
        "\n",
        "# Split the data into training and testing sets\n",
        "x_train, x_test, y_train, y_test = train_test_split(features, labels, test_size=0.1, random_state=42)\n",
        "\n",
        "# Normalize the features to range [0, 1]\n",
        "x_train = x_train.astype('float32') / np.max(features)\n",
        "x_test = x_test.astype('float32') / np.max(features)\n",
        "\n",
        "# If the data is in 2D format, reshape it to 3D (num_samples, num_timesteps, num_features)\n",
        "# Example: x_train = x_train.reshape(x_train.shape[0], x_train.shape[1], 1)\n",
        "\n",
        "# Convert labels to one-hot encoding\n",
        "num_classes = len(np.unique(labels))\n",
        "y_train = keras.utils.to_categorical(y_train, num_classes)\n",
        "y_test = keras.utils.to_categorical(y_test, num_classes)\n",
        "\n",
        "\n",
        "\n",
        "# Create the CNN model\n",
        "model = keras.Sequential([\n",
        "    layers.Reshape((7, 1), input_shape=(7,)),  # Reshape input for CNN\n",
        "    layers.Conv1D(32, 3, activation='relu', padding='same'),\n",
        "    layers.MaxPooling1D(pool_size=2),\n",
        "    layers.Conv1D(64, 3, activation='relu', padding='same'),\n",
        "    layers.MaxPooling1D(pool_size=2),\n",
        "    layers.Flatten(),\n",
        "    layers.Dense(128, activation='relu'),\n",
        "    layers.Dense(num_classes, activation='softmax')\n",
        "])\n",
        "\n",
        "# Compile the model\n",
        "model.compile(loss='categorical_crossentropy', optimizer='adam', metrics=['accuracy'])\n",
        "\n",
        "\n",
        "\n",
        "\n",
        "# Train the model\n",
        "batch_size = 16\n",
        "epochs = 20\n",
        "\n",
        "\n",
        "model.fit(x_train, y_train, batch_size=batch_size, epochs=epochs, validation_split=0.1)\n",
        "\n",
        "\n",
        "# Evaluate the model\n",
        "loss, accuracy = model.evaluate(x_test, y_test)\n",
        "print('Test accuracy:', accuracy)"
      ],
      "metadata": {
        "colab": {
          "base_uri": "https://localhost:8080/"
        },
        "id": "CHmjliobr1R_",
        "outputId": "fd4522a5-55bb-49ab-b110-d8f09e34e166"
      },
      "execution_count": null,
      "outputs": [
        {
          "output_type": "stream",
          "name": "stdout",
          "text": [
            "Epoch 1/20\n",
            "148/148 [==============================] - 2s 6ms/step - loss: 2.4415 - accuracy: 0.2256 - val_loss: 2.2973 - val_accuracy: 0.2471\n",
            "Epoch 2/20\n",
            "148/148 [==============================] - 1s 4ms/step - loss: 2.2175 - accuracy: 0.2850 - val_loss: 2.0129 - val_accuracy: 0.3802\n",
            "Epoch 3/20\n",
            "148/148 [==============================] - 1s 4ms/step - loss: 1.9980 - accuracy: 0.3363 - val_loss: 1.7946 - val_accuracy: 0.3878\n",
            "Epoch 4/20\n",
            "148/148 [==============================] - 1s 4ms/step - loss: 1.8467 - accuracy: 0.3673 - val_loss: 1.6651 - val_accuracy: 0.4259\n",
            "Epoch 5/20\n",
            "148/148 [==============================] - 1s 4ms/step - loss: 1.7615 - accuracy: 0.3885 - val_loss: 1.6054 - val_accuracy: 0.4715\n",
            "Epoch 6/20\n",
            "148/148 [==============================] - 0s 3ms/step - loss: 1.6917 - accuracy: 0.4037 - val_loss: 1.5403 - val_accuracy: 0.4563\n",
            "Epoch 7/20\n",
            "148/148 [==============================] - 0s 3ms/step - loss: 1.6437 - accuracy: 0.4088 - val_loss: 1.5276 - val_accuracy: 0.4601\n",
            "Epoch 8/20\n",
            "148/148 [==============================] - 0s 3ms/step - loss: 1.6179 - accuracy: 0.4309 - val_loss: 1.4688 - val_accuracy: 0.5057\n",
            "Epoch 9/20\n",
            "148/148 [==============================] - 0s 3ms/step - loss: 1.5821 - accuracy: 0.4288 - val_loss: 1.4580 - val_accuracy: 0.4563\n",
            "Epoch 10/20\n",
            "148/148 [==============================] - 0s 3ms/step - loss: 1.5379 - accuracy: 0.4427 - val_loss: 1.4224 - val_accuracy: 0.5019\n",
            "Epoch 11/20\n",
            "148/148 [==============================] - 0s 3ms/step - loss: 1.5029 - accuracy: 0.4576 - val_loss: 1.3937 - val_accuracy: 0.5285\n",
            "Epoch 12/20\n",
            "148/148 [==============================] - 0s 3ms/step - loss: 1.4592 - accuracy: 0.4741 - val_loss: 1.3846 - val_accuracy: 0.4791\n",
            "Epoch 13/20\n",
            "148/148 [==============================] - 0s 3ms/step - loss: 1.4527 - accuracy: 0.4669 - val_loss: 1.3109 - val_accuracy: 0.5361\n",
            "Epoch 14/20\n",
            "148/148 [==============================] - 0s 3ms/step - loss: 1.3961 - accuracy: 0.4966 - val_loss: 1.2833 - val_accuracy: 0.5247\n",
            "Epoch 15/20\n",
            "148/148 [==============================] - 0s 2ms/step - loss: 1.3564 - accuracy: 0.5140 - val_loss: 1.2544 - val_accuracy: 0.5513\n",
            "Epoch 16/20\n",
            "148/148 [==============================] - 0s 2ms/step - loss: 1.3250 - accuracy: 0.5276 - val_loss: 1.1989 - val_accuracy: 0.5703\n",
            "Epoch 17/20\n",
            "148/148 [==============================] - 0s 2ms/step - loss: 1.3069 - accuracy: 0.5327 - val_loss: 1.1824 - val_accuracy: 0.5779\n",
            "Epoch 18/20\n",
            "148/148 [==============================] - 0s 2ms/step - loss: 1.2696 - accuracy: 0.5394 - val_loss: 1.1693 - val_accuracy: 0.5817\n",
            "Epoch 19/20\n",
            "148/148 [==============================] - 0s 3ms/step - loss: 1.2423 - accuracy: 0.5539 - val_loss: 1.1817 - val_accuracy: 0.5589\n",
            "Epoch 20/20\n",
            "148/148 [==============================] - 0s 3ms/step - loss: 1.2195 - accuracy: 0.5755 - val_loss: 1.0970 - val_accuracy: 0.6122\n",
            "10/10 [==============================] - 0s 3ms/step - loss: 1.1698 - accuracy: 0.6233\n",
            "Test accuracy: 0.6232876777648926\n"
          ]
        }
      ]
    },
    {
      "cell_type": "code",
      "source": [
        "# Make predictions on test data\n",
        "y_pred = model.predict(x_test)\n",
        "y_pred_classes = np.argmax(y_pred, axis=1)\n",
        "y_true = np.argmax(y_test, axis=1)\n",
        "\n",
        "# Calculate precision, recall, and F1-score with 'macro' averaging\n",
        "precision = precision_score(y_true, y_pred_classes, average='macro')\n",
        "recall = recall_score(y_true, y_pred_classes, average='macro')\n",
        "f1 = f1_score(y_true, y_pred_classes, average='macro')\n",
        "\n",
        "print('Macro Avg Precision:', precision)\n",
        "print('Macro Avg Recall:', recall)\n",
        "print('Macro Avg F1-score:', f1)"
      ],
      "metadata": {
        "colab": {
          "base_uri": "https://localhost:8080/"
        },
        "id": "Ff_1Mr5pF4E9",
        "outputId": "d36f89b1-aac4-4fe1-ab75-692addc325d8"
      },
      "execution_count": null,
      "outputs": [
        {
          "output_type": "stream",
          "name": "stdout",
          "text": [
            "10/10 [==============================] - 0s 2ms/step\n",
            "Macro Avg Precision: 0.564622437603804\n",
            "Macro Avg Recall: 0.509363274586528\n",
            "Macro Avg F1-score: 0.5111929595514983\n"
          ]
        }
      ]
    },
    {
      "cell_type": "markdown",
      "source": [
        "**mixed**"
      ],
      "metadata": {
        "id": "vr9KOY2nktzB"
      }
    },
    {
      "cell_type": "code",
      "source": [
        "import numpy as np\n",
        "import pandas as pd\n",
        "from sklearn.model_selection import train_test_split\n",
        "from sklearn.preprocessing import LabelEncoder\n",
        "from tensorflow import keras\n",
        "from tensorflow.keras import layers\n",
        "\n",
        "# Load the data from the CSV file\n",
        "data = pd.read_csv('/content/drive/MyDrive/mini project/mixed_feature2.csv')\n",
        "\n",
        "# Extract features and labels\n",
        "features = data.drop('38', axis=1).values\n",
        "labels = data['38'].values\n",
        "\n",
        "# Convert labels to integers using LabelEncoder\n",
        "label_encoder = LabelEncoder()\n",
        "labels = label_encoder.fit_transform(labels)\n",
        "\n",
        "# Split the data into training and testing sets\n",
        "x_train, x_test, y_train, y_test = train_test_split(features, labels, test_size=0.1, random_state=42)\n",
        "\n",
        "# Normalize the features to range [0, 1]\n",
        "x_train = x_train.astype('float32') / np.max(features)\n",
        "x_test = x_test.astype('float32') / np.max(features)\n",
        "\n",
        "# If the data is in 2D format, reshape it to 3D (num_samples, num_timesteps, num_features)\n",
        "# Example: x_train = x_train.reshape(x_train.shape[0], x_train.shape[1], 1)\n",
        "\n",
        "# Convert labels to one-hot encoding\n",
        "num_classes = len(np.unique(labels))\n",
        "y_train = keras.utils.to_categorical(y_train, num_classes)\n",
        "y_test = keras.utils.to_categorical(y_test, num_classes)\n",
        "\n",
        "\n",
        "\n",
        "# Create the CNN model\n",
        "model = keras.Sequential([\n",
        "    layers.Reshape((39, 1), input_shape=(39,)),  # Reshape input for CNN\n",
        "    layers.Conv1D(32, 3, activation='relu', padding='same'),\n",
        "    layers.MaxPooling1D(pool_size=2),\n",
        "    layers.Conv1D(64, 3, activation='relu', padding='same'),\n",
        "    layers.MaxPooling1D(pool_size=2),\n",
        "    layers.Flatten(),\n",
        "    layers.Dense(128, activation='relu'),\n",
        "    layers.Dense(num_classes, activation='softmax')\n",
        "])\n",
        "\n",
        "# Compile the model\n",
        "model.compile(loss='categorical_crossentropy', optimizer='adam', metrics=['accuracy'])\n",
        "\n",
        "\n",
        "\n",
        "\n",
        "# Train the model\n",
        "batch_size = 16\n",
        "epochs = 20\n",
        "\n",
        "\n",
        "model.fit(x_train, y_train, batch_size=batch_size, epochs=epochs, validation_split=0.1)\n",
        "\n",
        "\n",
        "# Evaluate the model\n",
        "loss, accuracy = model.evaluate(x_test, y_test)\n",
        "print('Test accuracy:', accuracy)\n",
        "\n",
        "# Make predictions on test data\n",
        "y_pred = model.predict(x_test)\n",
        "y_pred_classes = np.argmax(y_pred, axis=1)\n",
        "y_true = np.argmax(y_test, axis=1)\n",
        "\n",
        "# Calculate precision, recall, and F1-score with 'macro' averaging\n",
        "precision = precision_score(y_true, y_pred_classes, average='macro')\n",
        "recall = recall_score(y_true, y_pred_classes, average='macro')\n",
        "f1 = f1_score(y_true, y_pred_classes, average='macro')\n",
        "\n",
        "print('Macro Avg Precision:', precision)\n",
        "print('Macro Avg Recall:', recall)\n",
        "print('Macro Avg F1-score:', f1)"
      ],
      "metadata": {
        "colab": {
          "base_uri": "https://localhost:8080/"
        },
        "id": "1pgHpvExnQLD",
        "outputId": "ff884bfd-be07-4e92-b633-4b7f07d90752"
      },
      "execution_count": null,
      "outputs": [
        {
          "output_type": "stream",
          "name": "stdout",
          "text": [
            "Epoch 1/20\n",
            "148/148 [==============================] - 2s 7ms/step - loss: 2.2294 - accuracy: 0.2820 - val_loss: 1.9023 - val_accuracy: 0.3270\n",
            "Epoch 2/20\n",
            "148/148 [==============================] - 1s 6ms/step - loss: 1.7954 - accuracy: 0.3261 - val_loss: 1.6455 - val_accuracy: 0.3840\n",
            "Epoch 3/20\n",
            "148/148 [==============================] - 1s 6ms/step - loss: 1.5028 - accuracy: 0.4436 - val_loss: 1.2793 - val_accuracy: 0.4601\n",
            "Epoch 4/20\n",
            "148/148 [==============================] - 1s 8ms/step - loss: 1.0853 - accuracy: 0.6289 - val_loss: 0.8587 - val_accuracy: 0.7605\n",
            "Epoch 5/20\n",
            "148/148 [==============================] - 1s 7ms/step - loss: 0.7480 - accuracy: 0.7447 - val_loss: 0.6638 - val_accuracy: 0.7681\n",
            "Epoch 6/20\n",
            "148/148 [==============================] - 1s 6ms/step - loss: 0.5867 - accuracy: 0.7956 - val_loss: 0.5354 - val_accuracy: 0.7909\n",
            "Epoch 7/20\n",
            "148/148 [==============================] - 1s 5ms/step - loss: 0.4709 - accuracy: 0.8338 - val_loss: 0.4241 - val_accuracy: 0.8555\n",
            "Epoch 8/20\n",
            "148/148 [==============================] - 1s 4ms/step - loss: 0.4227 - accuracy: 0.8405 - val_loss: 0.4462 - val_accuracy: 0.8365\n",
            "Epoch 9/20\n",
            "148/148 [==============================] - 1s 4ms/step - loss: 0.3833 - accuracy: 0.8558 - val_loss: 0.3414 - val_accuracy: 0.8745\n",
            "Epoch 10/20\n",
            "148/148 [==============================] - 1s 5ms/step - loss: 0.3227 - accuracy: 0.8851 - val_loss: 0.2920 - val_accuracy: 0.8821\n",
            "Epoch 11/20\n",
            "148/148 [==============================] - 1s 5ms/step - loss: 0.3235 - accuracy: 0.8783 - val_loss: 0.2740 - val_accuracy: 0.9049\n",
            "Epoch 12/20\n",
            "148/148 [==============================] - 1s 4ms/step - loss: 0.2656 - accuracy: 0.9075 - val_loss: 0.2301 - val_accuracy: 0.9278\n",
            "Epoch 13/20\n",
            "148/148 [==============================] - 1s 4ms/step - loss: 0.2623 - accuracy: 0.9016 - val_loss: 0.3362 - val_accuracy: 0.8669\n",
            "Epoch 14/20\n",
            "148/148 [==============================] - 1s 4ms/step - loss: 0.2537 - accuracy: 0.9025 - val_loss: 0.2344 - val_accuracy: 0.9087\n",
            "Epoch 15/20\n",
            "148/148 [==============================] - 1s 4ms/step - loss: 0.2274 - accuracy: 0.9139 - val_loss: 0.2775 - val_accuracy: 0.8783\n",
            "Epoch 16/20\n",
            "148/148 [==============================] - 1s 5ms/step - loss: 0.2344 - accuracy: 0.9092 - val_loss: 0.2616 - val_accuracy: 0.9011\n",
            "Epoch 17/20\n",
            "148/148 [==============================] - 1s 5ms/step - loss: 0.2195 - accuracy: 0.9169 - val_loss: 0.2944 - val_accuracy: 0.8555\n",
            "Epoch 18/20\n",
            "148/148 [==============================] - 1s 5ms/step - loss: 0.1945 - accuracy: 0.9292 - val_loss: 0.1644 - val_accuracy: 0.9544\n",
            "Epoch 19/20\n",
            "148/148 [==============================] - 1s 5ms/step - loss: 0.1863 - accuracy: 0.9309 - val_loss: 0.1707 - val_accuracy: 0.9392\n",
            "Epoch 20/20\n",
            "148/148 [==============================] - 1s 5ms/step - loss: 0.2078 - accuracy: 0.9203 - val_loss: 0.1392 - val_accuracy: 0.9734\n",
            "10/10 [==============================] - 0s 3ms/step - loss: 0.1635 - accuracy: 0.9384\n",
            "Test accuracy: 0.9383561611175537\n",
            "10/10 [==============================] - 0s 2ms/step\n",
            "Macro Avg Precision: 0.9161267735025499\n",
            "Macro Avg Recall: 0.9145780470626826\n",
            "Macro Avg F1-score: 0.9079445687629527\n"
          ]
        }
      ]
    },
    {
      "cell_type": "markdown",
      "source": [
        "# **RNN**"
      ],
      "metadata": {
        "id": "eNgSNrIY4yFv"
      }
    },
    {
      "cell_type": "markdown",
      "source": [
        "MFCC"
      ],
      "metadata": {
        "id": "HXBs0TgQsV2F"
      }
    },
    {
      "cell_type": "code",
      "source": [
        "import numpy as np\n",
        "import pandas as pd\n",
        "from sklearn.model_selection import train_test_split\n",
        "from sklearn.preprocessing import LabelEncoder\n",
        "from tensorflow import keras\n",
        "from tensorflow.keras import layers"
      ],
      "metadata": {
        "id": "_s7eFV3u4xYr"
      },
      "execution_count": null,
      "outputs": []
    },
    {
      "cell_type": "code",
      "source": [
        "# Load the data from the CSV file\n",
        "data = pd.read_csv('/content/drive/MyDrive/mini project/MFCC2.csv')"
      ],
      "metadata": {
        "id": "uR04uRwm4wcC"
      },
      "execution_count": null,
      "outputs": []
    },
    {
      "cell_type": "code",
      "source": [
        "# Extract features and labels\n",
        "features = data.drop('label_list', axis=1).values\n",
        "labels = data['label_list'].values\n",
        "\n",
        "# Convert labels to integers using LabelEncoder\n",
        "label_encoder = LabelEncoder()\n",
        "labels = label_encoder.fit_transform(labels)\n",
        "\n",
        "# Split the data into training and testing sets\n",
        "x_train, x_test, y_train, y_test = train_test_split(features, labels, test_size=0.1, random_state=42)\n",
        "\n",
        "# Normalize the features to range [0, 1]\n",
        "x_train = x_train.astype('float32') / np.max(features)\n",
        "x_test = x_test.astype('float32') / np.max(features)\n",
        "\n",
        "# Reshape the data to 3D format (num_samples, num_timesteps, num_features)\n",
        "x_train = x_train.reshape(x_train.shape[0], x_train.shape[1], 1)\n",
        "x_test = x_test.reshape(x_test.shape[0], x_test.shape[1], 1)\n",
        "\n",
        "# Convert labels to one-hot encoding\n",
        "num_classes = len(np.unique(labels))\n",
        "y_train = keras.utils.to_categorical(y_train, num_classes)\n",
        "y_test = keras.utils.to_categorical(y_test, num_classes)"
      ],
      "metadata": {
        "id": "8NNUqCBm44Bu"
      },
      "execution_count": null,
      "outputs": []
    },
    {
      "cell_type": "code",
      "source": [
        "x_train.shape"
      ],
      "metadata": {
        "id": "AMHuPBmT83p4",
        "colab": {
          "base_uri": "https://localhost:8080/"
        },
        "outputId": "7f1889cd-185f-41d4-a5e5-ca590188f728"
      },
      "execution_count": null,
      "outputs": [
        {
          "output_type": "execute_result",
          "data": {
            "text/plain": [
              "(2621, 12, 1)"
            ]
          },
          "metadata": {},
          "execution_count": 53
        }
      ]
    },
    {
      "cell_type": "code",
      "source": [
        "# Create the RNN model using LSTM\n",
        "model = keras.Sequential([\n",
        "    layers.LSTM(64, input_shape=(x_train.shape[1], 1), return_sequences=True),\n",
        "    layers.LSTM(64),\n",
        "    layers.Dense(128, activation='relu'),\n",
        "    layers.Dense(num_classes, activation='softmax')\n",
        "])"
      ],
      "metadata": {
        "id": "jWNQXgYW46zl"
      },
      "execution_count": null,
      "outputs": []
    },
    {
      "cell_type": "code",
      "source": [
        "# Compile the model\n",
        "model.compile(loss='categorical_crossentropy', optimizer='adam', metrics=['accuracy'])\n",
        "\n",
        "# Train the model\n",
        "batch_size = 16\n",
        "epochs = 20\n",
        "\n",
        "model.fit(x_train, y_train, batch_size=batch_size, epochs=epochs, validation_split=0.1)"
      ],
      "metadata": {
        "id": "9cB25Our49Ci",
        "colab": {
          "base_uri": "https://localhost:8080/"
        },
        "outputId": "8cfa52d7-12bc-4f8e-f4d4-3f3af3acf74c"
      },
      "execution_count": null,
      "outputs": [
        {
          "output_type": "stream",
          "name": "stdout",
          "text": [
            "Epoch 1/20\n",
            "148/148 [==============================] - 9s 22ms/step - loss: 2.4170 - accuracy: 0.2379 - val_loss: 2.3206 - val_accuracy: 0.2700\n",
            "Epoch 2/20\n",
            "148/148 [==============================] - 2s 14ms/step - loss: 2.1271 - accuracy: 0.2947 - val_loss: 1.8543 - val_accuracy: 0.3384\n",
            "Epoch 3/20\n",
            "148/148 [==============================] - 2s 15ms/step - loss: 1.8462 - accuracy: 0.3494 - val_loss: 1.6673 - val_accuracy: 0.3878\n",
            "Epoch 4/20\n",
            "148/148 [==============================] - 3s 23ms/step - loss: 1.5873 - accuracy: 0.4419 - val_loss: 1.5192 - val_accuracy: 0.4373\n",
            "Epoch 5/20\n",
            "148/148 [==============================] - 3s 18ms/step - loss: 1.3517 - accuracy: 0.5030 - val_loss: 1.1500 - val_accuracy: 0.5817\n",
            "Epoch 6/20\n",
            "148/148 [==============================] - 2s 14ms/step - loss: 1.2628 - accuracy: 0.5288 - val_loss: 1.0972 - val_accuracy: 0.6008\n",
            "Epoch 7/20\n",
            "148/148 [==============================] - 2s 16ms/step - loss: 1.1802 - accuracy: 0.5602 - val_loss: 1.0322 - val_accuracy: 0.6388\n",
            "Epoch 8/20\n",
            "148/148 [==============================] - 2s 14ms/step - loss: 1.0602 - accuracy: 0.6047 - val_loss: 0.9162 - val_accuracy: 0.6768\n",
            "Epoch 9/20\n",
            "148/148 [==============================] - 2s 15ms/step - loss: 1.0624 - accuracy: 0.6031 - val_loss: 0.9539 - val_accuracy: 0.6502\n",
            "Epoch 10/20\n",
            "148/148 [==============================] - 3s 21ms/step - loss: 1.0262 - accuracy: 0.6090 - val_loss: 0.9091 - val_accuracy: 0.6654\n",
            "Epoch 11/20\n",
            "148/148 [==============================] - 3s 21ms/step - loss: 1.0093 - accuracy: 0.6209 - val_loss: 0.9034 - val_accuracy: 0.6920\n",
            "Epoch 12/20\n",
            "148/148 [==============================] - 2s 16ms/step - loss: 0.9441 - accuracy: 0.6493 - val_loss: 0.8481 - val_accuracy: 0.7148\n",
            "Epoch 13/20\n",
            "148/148 [==============================] - 2s 16ms/step - loss: 0.9379 - accuracy: 0.6497 - val_loss: 0.8458 - val_accuracy: 0.7072\n",
            "Epoch 14/20\n",
            "148/148 [==============================] - 2s 16ms/step - loss: 0.8790 - accuracy: 0.6701 - val_loss: 0.7919 - val_accuracy: 0.7110\n",
            "Epoch 15/20\n",
            "148/148 [==============================] - 3s 19ms/step - loss: 0.8898 - accuracy: 0.6671 - val_loss: 0.8066 - val_accuracy: 0.7110\n",
            "Epoch 16/20\n",
            "148/148 [==============================] - 3s 21ms/step - loss: 0.8142 - accuracy: 0.6862 - val_loss: 0.7171 - val_accuracy: 0.7338\n",
            "Epoch 17/20\n",
            "148/148 [==============================] - 2s 15ms/step - loss: 0.7784 - accuracy: 0.6989 - val_loss: 0.6437 - val_accuracy: 0.7529\n",
            "Epoch 18/20\n",
            "148/148 [==============================] - 2s 15ms/step - loss: 0.7729 - accuracy: 0.7036 - val_loss: 0.6581 - val_accuracy: 0.7719\n",
            "Epoch 19/20\n",
            "148/148 [==============================] - 2s 14ms/step - loss: 0.7570 - accuracy: 0.7036 - val_loss: 0.6656 - val_accuracy: 0.7643\n",
            "Epoch 20/20\n",
            "148/148 [==============================] - 2s 15ms/step - loss: 0.7704 - accuracy: 0.7031 - val_loss: 0.6241 - val_accuracy: 0.7643\n"
          ]
        },
        {
          "output_type": "execute_result",
          "data": {
            "text/plain": [
              "<keras.src.callbacks.History at 0x7a68e435a800>"
            ]
          },
          "metadata": {},
          "execution_count": 55
        }
      ]
    },
    {
      "cell_type": "code",
      "source": [
        "# Evaluate the model\n",
        "loss, accuracy = model.evaluate(x_test, y_test)\n",
        "print('Test accuracy:', accuracy)"
      ],
      "metadata": {
        "id": "HLJfryMf4_wo",
        "colab": {
          "base_uri": "https://localhost:8080/"
        },
        "outputId": "72a23e40-b87b-484d-d337-5174b6c903d9"
      },
      "execution_count": null,
      "outputs": [
        {
          "output_type": "stream",
          "name": "stdout",
          "text": [
            "10/10 [==============================] - 0s 6ms/step - loss: 0.7073 - accuracy: 0.7158\n",
            "Test accuracy: 0.715753436088562\n"
          ]
        }
      ]
    },
    {
      "cell_type": "code",
      "source": [
        "# Specify the path where you want to save the model\n",
        "model_path = '/content/drive/MyDrive/Rnn2_saved_model.h5'\n",
        "\n",
        "# Save the model to the specified path\n",
        "model.save(model_path)\n",
        "\n",
        "print(\"Model saved successfully at:\", model_path)"
      ],
      "metadata": {
        "id": "41UHyNU97Oaz",
        "colab": {
          "base_uri": "https://localhost:8080/"
        },
        "outputId": "01ef5cfe-1756-4ad0-d763-2de85a395f2d"
      },
      "execution_count": null,
      "outputs": [
        {
          "output_type": "stream",
          "name": "stdout",
          "text": [
            "Model saved successfully at: /content/drive/MyDrive/Rnn2_saved_model.h5\n"
          ]
        },
        {
          "output_type": "stream",
          "name": "stderr",
          "text": [
            "/usr/local/lib/python3.10/dist-packages/keras/src/engine/training.py:3000: UserWarning: You are saving your model as an HDF5 file via `model.save()`. This file format is considered legacy. We recommend using instead the native Keras format, e.g. `model.save('my_model.keras')`.\n",
            "  saving_api.save_model(\n"
          ]
        }
      ]
    },
    {
      "cell_type": "code",
      "source": [
        "# Make predictions on test data\n",
        "y_pred = model.predict(x_test)\n",
        "y_pred_classes = np.argmax(y_pred, axis=1)\n",
        "y_true = np.argmax(y_test, axis=1)\n",
        "\n",
        "# Calculate precision, recall, and F1-score with 'macro' averaging\n",
        "precision = precision_score(y_true, y_pred_classes, average='macro')\n",
        "recall = recall_score(y_true, y_pred_classes, average='macro')\n",
        "f1 = f1_score(y_true, y_pred_classes, average='macro')\n",
        "\n",
        "print('Macro Avg Precision:', precision)\n",
        "print('Macro Avg Recall:', recall)\n",
        "print('Macro Avg F1-score:', f1)"
      ],
      "metadata": {
        "id": "aG8i9XluGNs_",
        "colab": {
          "base_uri": "https://localhost:8080/"
        },
        "outputId": "82cec727-1958-4600-e95b-00fdd82bb0ee"
      },
      "execution_count": null,
      "outputs": [
        {
          "output_type": "stream",
          "name": "stdout",
          "text": [
            "10/10 [==============================] - 1s 8ms/step\n",
            "Macro Avg Precision: 0.5838457504832842\n",
            "Macro Avg Recall: 0.6153893710182121\n",
            "Macro Avg F1-score: 0.5919985361271454\n"
          ]
        },
        {
          "output_type": "stream",
          "name": "stderr",
          "text": [
            "/usr/local/lib/python3.10/dist-packages/sklearn/metrics/_classification.py:1344: UndefinedMetricWarning: Precision is ill-defined and being set to 0.0 in labels with no predicted samples. Use `zero_division` parameter to control this behavior.\n",
            "  _warn_prf(average, modifier, msg_start, len(result))\n"
          ]
        }
      ]
    },
    {
      "cell_type": "markdown",
      "source": [
        "chroma"
      ],
      "metadata": {
        "id": "EuvE5JWAsXUe"
      }
    },
    {
      "cell_type": "code",
      "source": [
        "import numpy as np\n",
        "import pandas as pd\n",
        "from sklearn.model_selection import train_test_split\n",
        "from sklearn.preprocessing import LabelEncoder\n",
        "from tensorflow import keras\n",
        "from tensorflow.keras import layers\n",
        "\n",
        "\n",
        "# Load the data from the CSV file\n",
        "data = pd.read_csv('/content/drive/MyDrive/mini project/chroma_features2.csv')\n",
        "\n",
        "\n",
        "# Extract features and labels\n",
        "features = data.drop('label_list', axis=1).values\n",
        "labels = data['label_list'].values\n",
        "\n",
        "# Convert labels to integers using LabelEncoder\n",
        "label_encoder = LabelEncoder()\n",
        "labels = label_encoder.fit_transform(labels)\n",
        "\n",
        "# Split the data into training and testing sets\n",
        "x_train, x_test, y_train, y_test = train_test_split(features, labels, test_size=0.2, random_state=42)\n",
        "\n",
        "# Normalize the features to range [0, 1]\n",
        "x_train = x_train.astype('float32') / np.max(features)\n",
        "x_test = x_test.astype('float32') / np.max(features)\n",
        "\n",
        "# Reshape the data to 3D format (num_samples, num_timesteps, num_features)\n",
        "x_train = x_train.reshape(x_train.shape[0], x_train.shape[1], 1)\n",
        "x_test = x_test.reshape(x_test.shape[0], x_test.shape[1], 1)\n",
        "\n",
        "# Convert labels to one-hot encoding\n",
        "num_classes = len(np.unique(labels))\n",
        "y_train = keras.utils.to_categorical(y_train, num_classes)\n",
        "y_test = keras.utils.to_categorical(y_test, num_classes)\n",
        "\n",
        "\n",
        "# Create the RNN model using LSTM\n",
        "model = keras.Sequential([\n",
        "    layers.LSTM(64, input_shape=(x_train.shape[1], 1), return_sequences=True),\n",
        "    layers.LSTM(64),\n",
        "    layers.Dense(128, activation='relu'),\n",
        "    layers.Dense(num_classes, activation='softmax')\n",
        "])\n",
        "\n",
        "\n",
        "# Compile the model\n",
        "model.compile(loss='categorical_crossentropy', optimizer='adam', metrics=['accuracy'])\n",
        "\n",
        "# Train the model\n",
        "batch_size = 16\n",
        "epochs = 20\n",
        "\n",
        "model.fit(x_train, y_train, batch_size=batch_size, epochs=epochs, validation_split=0.1)\n",
        "\n",
        "\n",
        "# Evaluate the model\n",
        "loss, accuracy = model.evaluate(x_test, y_test)\n",
        "print('Test accuracy:', accuracy)"
      ],
      "metadata": {
        "id": "NMAZoFLvsYVM",
        "colab": {
          "base_uri": "https://localhost:8080/"
        },
        "outputId": "c5754ebc-9d34-43dc-e294-ada2aaa7d9aa"
      },
      "execution_count": null,
      "outputs": [
        {
          "output_type": "stream",
          "name": "stdout",
          "text": [
            "Epoch 1/20\n",
            "132/132 [==============================] - 8s 23ms/step - loss: 2.3328 - accuracy: 0.2537 - val_loss: 2.1642 - val_accuracy: 0.3176\n",
            "Epoch 2/20\n",
            "132/132 [==============================] - 2s 15ms/step - loss: 2.1357 - accuracy: 0.3085 - val_loss: 2.1045 - val_accuracy: 0.3176\n",
            "Epoch 3/20\n",
            "132/132 [==============================] - 2s 18ms/step - loss: 2.1008 - accuracy: 0.3181 - val_loss: 2.0233 - val_accuracy: 0.3476\n",
            "Epoch 4/20\n",
            "132/132 [==============================] - 3s 23ms/step - loss: 2.0400 - accuracy: 0.3357 - val_loss: 1.9600 - val_accuracy: 0.3734\n",
            "Epoch 5/20\n",
            "132/132 [==============================] - 2s 17ms/step - loss: 1.9927 - accuracy: 0.3600 - val_loss: 1.9486 - val_accuracy: 0.3648\n",
            "Epoch 6/20\n",
            "132/132 [==============================] - 2s 15ms/step - loss: 1.9408 - accuracy: 0.3801 - val_loss: 1.9027 - val_accuracy: 0.3777\n",
            "Epoch 7/20\n",
            "132/132 [==============================] - 2s 15ms/step - loss: 1.8711 - accuracy: 0.3882 - val_loss: 1.8199 - val_accuracy: 0.4077\n",
            "Epoch 8/20\n",
            "132/132 [==============================] - 2s 14ms/step - loss: 1.8130 - accuracy: 0.4087 - val_loss: 1.7359 - val_accuracy: 0.4464\n",
            "Epoch 9/20\n",
            "132/132 [==============================] - 2s 16ms/step - loss: 1.7759 - accuracy: 0.4039 - val_loss: 1.7150 - val_accuracy: 0.4506\n",
            "Epoch 10/20\n",
            "132/132 [==============================] - 3s 20ms/step - loss: 1.7321 - accuracy: 0.4249 - val_loss: 1.6889 - val_accuracy: 0.4506\n",
            "Epoch 11/20\n",
            "132/132 [==============================] - 3s 22ms/step - loss: 1.7021 - accuracy: 0.4239 - val_loss: 1.6481 - val_accuracy: 0.4549\n",
            "Epoch 12/20\n",
            "132/132 [==============================] - 2s 14ms/step - loss: 1.6718 - accuracy: 0.4402 - val_loss: 1.6088 - val_accuracy: 0.4635\n",
            "Epoch 13/20\n",
            "132/132 [==============================] - 2s 15ms/step - loss: 1.6464 - accuracy: 0.4397 - val_loss: 1.6567 - val_accuracy: 0.4292\n",
            "Epoch 14/20\n",
            "132/132 [==============================] - 2s 14ms/step - loss: 1.5970 - accuracy: 0.4554 - val_loss: 1.5750 - val_accuracy: 0.4764\n",
            "Epoch 15/20\n",
            "132/132 [==============================] - 2s 14ms/step - loss: 1.5802 - accuracy: 0.4626 - val_loss: 1.5041 - val_accuracy: 0.4850\n",
            "Epoch 16/20\n",
            "132/132 [==============================] - 2s 14ms/step - loss: 1.5291 - accuracy: 0.4764 - val_loss: 1.4750 - val_accuracy: 0.4936\n",
            "Epoch 17/20\n",
            "132/132 [==============================] - 3s 23ms/step - loss: 1.4797 - accuracy: 0.4902 - val_loss: 1.3934 - val_accuracy: 0.5193\n",
            "Epoch 18/20\n",
            "132/132 [==============================] - 3s 19ms/step - loss: 1.4395 - accuracy: 0.4926 - val_loss: 1.3869 - val_accuracy: 0.4936\n",
            "Epoch 19/20\n",
            "132/132 [==============================] - 2s 15ms/step - loss: 1.4088 - accuracy: 0.5141 - val_loss: 1.4896 - val_accuracy: 0.4506\n",
            "Epoch 20/20\n",
            "132/132 [==============================] - 2s 14ms/step - loss: 1.3958 - accuracy: 0.5169 - val_loss: 1.3118 - val_accuracy: 0.5279\n",
            "19/19 [==============================] - 0s 6ms/step - loss: 1.4767 - accuracy: 0.5043\n",
            "Test accuracy: 0.5042881369590759\n"
          ]
        }
      ]
    },
    {
      "cell_type": "code",
      "source": [
        "# Make predictions on test data\n",
        "y_pred = model.predict(x_test)\n",
        "y_pred_classes = np.argmax(y_pred, axis=1)\n",
        "y_true = np.argmax(y_test, axis=1)\n",
        "\n",
        "# Calculate precision, recall, and F1-score with 'macro' averaging\n",
        "precision = precision_score(y_true, y_pred_classes, average='macro')\n",
        "recall = recall_score(y_true, y_pred_classes, average='macro')\n",
        "f1 = f1_score(y_true, y_pred_classes, average='macro')\n",
        "\n",
        "print('Macro Avg Precision:', precision)\n",
        "print('Macro Avg Recall:', recall)\n",
        "print('Macro Avg F1-score:', f1)"
      ],
      "metadata": {
        "id": "w99D03rlGt1j",
        "colab": {
          "base_uri": "https://localhost:8080/"
        },
        "outputId": "6a147f5f-6ec4-4c12-daa4-4b4d954e1002"
      },
      "execution_count": null,
      "outputs": [
        {
          "output_type": "stream",
          "name": "stdout",
          "text": [
            "19/19 [==============================] - 1s 5ms/step\n",
            "Macro Avg Precision: 0.3536602127345768\n",
            "Macro Avg Recall: 0.3726314597122399\n",
            "Macro Avg F1-score: 0.35450945613269846\n"
          ]
        }
      ]
    },
    {
      "cell_type": "markdown",
      "source": [
        "wavelet transform"
      ],
      "metadata": {
        "id": "r-AodfTbsZiu"
      }
    },
    {
      "cell_type": "code",
      "source": [
        "import numpy as np\n",
        "import pandas as pd\n",
        "from sklearn.model_selection import train_test_split\n",
        "from sklearn.preprocessing import LabelEncoder\n",
        "from tensorflow import keras\n",
        "from tensorflow.keras import layers\n",
        "\n",
        "\n",
        "# Load the data from the CSV file\n",
        "data = pd.read_csv('/content/drive/MyDrive/mini project/wavelet_features2.csv')\n",
        "\n",
        "\n",
        "# Extract features and labels\n",
        "features = data.drop('label_list', axis=1).values\n",
        "labels = data['label_list'].values\n",
        "\n",
        "# Convert labels to integers using LabelEncoder\n",
        "label_encoder = LabelEncoder()\n",
        "labels = label_encoder.fit_transform(labels)\n",
        "\n",
        "# Split the data into training and testing sets\n",
        "x_train, x_test, y_train, y_test = train_test_split(features, labels, test_size=0.2, random_state=42)\n",
        "\n",
        "# Normalize the features to range [0, 1]\n",
        "x_train = x_train.astype('float32') / np.max(features)\n",
        "x_test = x_test.astype('float32') / np.max(features)\n",
        "\n",
        "# Reshape the data to 3D format (num_samples, num_timesteps, num_features)\n",
        "x_train = x_train.reshape(x_train.shape[0], x_train.shape[1], 1)\n",
        "x_test = x_test.reshape(x_test.shape[0], x_test.shape[1], 1)\n",
        "\n",
        "# Convert labels to one-hot encoding\n",
        "num_classes = len(np.unique(labels))\n",
        "y_train = keras.utils.to_categorical(y_train, num_classes)\n",
        "y_test = keras.utils.to_categorical(y_test, num_classes)\n",
        "\n",
        "\n",
        "# Create the RNN model using LSTM\n",
        "model = keras.Sequential([\n",
        "    layers.LSTM(64, input_shape=(x_train.shape[1], 1), return_sequences=True),\n",
        "    layers.LSTM(64),\n",
        "    layers.Dense(128, activation='relu'),\n",
        "    layers.Dense(num_classes, activation='softmax')\n",
        "])\n",
        "\n",
        "\n",
        "# Compile the model\n",
        "model.compile(loss='categorical_crossentropy', optimizer='adam', metrics=['accuracy'])\n",
        "\n",
        "# Train the model\n",
        "batch_size = 16\n",
        "epochs = 20\n",
        "\n",
        "model.fit(x_train, y_train, batch_size=batch_size, epochs=epochs, validation_split=0.1)\n",
        "\n",
        "\n",
        "# Evaluate the model\n",
        "loss, accuracy = model.evaluate(x_test, y_test)\n",
        "print('Test accuracy:', accuracy)"
      ],
      "metadata": {
        "id": "4lEO0Mspsde4",
        "colab": {
          "base_uri": "https://localhost:8080/"
        },
        "outputId": "aca08c08-7af0-4bae-9e33-9c2a7779882e"
      },
      "execution_count": null,
      "outputs": [
        {
          "output_type": "stream",
          "name": "stdout",
          "text": [
            "Epoch 1/20\n",
            "132/132 [==============================] - 9s 30ms/step - loss: 2.4585 - accuracy: 0.2356 - val_loss: 2.3822 - val_accuracy: 0.2489\n",
            "Epoch 2/20\n",
            "132/132 [==============================] - 2s 15ms/step - loss: 2.4238 - accuracy: 0.2399 - val_loss: 2.3928 - val_accuracy: 0.2489\n",
            "Epoch 3/20\n",
            "132/132 [==============================] - 2s 15ms/step - loss: 2.4229 - accuracy: 0.2399 - val_loss: 2.3831 - val_accuracy: 0.2489\n",
            "Epoch 4/20\n",
            "132/132 [==============================] - 2s 15ms/step - loss: 2.4242 - accuracy: 0.2399 - val_loss: 2.3780 - val_accuracy: 0.2489\n",
            "Epoch 5/20\n",
            "132/132 [==============================] - 2s 14ms/step - loss: 2.4241 - accuracy: 0.2399 - val_loss: 2.3779 - val_accuracy: 0.2489\n",
            "Epoch 6/20\n",
            "132/132 [==============================] - 2s 16ms/step - loss: 2.4200 - accuracy: 0.2399 - val_loss: 2.3782 - val_accuracy: 0.2489\n",
            "Epoch 7/20\n",
            "132/132 [==============================] - 3s 22ms/step - loss: 2.4194 - accuracy: 0.2399 - val_loss: 2.3783 - val_accuracy: 0.2489\n",
            "Epoch 8/20\n",
            "132/132 [==============================] - 2s 17ms/step - loss: 2.4205 - accuracy: 0.2399 - val_loss: 2.3798 - val_accuracy: 0.2489\n",
            "Epoch 9/20\n",
            "132/132 [==============================] - 2s 13ms/step - loss: 2.4182 - accuracy: 0.2403 - val_loss: 2.3769 - val_accuracy: 0.2489\n",
            "Epoch 10/20\n",
            "132/132 [==============================] - 2s 12ms/step - loss: 2.4138 - accuracy: 0.2446 - val_loss: 2.3586 - val_accuracy: 0.2618\n",
            "Epoch 11/20\n",
            "132/132 [==============================] - 2s 12ms/step - loss: 2.3951 - accuracy: 0.2446 - val_loss: 2.3718 - val_accuracy: 0.2532\n",
            "Epoch 12/20\n",
            "132/132 [==============================] - 2s 12ms/step - loss: 2.3862 - accuracy: 0.2442 - val_loss: 2.3499 - val_accuracy: 0.2575\n",
            "Epoch 13/20\n",
            "132/132 [==============================] - 2s 12ms/step - loss: 2.3395 - accuracy: 0.2604 - val_loss: 2.2174 - val_accuracy: 0.2833\n",
            "Epoch 14/20\n",
            "132/132 [==============================] - 2s 16ms/step - loss: 2.2667 - accuracy: 0.2690 - val_loss: 2.1362 - val_accuracy: 0.2918\n",
            "Epoch 15/20\n",
            "132/132 [==============================] - 3s 21ms/step - loss: 2.1831 - accuracy: 0.2966 - val_loss: 2.0906 - val_accuracy: 0.3047\n",
            "Epoch 16/20\n",
            "132/132 [==============================] - 2s 14ms/step - loss: 2.1413 - accuracy: 0.3052 - val_loss: 2.1403 - val_accuracy: 0.3090\n",
            "Epoch 17/20\n",
            "132/132 [==============================] - 2s 13ms/step - loss: 2.1136 - accuracy: 0.3138 - val_loss: 1.9869 - val_accuracy: 0.3519\n",
            "Epoch 18/20\n",
            "132/132 [==============================] - 2s 15ms/step - loss: 2.0686 - accuracy: 0.3195 - val_loss: 1.9815 - val_accuracy: 0.3219\n",
            "Epoch 19/20\n",
            "132/132 [==============================] - 2s 14ms/step - loss: 2.0399 - accuracy: 0.3295 - val_loss: 1.9528 - val_accuracy: 0.3648\n",
            "Epoch 20/20\n",
            "132/132 [==============================] - 2s 14ms/step - loss: 2.0190 - accuracy: 0.3333 - val_loss: 1.9582 - val_accuracy: 0.3648\n",
            "19/19 [==============================] - 0s 5ms/step - loss: 2.1016 - accuracy: 0.3087\n",
            "Test accuracy: 0.3087478578090668\n"
          ]
        }
      ]
    },
    {
      "cell_type": "markdown",
      "source": [
        "spectral contrast"
      ],
      "metadata": {
        "id": "1Z3uJ6mGsiy-"
      }
    },
    {
      "cell_type": "code",
      "source": [
        "import numpy as np\n",
        "import pandas as pd\n",
        "from sklearn.model_selection import train_test_split\n",
        "from sklearn.preprocessing import LabelEncoder\n",
        "from tensorflow import keras\n",
        "from tensorflow.keras import layers\n",
        "\n",
        "\n",
        "# Load the data from the CSV file\n",
        "data = pd.read_csv('/content/drive/MyDrive/mini project/spectral_contrast_features2.csv')\n",
        "\n",
        "\n",
        "# Extract features and labels\n",
        "features = data.drop('label_list', axis=1).values\n",
        "labels = data['label_list'].values\n",
        "\n",
        "# Convert labels to integers using LabelEncoder\n",
        "label_encoder = LabelEncoder()\n",
        "labels = label_encoder.fit_transform(labels)\n",
        "\n",
        "# Split the data into training and testing sets\n",
        "x_train, x_test, y_train, y_test = train_test_split(features, labels, test_size=0.1, random_state=42)\n",
        "\n",
        "# Normalize the features to range [0, 1]\n",
        "x_train = x_train.astype('float32') / np.max(features)\n",
        "x_test = x_test.astype('float32') / np.max(features)\n",
        "\n",
        "# Reshape the data to 3D format (num_samples, num_timesteps, num_features)\n",
        "x_train = x_train.reshape(x_train.shape[0], x_train.shape[1], 1)\n",
        "x_test = x_test.reshape(x_test.shape[0], x_test.shape[1], 1)\n",
        "\n",
        "# Convert labels to one-hot encoding\n",
        "num_classes = len(np.unique(labels))\n",
        "y_train = keras.utils.to_categorical(y_train, num_classes)\n",
        "y_test = keras.utils.to_categorical(y_test, num_classes)\n",
        "\n",
        "\n",
        "# Create the RNN model using LSTM\n",
        "model = keras.Sequential([\n",
        "    layers.LSTM(64, input_shape=(x_train.shape[1], 1), return_sequences=True),\n",
        "    layers.LSTM(64),\n",
        "    layers.Dense(128, activation='relu'),\n",
        "    layers.Dense(num_classes, activation='softmax')\n",
        "])\n",
        "\n",
        "\n",
        "# Compile the model\n",
        "model.compile(loss='categorical_crossentropy', optimizer='adam', metrics=['accuracy'])\n",
        "\n",
        "# Train the model\n",
        "batch_size = 16\n",
        "epochs = 20\n",
        "\n",
        "model.fit(x_train, y_train, batch_size=batch_size, epochs=epochs, validation_split=0.1)\n",
        "\n",
        "\n",
        "# Evaluate the model\n",
        "loss, accuracy = model.evaluate(x_test, y_test)\n",
        "print('Test accuracy:', accuracy)"
      ],
      "metadata": {
        "id": "o-ZOrMHMsk0b",
        "colab": {
          "base_uri": "https://localhost:8080/"
        },
        "outputId": "8527afc5-df59-4049-ce75-9aefef865283"
      },
      "execution_count": null,
      "outputs": [
        {
          "output_type": "stream",
          "name": "stdout",
          "text": [
            "Epoch 1/20\n",
            "148/148 [==============================] - 8s 17ms/step - loss: 2.4653 - accuracy: 0.2303 - val_loss: 2.3994 - val_accuracy: 0.2471\n",
            "Epoch 2/20\n",
            "148/148 [==============================] - 2s 11ms/step - loss: 2.3783 - accuracy: 0.2345 - val_loss: 2.2391 - val_accuracy: 0.2586\n",
            "Epoch 3/20\n",
            "148/148 [==============================] - 2s 10ms/step - loss: 2.2286 - accuracy: 0.2439 - val_loss: 2.1269 - val_accuracy: 0.2662\n",
            "Epoch 4/20\n",
            "148/148 [==============================] - 2s 11ms/step - loss: 2.0909 - accuracy: 0.2930 - val_loss: 1.9213 - val_accuracy: 0.3650\n",
            "Epoch 5/20\n",
            "148/148 [==============================] - 2s 12ms/step - loss: 1.9568 - accuracy: 0.3193 - val_loss: 1.9285 - val_accuracy: 0.2890\n",
            "Epoch 6/20\n",
            "148/148 [==============================] - 3s 18ms/step - loss: 1.8315 - accuracy: 0.3528 - val_loss: 1.7941 - val_accuracy: 0.3574\n",
            "Epoch 7/20\n",
            "148/148 [==============================] - 2s 15ms/step - loss: 1.7846 - accuracy: 0.3664 - val_loss: 1.6388 - val_accuracy: 0.4297\n",
            "Epoch 8/20\n",
            "148/148 [==============================] - 2s 11ms/step - loss: 1.7355 - accuracy: 0.3694 - val_loss: 1.6229 - val_accuracy: 0.4183\n",
            "Epoch 9/20\n",
            "148/148 [==============================] - 2s 10ms/step - loss: 1.7066 - accuracy: 0.3893 - val_loss: 1.5577 - val_accuracy: 0.4753\n",
            "Epoch 10/20\n",
            "148/148 [==============================] - 2s 11ms/step - loss: 1.6737 - accuracy: 0.3957 - val_loss: 1.5241 - val_accuracy: 0.4753\n",
            "Epoch 11/20\n",
            "148/148 [==============================] - 2s 11ms/step - loss: 1.6374 - accuracy: 0.4080 - val_loss: 1.5305 - val_accuracy: 0.4753\n",
            "Epoch 12/20\n",
            "148/148 [==============================] - 1s 10ms/step - loss: 1.6140 - accuracy: 0.4118 - val_loss: 1.4910 - val_accuracy: 0.4525\n",
            "Epoch 13/20\n",
            "148/148 [==============================] - 2s 11ms/step - loss: 1.5683 - accuracy: 0.4220 - val_loss: 1.4481 - val_accuracy: 0.4639\n",
            "Epoch 14/20\n",
            "148/148 [==============================] - 3s 17ms/step - loss: 1.5577 - accuracy: 0.4351 - val_loss: 1.4399 - val_accuracy: 0.4487\n",
            "Epoch 15/20\n",
            "148/148 [==============================] - 2s 14ms/step - loss: 1.5114 - accuracy: 0.4572 - val_loss: 1.5108 - val_accuracy: 0.4297\n",
            "Epoch 16/20\n",
            "148/148 [==============================] - 2s 10ms/step - loss: 1.5240 - accuracy: 0.4521 - val_loss: 1.4029 - val_accuracy: 0.5095\n",
            "Epoch 17/20\n",
            "148/148 [==============================] - 2s 11ms/step - loss: 1.4782 - accuracy: 0.4720 - val_loss: 1.3705 - val_accuracy: 0.4905\n",
            "Epoch 18/20\n",
            "148/148 [==============================] - 2s 11ms/step - loss: 1.4810 - accuracy: 0.4610 - val_loss: 1.3407 - val_accuracy: 0.5057\n",
            "Epoch 19/20\n",
            "148/148 [==============================] - 2s 11ms/step - loss: 1.4378 - accuracy: 0.4669 - val_loss: 1.3064 - val_accuracy: 0.5399\n",
            "Epoch 20/20\n",
            "148/148 [==============================] - 2s 11ms/step - loss: 1.4149 - accuracy: 0.4864 - val_loss: 1.2836 - val_accuracy: 0.5361\n",
            "10/10 [==============================] - 0s 5ms/step - loss: 1.4317 - accuracy: 0.5274\n",
            "Test accuracy: 0.5273972749710083\n"
          ]
        }
      ]
    },
    {
      "cell_type": "code",
      "source": [
        "# Make predictions on test data\n",
        "y_pred = model.predict(x_test)\n",
        "y_pred_classes = np.argmax(y_pred, axis=1)\n",
        "y_true = np.argmax(y_test, axis=1)\n",
        "\n",
        "# Calculate precision, recall, and F1-score with 'macro' averaging\n",
        "precision = precision_score(y_true, y_pred_classes, average='macro')\n",
        "recall = recall_score(y_true, y_pred_classes, average='macro')\n",
        "f1 = f1_score(y_true, y_pred_classes, average='macro')\n",
        "\n",
        "print('Macro Avg Precision:', precision)\n",
        "print('Macro Avg Recall:', recall)\n",
        "print('Macro Avg F1-score:', f1)"
      ],
      "metadata": {
        "id": "GktNMIHGHgjR",
        "colab": {
          "base_uri": "https://localhost:8080/"
        },
        "outputId": "43ac9fcf-b114-4eb8-a387-35b6a620c048"
      },
      "execution_count": null,
      "outputs": [
        {
          "output_type": "stream",
          "name": "stdout",
          "text": [
            "10/10 [==============================] - 1s 4ms/step\n",
            "Macro Avg Precision: 0.5018286801900247\n",
            "Macro Avg Recall: 0.3899092237354184\n",
            "Macro Avg F1-score: 0.3860961811928938\n"
          ]
        },
        {
          "output_type": "stream",
          "name": "stderr",
          "text": [
            "/usr/local/lib/python3.10/dist-packages/sklearn/metrics/_classification.py:1344: UndefinedMetricWarning: Precision is ill-defined and being set to 0.0 in labels with no predicted samples. Use `zero_division` parameter to control this behavior.\n",
            "  _warn_prf(average, modifier, msg_start, len(result))\n"
          ]
        }
      ]
    },
    {
      "cell_type": "markdown",
      "source": [
        "**mixed**"
      ],
      "metadata": {
        "id": "KL24lmH_k5ED"
      }
    },
    {
      "cell_type": "code",
      "source": [
        "import numpy as np\n",
        "import pandas as pd\n",
        "from sklearn.model_selection import train_test_split\n",
        "from sklearn.preprocessing import LabelEncoder\n",
        "from tensorflow import keras\n",
        "from tensorflow.keras import layers\n",
        "\n",
        "\n",
        "# Load the data from the CSV file\n",
        "data = pd.read_csv('/content/drive/MyDrive/mini project/mixed_feature2.csv')\n",
        "\n",
        "\n",
        "# Extract features and labels\n",
        "features = data.drop('38', axis=1).values\n",
        "labels = data['38'].values\n",
        "\n",
        "# Convert labels to integers using LabelEncoder\n",
        "label_encoder = LabelEncoder()\n",
        "labels = label_encoder.fit_transform(labels)\n",
        "\n",
        "# Split the data into training and testing sets\n",
        "x_train, x_test, y_train, y_test = train_test_split(features, labels, test_size=0.1, random_state=42)\n",
        "\n",
        "# Normalize the features to range [0, 1]\n",
        "x_train = x_train.astype('float32') / np.max(features)\n",
        "x_test = x_test.astype('float32') / np.max(features)\n",
        "\n",
        "# Reshape the data to 3D format (num_samples, num_timesteps, num_features)\n",
        "x_train = x_train.reshape(x_train.shape[0], x_train.shape[1], 1)\n",
        "x_test = x_test.reshape(x_test.shape[0], x_test.shape[1], 1)\n",
        "\n",
        "# Convert labels to one-hot encoding\n",
        "num_classes = len(np.unique(labels))\n",
        "y_train = keras.utils.to_categorical(y_train, num_classes)\n",
        "y_test = keras.utils.to_categorical(y_test, num_classes)\n",
        "\n",
        "\n",
        "# Create the RNN model using LSTM\n",
        "model = keras.Sequential([\n",
        "    layers.LSTM(64, input_shape=(x_train.shape[1], 1), return_sequences=True),\n",
        "    layers.LSTM(64),\n",
        "    layers.Dense(128, activation='relu'),\n",
        "    layers.Dense(num_classes, activation='softmax')\n",
        "])\n",
        "\n",
        "\n",
        "# Compile the model\n",
        "model.compile(loss='categorical_crossentropy', optimizer='adam', metrics=['accuracy'])\n",
        "\n",
        "# Train the model\n",
        "batch_size = 16\n",
        "epochs = 20\n",
        "\n",
        "model.fit(x_train, y_train, batch_size=batch_size, epochs=epochs, validation_split=0.1)\n",
        "\n",
        "\n",
        "# Evaluate the model\n",
        "loss, accuracy = model.evaluate(x_test, y_test)\n",
        "print('Test accuracy:', accuracy)"
      ],
      "metadata": {
        "id": "jaeLafCRk6bJ",
        "colab": {
          "base_uri": "https://localhost:8080/"
        },
        "outputId": "1f236f24-f1f3-4c1c-ed3c-7b7440c25d82"
      },
      "execution_count": null,
      "outputs": [
        {
          "output_type": "stream",
          "name": "stdout",
          "text": [
            "Epoch 1/20\n",
            "148/148 [==============================] - 13s 45ms/step - loss: 2.4564 - accuracy: 0.2320 - val_loss: 2.3973 - val_accuracy: 0.2471\n",
            "Epoch 2/20\n",
            "148/148 [==============================] - 7s 50ms/step - loss: 2.4273 - accuracy: 0.2362 - val_loss: 2.4054 - val_accuracy: 0.2471\n",
            "Epoch 3/20\n",
            "148/148 [==============================] - 6s 38ms/step - loss: 2.4278 - accuracy: 0.2362 - val_loss: 2.3897 - val_accuracy: 0.2471\n",
            "Epoch 4/20\n",
            "148/148 [==============================] - 7s 49ms/step - loss: 2.3520 - accuracy: 0.2646 - val_loss: 2.2364 - val_accuracy: 0.3080\n",
            "Epoch 5/20\n",
            "148/148 [==============================] - 6s 40ms/step - loss: 2.2457 - accuracy: 0.2918 - val_loss: 2.2568 - val_accuracy: 0.2700\n",
            "Epoch 6/20\n",
            "148/148 [==============================] - 7s 50ms/step - loss: 2.2385 - accuracy: 0.2854 - val_loss: 2.2215 - val_accuracy: 0.3042\n",
            "Epoch 7/20\n",
            "148/148 [==============================] - 6s 38ms/step - loss: 2.2319 - accuracy: 0.2557 - val_loss: 2.0445 - val_accuracy: 0.2548\n",
            "Epoch 8/20\n",
            "148/148 [==============================] - 6s 43ms/step - loss: 2.0692 - accuracy: 0.2502 - val_loss: 2.5723 - val_accuracy: 0.2471\n",
            "Epoch 9/20\n",
            "148/148 [==============================] - 6s 44ms/step - loss: 2.4339 - accuracy: 0.2362 - val_loss: 2.3964 - val_accuracy: 0.2471\n",
            "Epoch 10/20\n",
            "148/148 [==============================] - 6s 38ms/step - loss: 2.4237 - accuracy: 0.2362 - val_loss: 2.3853 - val_accuracy: 0.2471\n",
            "Epoch 11/20\n",
            "148/148 [==============================] - 7s 50ms/step - loss: 2.4253 - accuracy: 0.2362 - val_loss: 2.3915 - val_accuracy: 0.2471\n",
            "Epoch 12/20\n",
            "148/148 [==============================] - 6s 38ms/step - loss: 2.4243 - accuracy: 0.2362 - val_loss: 2.3895 - val_accuracy: 0.2471\n",
            "Epoch 13/20\n",
            "148/148 [==============================] - 8s 52ms/step - loss: 2.4237 - accuracy: 0.2362 - val_loss: 2.3888 - val_accuracy: 0.2471\n",
            "Epoch 14/20\n",
            "148/148 [==============================] - 6s 38ms/step - loss: 2.4227 - accuracy: 0.2362 - val_loss: 2.3945 - val_accuracy: 0.2471\n",
            "Epoch 15/20\n",
            "148/148 [==============================] - 7s 48ms/step - loss: 2.4230 - accuracy: 0.2362 - val_loss: 2.3951 - val_accuracy: 0.2471\n",
            "Epoch 16/20\n",
            "148/148 [==============================] - 6s 38ms/step - loss: 2.4224 - accuracy: 0.2362 - val_loss: 2.3906 - val_accuracy: 0.2471\n",
            "Epoch 17/20\n",
            "148/148 [==============================] - 6s 40ms/step - loss: 2.4226 - accuracy: 0.2362 - val_loss: 2.3925 - val_accuracy: 0.2471\n",
            "Epoch 18/20\n",
            "148/148 [==============================] - 7s 48ms/step - loss: 2.4227 - accuracy: 0.2362 - val_loss: 2.3967 - val_accuracy: 0.2471\n",
            "Epoch 19/20\n",
            "148/148 [==============================] - 6s 39ms/step - loss: 2.4191 - accuracy: 0.2362 - val_loss: 2.2951 - val_accuracy: 0.2471\n",
            "Epoch 20/20\n",
            "148/148 [==============================] - 7s 50ms/step - loss: 2.0480 - accuracy: 0.3142 - val_loss: 1.9510 - val_accuracy: 0.3384\n",
            "10/10 [==============================] - 0s 13ms/step - loss: 2.0366 - accuracy: 0.3151\n",
            "Test accuracy: 0.31506848335266113\n"
          ]
        }
      ]
    },
    {
      "cell_type": "code",
      "source": [
        "# Make predictions on test data\n",
        "y_pred = model.predict(x_test)\n",
        "y_pred_classes = np.argmax(y_pred, axis=1)\n",
        "y_true = np.argmax(y_test, axis=1)\n",
        "\n",
        "# Calculate precision, recall, and F1-score with 'macro' averaging\n",
        "precision = precision_score(y_true, y_pred_classes, average='macro')\n",
        "recall = recall_score(y_true, y_pred_classes, average='macro')\n",
        "f1 = f1_score(y_true, y_pred_classes, average='macro')\n",
        "\n",
        "print('Macro Avg Precision:', precision)\n",
        "print('Macro Avg Recall:', recall)\n",
        "print('Macro Avg F1-score:', f1)"
      ],
      "metadata": {
        "id": "vMhLmIzFKkTI",
        "colab": {
          "base_uri": "https://localhost:8080/"
        },
        "outputId": "1ac66a2b-0ecb-4121-ae3d-36bb3557a7c8"
      },
      "execution_count": null,
      "outputs": [
        {
          "output_type": "stream",
          "name": "stdout",
          "text": [
            "10/10 [==============================] - 1s 16ms/step\n",
            "Macro Avg Precision: 0.04734051936235598\n",
            "Macro Avg Recall: 0.14285714285714285\n",
            "Macro Avg F1-score: 0.07099884708101876\n"
          ]
        },
        {
          "output_type": "stream",
          "name": "stderr",
          "text": [
            "/usr/local/lib/python3.10/dist-packages/sklearn/metrics/_classification.py:1344: UndefinedMetricWarning: Precision is ill-defined and being set to 0.0 in labels with no predicted samples. Use `zero_division` parameter to control this behavior.\n",
            "  _warn_prf(average, modifier, msg_start, len(result))\n"
          ]
        }
      ]
    }
  ]
}
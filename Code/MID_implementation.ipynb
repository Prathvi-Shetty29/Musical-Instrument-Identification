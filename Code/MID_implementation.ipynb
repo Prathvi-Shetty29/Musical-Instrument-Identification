{
  "nbformat": 4,
  "nbformat_minor": 0,
  "metadata": {
    "colab": {
      "provenance": []
    },
    "kernelspec": {
      "name": "python3",
      "display_name": "Python 3"
    },
    "language_info": {
      "name": "python"
    }
  },
  "cells": [
    {
      "cell_type": "markdown",
      "source": [
        "# Label_Prepocessing"
      ],
      "metadata": {
        "id": "wI2BxgAT1R8W"
      }
    },
    {
      "cell_type": "code",
      "execution_count": null,
      "metadata": {
        "id": "mOZX8v_AuESV"
      },
      "outputs": [],
      "source": [
        "import numpy as np\n",
        "import librosa, librosa.display\n",
        "import matplotlib.pyplot as plt\n",
        "from tqdm import tqdm\n",
        "import pandas as pd\n",
        "import os\n",
        "import IPython\n",
        "import glob\n",
        "from sklearn import preprocessing\n",
        "from sklearn.preprocessing import LabelEncoder, OneHotEncoder\n",
        "from sklearn.metrics import accuracy_score\n",
        "\n",
        "\n",
        "from sklearn.model_selection import train_test_split\n",
        "import keras\n",
        "import tensorflow as tf\n",
        "from tensorflow.keras.models import Model\n",
        "\n",
        "from tensorflow.keras.models import Sequential\n",
        "from sklearn.metrics import precision_score, recall_score, f1_score\n",
        "\n",
        "from tensorflow.keras.layers import LSTM, Dense\n",
        "from keras.layers import Embedding"
      ]
    },
    {
      "cell_type": "code",
      "source": [
        "mfcc_csv=pd.read_csv(\"/content/drive/MyDrive/mini project/MFCC.csv\")"
      ],
      "metadata": {
        "id": "SfrQVMRp0GID"
      },
      "execution_count": null,
      "outputs": []
    },
    {
      "cell_type": "code",
      "source": [
        "label_list=mfcc_csv[\"label_list\"]"
      ],
      "metadata": {
        "id": "qKdPN1E50C6j"
      },
      "execution_count": null,
      "outputs": []
    },
    {
      "cell_type": "code",
      "source": [
        "label_encoder = LabelEncoder()\n",
        "label_encoded = label_encoder.fit_transform(label_list)\n",
        "print(label_encoded)"
      ],
      "metadata": {
        "colab": {
          "base_uri": "https://localhost:8080/"
        },
        "id": "98o2iBLFuhFs",
        "outputId": "6244fb38-d3b8-4b2e-9937-40f947eef55e"
      },
      "execution_count": null,
      "outputs": [
        {
          "output_type": "stream",
          "name": "stdout",
          "text": [
            "[9 5 9 ... 3 3 3]\n"
          ]
        }
      ]
    },
    {
      "cell_type": "code",
      "source": [
        "label_encoded = label_encoded[:, np.newaxis]\n"
      ],
      "metadata": {
        "id": "Xbbs3dn31Bvb"
      },
      "execution_count": null,
      "outputs": []
    },
    {
      "cell_type": "code",
      "source": [
        "one_hot_encoder = OneHotEncoder(sparse=False)\n",
        "one_hot_encoded = one_hot_encoder.fit_transform(label_encoded)\n",
        "one_hot_encoded"
      ],
      "metadata": {
        "colab": {
          "base_uri": "https://localhost:8080/"
        },
        "id": "nqVYv2dP1FmU",
        "outputId": "5e1606a7-c9bd-4fec-a7eb-613a3f0467c9"
      },
      "execution_count": null,
      "outputs": [
        {
          "output_type": "stream",
          "name": "stderr",
          "text": [
            "/usr/local/lib/python3.10/dist-packages/sklearn/preprocessing/_encoders.py:868: FutureWarning: `sparse` was renamed to `sparse_output` in version 1.2 and will be removed in 1.4. `sparse_output` is ignored unless you leave `sparse` to its default value.\n",
            "  warnings.warn(\n"
          ]
        },
        {
          "output_type": "execute_result",
          "data": {
            "text/plain": [
              "array([[0., 0., 0., ..., 0., 0., 0.],\n",
              "       [0., 0., 0., ..., 0., 0., 0.],\n",
              "       [0., 0., 0., ..., 0., 0., 0.],\n",
              "       ...,\n",
              "       [0., 0., 0., ..., 0., 0., 0.],\n",
              "       [0., 0., 0., ..., 0., 0., 0.],\n",
              "       [0., 0., 0., ..., 0., 0., 0.]])"
            ]
          },
          "metadata": {},
          "execution_count": 6
        }
      ]
    },
    {
      "cell_type": "code",
      "source": [
        "import numpy as np\n",
        "from sklearn.preprocessing import LabelEncoder, OneHotEncoder\n",
        "\n",
        "# Load the CSV file and extract the label_list\n",
        "mfcc_csv = pd.read_csv(\"/content/drive/MyDrive/mini project/MFCC.csv\")\n",
        "label_list = mfcc_csv[\"label_list\"]\n",
        "\n",
        "# Encode the labels using LabelEncoder\n",
        "label_encoder = LabelEncoder()\n",
        "label_encoded = label_encoder.fit_transform(label_list)\n",
        "label_encoded = label_encoded[:, np.newaxis]\n",
        "\n",
        "# One-hot encode the labels using OneHotEncoder\n",
        "one_hot_encoder = OneHotEncoder(sparse=False)\n",
        "one_hot_encoded = one_hot_encoder.fit_transform(label_encoded)\n",
        "\n",
        "# Save the label_encoder and one_hot_encoder objects\n",
        "np.save('/content/drive/MyDrive/label_encoder_classes.npy', label_encoder.classes_)\n",
        "np.save('/content/drive/MyDrive/one_hot_encoder_matrix.npy', one_hot_encoder.get_feature_names_out(['label_encoded']))\n",
        "\n",
        "print(\"Label encoder classes and one-hot encoder matrix saved successfully.\")"
      ],
      "metadata": {
        "colab": {
          "base_uri": "https://localhost:8080/"
        },
        "id": "6dBmcvGiB9ua",
        "outputId": "07140ade-468d-4438-f637-1d79a5de2dba"
      },
      "execution_count": null,
      "outputs": [
        {
          "output_type": "stream",
          "name": "stderr",
          "text": [
            "/usr/local/lib/python3.10/dist-packages/sklearn/preprocessing/_encoders.py:868: FutureWarning: `sparse` was renamed to `sparse_output` in version 1.2 and will be removed in 1.4. `sparse_output` is ignored unless you leave `sparse` to its default value.\n",
            "  warnings.warn(\n"
          ]
        },
        {
          "output_type": "stream",
          "name": "stdout",
          "text": [
            "Label encoder classes and one-hot encoder matrix saved successfully.\n"
          ]
        }
      ]
    },
    {
      "cell_type": "markdown",
      "source": [
        "# Model building"
      ],
      "metadata": {
        "id": "4dpIKuDP1hRk"
      }
    },
    {
      "cell_type": "code",
      "source": [
        "from sklearn.model_selection import train_test_split\n",
        "from sklearn.metrics import confusion_matrix\n",
        "from keras.layers import Conv2D, MaxPool2D, Flatten, Dense, Dropout\n",
        "from keras.models import Sequential"
      ],
      "metadata": {
        "id": "2lptXqgk1kNZ"
      },
      "execution_count": null,
      "outputs": []
    },
    {
      "cell_type": "code",
      "source": [
        "import pandas as pd\n",
        "df=pd.read_csv(\"/content/drive/MyDrive/mini project/MFCC.csv\")"
      ],
      "metadata": {
        "id": "R5K_uVfN1mOS"
      },
      "execution_count": null,
      "outputs": []
    },
    {
      "cell_type": "code",
      "source": [
        "label_list=df[\"label_list\"]"
      ],
      "metadata": {
        "id": "4nMWSdupAXTj"
      },
      "execution_count": null,
      "outputs": []
    },
    {
      "cell_type": "code",
      "source": [
        "label_encoder = LabelEncoder()\n",
        "label_encoded = label_encoder.fit_transform(label_list)\n",
        "print(label_encoded)"
      ],
      "metadata": {
        "colab": {
          "base_uri": "https://localhost:8080/"
        },
        "id": "Yh3Oad3KAaMl",
        "outputId": "567f8a99-14a4-4a81-dd02-80e1aaa1f7da"
      },
      "execution_count": null,
      "outputs": [
        {
          "output_type": "stream",
          "name": "stdout",
          "text": [
            "[9 5 9 ... 3 3 3]\n"
          ]
        }
      ]
    },
    {
      "cell_type": "code",
      "source": [
        "label_encoded = label_encoded[:, np.newaxis]\n"
      ],
      "metadata": {
        "id": "5kCAjYw_An0w"
      },
      "execution_count": null,
      "outputs": []
    },
    {
      "cell_type": "code",
      "source": [
        "one_hot_encoder = OneHotEncoder(sparse=False)\n",
        "one_hot_encoded = one_hot_encoder.fit_transform(label_encoded)\n",
        "one_hot_encoded"
      ],
      "metadata": {
        "colab": {
          "base_uri": "https://localhost:8080/"
        },
        "id": "Nc9eCGVAAshd",
        "outputId": "f4e0be35-b411-4c89-b459-d479ef239de2"
      },
      "execution_count": null,
      "outputs": [
        {
          "output_type": "stream",
          "name": "stderr",
          "text": [
            "/usr/local/lib/python3.10/dist-packages/sklearn/preprocessing/_encoders.py:868: FutureWarning: `sparse` was renamed to `sparse_output` in version 1.2 and will be removed in 1.4. `sparse_output` is ignored unless you leave `sparse` to its default value.\n",
            "  warnings.warn(\n"
          ]
        },
        {
          "output_type": "execute_result",
          "data": {
            "text/plain": [
              "array([[0., 0., 0., ..., 0., 0., 0.],\n",
              "       [0., 0., 0., ..., 0., 0., 0.],\n",
              "       [0., 0., 0., ..., 0., 0., 0.],\n",
              "       ...,\n",
              "       [0., 0., 0., ..., 0., 0., 0.],\n",
              "       [0., 0., 0., ..., 0., 0., 0.],\n",
              "       [0., 0., 0., ..., 0., 0., 0.]])"
            ]
          },
          "metadata": {},
          "execution_count": 13
        }
      ]
    },
    {
      "cell_type": "code",
      "source": [
        "X = df.drop(['label_list'], axis=1)"
      ],
      "metadata": {
        "id": "Q5arFPxlAvIM"
      },
      "execution_count": null,
      "outputs": []
    },
    {
      "cell_type": "code",
      "source": [
        "X"
      ],
      "metadata": {
        "colab": {
          "base_uri": "https://localhost:8080/",
          "height": 443
        },
        "id": "ibGwhZKUAxRm",
        "outputId": "7ed597c6-2624-413f-f014-97b218075dda"
      },
      "execution_count": null,
      "outputs": [
        {
          "output_type": "execute_result",
          "data": {
            "text/plain": [
              "              0           1          2          3          4          5  \\\n",
              "0    -378.56287   64.111930 -56.815857 -23.819674 -25.970440 -23.923975   \n",
              "1    -299.84653  171.485810 -67.063255  31.610025  -6.439918 -13.695334   \n",
              "2    -273.99545  -24.769262 -40.575880 -14.348162 -38.159973  -7.821725   \n",
              "3    -438.14120  151.839300  37.301105  24.950106 -18.143791 -27.564340   \n",
              "4    -446.88354   92.405110   1.802784 -14.635609 -35.202602 -33.184807   \n",
              "...         ...         ...        ...        ...        ...        ...   \n",
              "2505 -198.89557  117.532005 -14.359482  12.552975  12.689218  17.823340   \n",
              "2506 -160.31567   60.430435  -3.037581   8.526549   7.886362  10.303400   \n",
              "2507 -210.50294   87.555950  -4.900369  21.285280   8.778797  18.705292   \n",
              "2508 -204.74034  131.028640  17.241516  26.499006  24.454214  17.958796   \n",
              "2509 -172.38667   49.995705   0.008299  12.050078   4.520324  16.704115   \n",
              "\n",
              "              6          7          8          9         10         11  \n",
              "0    -22.850641 -16.961950 -17.770706 -16.103083 -13.194684  -9.934724  \n",
              "1    -21.804950 -19.105515 -10.690824  -9.432280 -17.038414  -5.062725  \n",
              "2    -24.878440 -10.688063 -12.952185  -6.292155 -12.959389  -7.395941  \n",
              "3    -11.425448 -16.658848  -3.818694   0.554644 -22.375854  -4.751468  \n",
              "4    -27.096191 -27.520306 -12.470867 -11.301868 -21.546510  -8.698571  \n",
              "...         ...        ...        ...        ...        ...        ...  \n",
              "2505  18.807043  -3.000129 -16.960250  -2.437153   1.030669  -1.540760  \n",
              "2506  13.672516   0.160216 -18.814621  -9.143237 -11.122389  -0.823019  \n",
              "2507   3.690997   1.070510 -15.887649  -8.380266   5.299484  -0.237337  \n",
              "2508  16.106180  18.350971   2.432974   0.276553  -7.358650 -11.874747  \n",
              "2509  11.392488  -7.875369 -13.583038  -2.259585   2.745243  -2.923395  \n",
              "\n",
              "[2510 rows x 12 columns]"
            ],
            "text/html": [
              "\n",
              "  <div id=\"df-0df50c1f-7ab7-475a-b5a0-d1e5ee8a2247\" class=\"colab-df-container\">\n",
              "    <div>\n",
              "<style scoped>\n",
              "    .dataframe tbody tr th:only-of-type {\n",
              "        vertical-align: middle;\n",
              "    }\n",
              "\n",
              "    .dataframe tbody tr th {\n",
              "        vertical-align: top;\n",
              "    }\n",
              "\n",
              "    .dataframe thead th {\n",
              "        text-align: right;\n",
              "    }\n",
              "</style>\n",
              "<table border=\"1\" class=\"dataframe\">\n",
              "  <thead>\n",
              "    <tr style=\"text-align: right;\">\n",
              "      <th></th>\n",
              "      <th>0</th>\n",
              "      <th>1</th>\n",
              "      <th>2</th>\n",
              "      <th>3</th>\n",
              "      <th>4</th>\n",
              "      <th>5</th>\n",
              "      <th>6</th>\n",
              "      <th>7</th>\n",
              "      <th>8</th>\n",
              "      <th>9</th>\n",
              "      <th>10</th>\n",
              "      <th>11</th>\n",
              "    </tr>\n",
              "  </thead>\n",
              "  <tbody>\n",
              "    <tr>\n",
              "      <th>0</th>\n",
              "      <td>-378.56287</td>\n",
              "      <td>64.111930</td>\n",
              "      <td>-56.815857</td>\n",
              "      <td>-23.819674</td>\n",
              "      <td>-25.970440</td>\n",
              "      <td>-23.923975</td>\n",
              "      <td>-22.850641</td>\n",
              "      <td>-16.961950</td>\n",
              "      <td>-17.770706</td>\n",
              "      <td>-16.103083</td>\n",
              "      <td>-13.194684</td>\n",
              "      <td>-9.934724</td>\n",
              "    </tr>\n",
              "    <tr>\n",
              "      <th>1</th>\n",
              "      <td>-299.84653</td>\n",
              "      <td>171.485810</td>\n",
              "      <td>-67.063255</td>\n",
              "      <td>31.610025</td>\n",
              "      <td>-6.439918</td>\n",
              "      <td>-13.695334</td>\n",
              "      <td>-21.804950</td>\n",
              "      <td>-19.105515</td>\n",
              "      <td>-10.690824</td>\n",
              "      <td>-9.432280</td>\n",
              "      <td>-17.038414</td>\n",
              "      <td>-5.062725</td>\n",
              "    </tr>\n",
              "    <tr>\n",
              "      <th>2</th>\n",
              "      <td>-273.99545</td>\n",
              "      <td>-24.769262</td>\n",
              "      <td>-40.575880</td>\n",
              "      <td>-14.348162</td>\n",
              "      <td>-38.159973</td>\n",
              "      <td>-7.821725</td>\n",
              "      <td>-24.878440</td>\n",
              "      <td>-10.688063</td>\n",
              "      <td>-12.952185</td>\n",
              "      <td>-6.292155</td>\n",
              "      <td>-12.959389</td>\n",
              "      <td>-7.395941</td>\n",
              "    </tr>\n",
              "    <tr>\n",
              "      <th>3</th>\n",
              "      <td>-438.14120</td>\n",
              "      <td>151.839300</td>\n",
              "      <td>37.301105</td>\n",
              "      <td>24.950106</td>\n",
              "      <td>-18.143791</td>\n",
              "      <td>-27.564340</td>\n",
              "      <td>-11.425448</td>\n",
              "      <td>-16.658848</td>\n",
              "      <td>-3.818694</td>\n",
              "      <td>0.554644</td>\n",
              "      <td>-22.375854</td>\n",
              "      <td>-4.751468</td>\n",
              "    </tr>\n",
              "    <tr>\n",
              "      <th>4</th>\n",
              "      <td>-446.88354</td>\n",
              "      <td>92.405110</td>\n",
              "      <td>1.802784</td>\n",
              "      <td>-14.635609</td>\n",
              "      <td>-35.202602</td>\n",
              "      <td>-33.184807</td>\n",
              "      <td>-27.096191</td>\n",
              "      <td>-27.520306</td>\n",
              "      <td>-12.470867</td>\n",
              "      <td>-11.301868</td>\n",
              "      <td>-21.546510</td>\n",
              "      <td>-8.698571</td>\n",
              "    </tr>\n",
              "    <tr>\n",
              "      <th>...</th>\n",
              "      <td>...</td>\n",
              "      <td>...</td>\n",
              "      <td>...</td>\n",
              "      <td>...</td>\n",
              "      <td>...</td>\n",
              "      <td>...</td>\n",
              "      <td>...</td>\n",
              "      <td>...</td>\n",
              "      <td>...</td>\n",
              "      <td>...</td>\n",
              "      <td>...</td>\n",
              "      <td>...</td>\n",
              "    </tr>\n",
              "    <tr>\n",
              "      <th>2505</th>\n",
              "      <td>-198.89557</td>\n",
              "      <td>117.532005</td>\n",
              "      <td>-14.359482</td>\n",
              "      <td>12.552975</td>\n",
              "      <td>12.689218</td>\n",
              "      <td>17.823340</td>\n",
              "      <td>18.807043</td>\n",
              "      <td>-3.000129</td>\n",
              "      <td>-16.960250</td>\n",
              "      <td>-2.437153</td>\n",
              "      <td>1.030669</td>\n",
              "      <td>-1.540760</td>\n",
              "    </tr>\n",
              "    <tr>\n",
              "      <th>2506</th>\n",
              "      <td>-160.31567</td>\n",
              "      <td>60.430435</td>\n",
              "      <td>-3.037581</td>\n",
              "      <td>8.526549</td>\n",
              "      <td>7.886362</td>\n",
              "      <td>10.303400</td>\n",
              "      <td>13.672516</td>\n",
              "      <td>0.160216</td>\n",
              "      <td>-18.814621</td>\n",
              "      <td>-9.143237</td>\n",
              "      <td>-11.122389</td>\n",
              "      <td>-0.823019</td>\n",
              "    </tr>\n",
              "    <tr>\n",
              "      <th>2507</th>\n",
              "      <td>-210.50294</td>\n",
              "      <td>87.555950</td>\n",
              "      <td>-4.900369</td>\n",
              "      <td>21.285280</td>\n",
              "      <td>8.778797</td>\n",
              "      <td>18.705292</td>\n",
              "      <td>3.690997</td>\n",
              "      <td>1.070510</td>\n",
              "      <td>-15.887649</td>\n",
              "      <td>-8.380266</td>\n",
              "      <td>5.299484</td>\n",
              "      <td>-0.237337</td>\n",
              "    </tr>\n",
              "    <tr>\n",
              "      <th>2508</th>\n",
              "      <td>-204.74034</td>\n",
              "      <td>131.028640</td>\n",
              "      <td>17.241516</td>\n",
              "      <td>26.499006</td>\n",
              "      <td>24.454214</td>\n",
              "      <td>17.958796</td>\n",
              "      <td>16.106180</td>\n",
              "      <td>18.350971</td>\n",
              "      <td>2.432974</td>\n",
              "      <td>0.276553</td>\n",
              "      <td>-7.358650</td>\n",
              "      <td>-11.874747</td>\n",
              "    </tr>\n",
              "    <tr>\n",
              "      <th>2509</th>\n",
              "      <td>-172.38667</td>\n",
              "      <td>49.995705</td>\n",
              "      <td>0.008299</td>\n",
              "      <td>12.050078</td>\n",
              "      <td>4.520324</td>\n",
              "      <td>16.704115</td>\n",
              "      <td>11.392488</td>\n",
              "      <td>-7.875369</td>\n",
              "      <td>-13.583038</td>\n",
              "      <td>-2.259585</td>\n",
              "      <td>2.745243</td>\n",
              "      <td>-2.923395</td>\n",
              "    </tr>\n",
              "  </tbody>\n",
              "</table>\n",
              "<p>2510 rows × 12 columns</p>\n",
              "</div>\n",
              "    <div class=\"colab-df-buttons\">\n",
              "\n",
              "  <div class=\"colab-df-container\">\n",
              "    <button class=\"colab-df-convert\" onclick=\"convertToInteractive('df-0df50c1f-7ab7-475a-b5a0-d1e5ee8a2247')\"\n",
              "            title=\"Convert this dataframe to an interactive table.\"\n",
              "            style=\"display:none;\">\n",
              "\n",
              "  <svg xmlns=\"http://www.w3.org/2000/svg\" height=\"24px\" viewBox=\"0 -960 960 960\">\n",
              "    <path d=\"M120-120v-720h720v720H120Zm60-500h600v-160H180v160Zm220 220h160v-160H400v160Zm0 220h160v-160H400v160ZM180-400h160v-160H180v160Zm440 0h160v-160H620v160ZM180-180h160v-160H180v160Zm440 0h160v-160H620v160Z\"/>\n",
              "  </svg>\n",
              "    </button>\n",
              "\n",
              "  <style>\n",
              "    .colab-df-container {\n",
              "      display:flex;\n",
              "      gap: 12px;\n",
              "    }\n",
              "\n",
              "    .colab-df-convert {\n",
              "      background-color: #E8F0FE;\n",
              "      border: none;\n",
              "      border-radius: 50%;\n",
              "      cursor: pointer;\n",
              "      display: none;\n",
              "      fill: #1967D2;\n",
              "      height: 32px;\n",
              "      padding: 0 0 0 0;\n",
              "      width: 32px;\n",
              "    }\n",
              "\n",
              "    .colab-df-convert:hover {\n",
              "      background-color: #E2EBFA;\n",
              "      box-shadow: 0px 1px 2px rgba(60, 64, 67, 0.3), 0px 1px 3px 1px rgba(60, 64, 67, 0.15);\n",
              "      fill: #174EA6;\n",
              "    }\n",
              "\n",
              "    .colab-df-buttons div {\n",
              "      margin-bottom: 4px;\n",
              "    }\n",
              "\n",
              "    [theme=dark] .colab-df-convert {\n",
              "      background-color: #3B4455;\n",
              "      fill: #D2E3FC;\n",
              "    }\n",
              "\n",
              "    [theme=dark] .colab-df-convert:hover {\n",
              "      background-color: #434B5C;\n",
              "      box-shadow: 0px 1px 3px 1px rgba(0, 0, 0, 0.15);\n",
              "      filter: drop-shadow(0px 1px 2px rgba(0, 0, 0, 0.3));\n",
              "      fill: #FFFFFF;\n",
              "    }\n",
              "  </style>\n",
              "\n",
              "    <script>\n",
              "      const buttonEl =\n",
              "        document.querySelector('#df-0df50c1f-7ab7-475a-b5a0-d1e5ee8a2247 button.colab-df-convert');\n",
              "      buttonEl.style.display =\n",
              "        google.colab.kernel.accessAllowed ? 'block' : 'none';\n",
              "\n",
              "      async function convertToInteractive(key) {\n",
              "        const element = document.querySelector('#df-0df50c1f-7ab7-475a-b5a0-d1e5ee8a2247');\n",
              "        const dataTable =\n",
              "          await google.colab.kernel.invokeFunction('convertToInteractive',\n",
              "                                                    [key], {});\n",
              "        if (!dataTable) return;\n",
              "\n",
              "        const docLinkHtml = 'Like what you see? Visit the ' +\n",
              "          '<a target=\"_blank\" href=https://colab.research.google.com/notebooks/data_table.ipynb>data table notebook</a>'\n",
              "          + ' to learn more about interactive tables.';\n",
              "        element.innerHTML = '';\n",
              "        dataTable['output_type'] = 'display_data';\n",
              "        await google.colab.output.renderOutput(dataTable, element);\n",
              "        const docLink = document.createElement('div');\n",
              "        docLink.innerHTML = docLinkHtml;\n",
              "        element.appendChild(docLink);\n",
              "      }\n",
              "    </script>\n",
              "  </div>\n",
              "\n",
              "\n",
              "<div id=\"df-6b170174-9beb-42c7-85f7-80526bf56663\">\n",
              "  <button class=\"colab-df-quickchart\" onclick=\"quickchart('df-6b170174-9beb-42c7-85f7-80526bf56663')\"\n",
              "            title=\"Suggest charts.\"\n",
              "            style=\"display:none;\">\n",
              "\n",
              "<svg xmlns=\"http://www.w3.org/2000/svg\" height=\"24px\"viewBox=\"0 0 24 24\"\n",
              "     width=\"24px\">\n",
              "    <g>\n",
              "        <path d=\"M19 3H5c-1.1 0-2 .9-2 2v14c0 1.1.9 2 2 2h14c1.1 0 2-.9 2-2V5c0-1.1-.9-2-2-2zM9 17H7v-7h2v7zm4 0h-2V7h2v10zm4 0h-2v-4h2v4z\"/>\n",
              "    </g>\n",
              "</svg>\n",
              "  </button>\n",
              "\n",
              "<style>\n",
              "  .colab-df-quickchart {\n",
              "      --bg-color: #E8F0FE;\n",
              "      --fill-color: #1967D2;\n",
              "      --hover-bg-color: #E2EBFA;\n",
              "      --hover-fill-color: #174EA6;\n",
              "      --disabled-fill-color: #AAA;\n",
              "      --disabled-bg-color: #DDD;\n",
              "  }\n",
              "\n",
              "  [theme=dark] .colab-df-quickchart {\n",
              "      --bg-color: #3B4455;\n",
              "      --fill-color: #D2E3FC;\n",
              "      --hover-bg-color: #434B5C;\n",
              "      --hover-fill-color: #FFFFFF;\n",
              "      --disabled-bg-color: #3B4455;\n",
              "      --disabled-fill-color: #666;\n",
              "  }\n",
              "\n",
              "  .colab-df-quickchart {\n",
              "    background-color: var(--bg-color);\n",
              "    border: none;\n",
              "    border-radius: 50%;\n",
              "    cursor: pointer;\n",
              "    display: none;\n",
              "    fill: var(--fill-color);\n",
              "    height: 32px;\n",
              "    padding: 0;\n",
              "    width: 32px;\n",
              "  }\n",
              "\n",
              "  .colab-df-quickchart:hover {\n",
              "    background-color: var(--hover-bg-color);\n",
              "    box-shadow: 0 1px 2px rgba(60, 64, 67, 0.3), 0 1px 3px 1px rgba(60, 64, 67, 0.15);\n",
              "    fill: var(--button-hover-fill-color);\n",
              "  }\n",
              "\n",
              "  .colab-df-quickchart-complete:disabled,\n",
              "  .colab-df-quickchart-complete:disabled:hover {\n",
              "    background-color: var(--disabled-bg-color);\n",
              "    fill: var(--disabled-fill-color);\n",
              "    box-shadow: none;\n",
              "  }\n",
              "\n",
              "  .colab-df-spinner {\n",
              "    border: 2px solid var(--fill-color);\n",
              "    border-color: transparent;\n",
              "    border-bottom-color: var(--fill-color);\n",
              "    animation:\n",
              "      spin 1s steps(1) infinite;\n",
              "  }\n",
              "\n",
              "  @keyframes spin {\n",
              "    0% {\n",
              "      border-color: transparent;\n",
              "      border-bottom-color: var(--fill-color);\n",
              "      border-left-color: var(--fill-color);\n",
              "    }\n",
              "    20% {\n",
              "      border-color: transparent;\n",
              "      border-left-color: var(--fill-color);\n",
              "      border-top-color: var(--fill-color);\n",
              "    }\n",
              "    30% {\n",
              "      border-color: transparent;\n",
              "      border-left-color: var(--fill-color);\n",
              "      border-top-color: var(--fill-color);\n",
              "      border-right-color: var(--fill-color);\n",
              "    }\n",
              "    40% {\n",
              "      border-color: transparent;\n",
              "      border-right-color: var(--fill-color);\n",
              "      border-top-color: var(--fill-color);\n",
              "    }\n",
              "    60% {\n",
              "      border-color: transparent;\n",
              "      border-right-color: var(--fill-color);\n",
              "    }\n",
              "    80% {\n",
              "      border-color: transparent;\n",
              "      border-right-color: var(--fill-color);\n",
              "      border-bottom-color: var(--fill-color);\n",
              "    }\n",
              "    90% {\n",
              "      border-color: transparent;\n",
              "      border-bottom-color: var(--fill-color);\n",
              "    }\n",
              "  }\n",
              "</style>\n",
              "\n",
              "  <script>\n",
              "    async function quickchart(key) {\n",
              "      const quickchartButtonEl =\n",
              "        document.querySelector('#' + key + ' button');\n",
              "      quickchartButtonEl.disabled = true;  // To prevent multiple clicks.\n",
              "      quickchartButtonEl.classList.add('colab-df-spinner');\n",
              "      try {\n",
              "        const charts = await google.colab.kernel.invokeFunction(\n",
              "            'suggestCharts', [key], {});\n",
              "      } catch (error) {\n",
              "        console.error('Error during call to suggestCharts:', error);\n",
              "      }\n",
              "      quickchartButtonEl.classList.remove('colab-df-spinner');\n",
              "      quickchartButtonEl.classList.add('colab-df-quickchart-complete');\n",
              "    }\n",
              "    (() => {\n",
              "      let quickchartButtonEl =\n",
              "        document.querySelector('#df-6b170174-9beb-42c7-85f7-80526bf56663 button');\n",
              "      quickchartButtonEl.style.display =\n",
              "        google.colab.kernel.accessAllowed ? 'block' : 'none';\n",
              "    })();\n",
              "  </script>\n",
              "</div>\n",
              "    </div>\n",
              "  </div>\n"
            ]
          },
          "metadata": {},
          "execution_count": 15
        }
      ]
    },
    {
      "cell_type": "code",
      "source": [
        "y = one_hot_encoded\n",
        "X = (X-X.min())/(X.max()-X.min())\n",
        "X_train, X_test, y_train, y_test = train_test_split(np.array(X), y, test_size=0.2)"
      ],
      "metadata": {
        "id": "dtycDP2qA1qB"
      },
      "execution_count": null,
      "outputs": []
    },
    {
      "cell_type": "code",
      "source": [
        "X_train.shape"
      ],
      "metadata": {
        "colab": {
          "base_uri": "https://localhost:8080/"
        },
        "id": "c874oRvKA4xc",
        "outputId": "d9c649d1-abdd-4dcd-b569-c24283713f9c"
      },
      "execution_count": null,
      "outputs": [
        {
          "output_type": "execute_result",
          "data": {
            "text/plain": [
              "(2008, 12)"
            ]
          },
          "metadata": {},
          "execution_count": 17
        }
      ]
    },
    {
      "cell_type": "code",
      "source": [
        "type(X)"
      ],
      "metadata": {
        "colab": {
          "base_uri": "https://localhost:8080/"
        },
        "id": "8Pf_3pYQA7nI",
        "outputId": "c324030e-4686-435a-fb10-c2300bcf6340"
      },
      "execution_count": null,
      "outputs": [
        {
          "output_type": "execute_result",
          "data": {
            "text/plain": [
              "pandas.core.frame.DataFrame"
            ]
          },
          "metadata": {},
          "execution_count": 18
        }
      ]
    },
    {
      "cell_type": "code",
      "source": [
        "X_train.shape\n"
      ],
      "metadata": {
        "colab": {
          "base_uri": "https://localhost:8080/"
        },
        "id": "CSf370kEA8ck",
        "outputId": "759add07-5ecc-4172-f384-4599ba8ad600"
      },
      "execution_count": null,
      "outputs": [
        {
          "output_type": "execute_result",
          "data": {
            "text/plain": [
              "(2008, 12)"
            ]
          },
          "metadata": {},
          "execution_count": 19
        }
      ]
    },
    {
      "cell_type": "markdown",
      "source": [
        "# MLP classifier"
      ],
      "metadata": {
        "id": "o7qZJslwBCgr"
      }
    },
    {
      "cell_type": "markdown",
      "source": [
        "MFCC"
      ],
      "metadata": {
        "id": "xdcuAAyIXNKU"
      }
    },
    {
      "cell_type": "code",
      "source": [
        "import numpy as np\n",
        "import pandas as pd\n",
        "from sklearn.model_selection import train_test_split\n",
        "from sklearn.neural_network import MLPClassifier\n",
        "from sklearn.metrics import accuracy_score, classification_report\n",
        "\n",
        "# Load the dataset from the CSV file\n",
        "dataset_path = \"/content/drive/MyDrive/mini project/MFCC.csv\"\n",
        "dataset = pd.read_csv(dataset_path)\n",
        "\n",
        "# Create feature matrix (X) and target labels (y)\n",
        "X = dataset.drop(columns=[\"label_list\"]).values\n",
        "y = dataset[\"label_list\"].values\n",
        "\n",
        "# Split the data into training and testing sets\n",
        "X_train, X_test, y_train, y_test = train_test_split(X, y, test_size=0.2, random_state=42)\n",
        "\n",
        "# Initialize the MLP classifier\n",
        "mlp_classifier = MLPClassifier(hidden_layer_sizes=(100, 50), max_iter=1000, random_state=42)\n",
        "# You can adjust the hidden_layer_sizes and other hyperparameters as needed\n",
        "\n",
        "# Fit the MLP model\n",
        "mlp_classifier.fit(X_train, y_train)\n",
        "\n",
        "# Make predictions on the test set\n",
        "y_pred = mlp_classifier.predict(X_test)\n",
        "\n",
        "# Evaluate the model\n",
        "accuracy = accuracy_score(y_test, y_pred)\n",
        "print(\"Accuracy:\", accuracy)\n",
        "\n",
        "# Generate a classification report\n",
        "print(\"Classification Report:\")\n",
        "print(classification_report(y_test, y_pred))\n"
      ],
      "metadata": {
        "colab": {
          "base_uri": "https://localhost:8080/"
        },
        "id": "OxHXafWHXUj3",
        "outputId": "f63d1400-b200-40a9-a1ce-052cc7d83507"
      },
      "execution_count": null,
      "outputs": [
        {
          "output_type": "stream",
          "name": "stdout",
          "text": [
            "Accuracy: 0.8864541832669323\n",
            "Classification Report:\n",
            "                   precision    recall  f1-score   support\n",
            "\n",
            "   Alto Saxophone       0.88      0.74      0.80        50\n",
            "            Cello       0.97      0.91      0.94        34\n",
            "         Clarinet       0.83      0.69      0.75        42\n",
            "      Double Bass       1.00      0.97      0.98        32\n",
            "            Flute       0.90      0.90      0.90        48\n",
            "      French horn       0.90      0.84      0.87        32\n",
            "           Guitar       0.74      1.00      0.85        35\n",
            "             Oboe       0.88      0.96      0.91        45\n",
            "Soprano saxophone       0.67      0.64      0.65        25\n",
            "         Trombone       0.93      0.87      0.90        31\n",
            "          Trumpet       0.94      0.89      0.92        19\n",
            "             Tuba       0.96      1.00      0.98        27\n",
            "            Viola       0.90      1.00      0.95        19\n",
            "           Violin       0.93      1.00      0.96        63\n",
            "\n",
            "         accuracy                           0.89       502\n",
            "        macro avg       0.89      0.89      0.88       502\n",
            "     weighted avg       0.89      0.89      0.88       502\n",
            "\n"
          ]
        }
      ]
    },
    {
      "cell_type": "markdown",
      "source": [
        "chroma"
      ],
      "metadata": {
        "id": "0tW8JNt6XNBV"
      }
    },
    {
      "cell_type": "code",
      "source": [
        "import numpy as np\n",
        "import pandas as pd\n",
        "from sklearn.model_selection import train_test_split\n",
        "from sklearn.neural_network import MLPClassifier\n",
        "from sklearn.metrics import accuracy_score, classification_report\n",
        "\n",
        "# Load the dataset from the CSV file\n",
        "dataset_path = \"/content/drive/MyDrive/mini project/chroma_features.csv\"\n",
        "dataset = pd.read_csv(dataset_path)\n",
        "\n",
        "# Create feature matrix (X) and target labels (y)\n",
        "X = dataset.drop(columns=[\"label_list\"]).values\n",
        "y = dataset[\"label_list\"].values\n",
        "\n",
        "# Split the data into training and testing sets\n",
        "X_train, X_test, y_train, y_test = train_test_split(X, y, test_size=0.2, random_state=42)\n",
        "\n",
        "# Initialize the MLP classifier\n",
        "mlp_classifier = MLPClassifier(hidden_layer_sizes=(100, 50), max_iter=1000, random_state=42)\n",
        "# You can adjust the hidden_layer_sizes and other hyperparameters as needed\n",
        "\n",
        "# Fit the MLP model\n",
        "mlp_classifier.fit(X_train, y_train)\n",
        "\n",
        "# Make predictions on the test set\n",
        "y_pred = mlp_classifier.predict(X_test)\n",
        "\n",
        "# Evaluate the model\n",
        "accuracy = accuracy_score(y_test, y_pred)\n",
        "print(\"Accuracy:\", accuracy)\n",
        "\n",
        "# Generate a classification report\n",
        "print(\"Classification Report:\")\n",
        "print(classification_report(y_test, y_pred))\n"
      ],
      "metadata": {
        "colab": {
          "base_uri": "https://localhost:8080/"
        },
        "id": "RORxwI79XV8_",
        "outputId": "d2644cc4-c389-4805-8789-497398827ccd"
      },
      "execution_count": null,
      "outputs": [
        {
          "output_type": "stream",
          "name": "stdout",
          "text": [
            "Accuracy: 0.4402390438247012\n",
            "Classification Report:\n",
            "                   precision    recall  f1-score   support\n",
            "\n",
            "   Alto Saxophone       0.43      0.40      0.41        50\n",
            "            Cello       0.58      0.62      0.60        34\n",
            "         Clarinet       0.15      0.12      0.13        42\n",
            "      Double Bass       0.88      0.72      0.79        32\n",
            "            Flute       0.31      0.40      0.35        48\n",
            "      French horn       0.17      0.06      0.09        32\n",
            "           Guitar       0.52      0.66      0.58        35\n",
            "             Oboe       0.51      0.42      0.46        45\n",
            "Soprano saxophone       0.11      0.08      0.09        25\n",
            "         Trombone       0.53      0.55      0.54        31\n",
            "          Trumpet       0.18      0.26      0.21        19\n",
            "             Tuba       0.50      0.37      0.43        27\n",
            "            Viola       0.24      0.42      0.31        19\n",
            "           Violin       0.64      0.75      0.69        63\n",
            "\n",
            "         accuracy                           0.44       502\n",
            "        macro avg       0.41      0.42      0.41       502\n",
            "     weighted avg       0.43      0.44      0.43       502\n",
            "\n"
          ]
        }
      ]
    },
    {
      "cell_type": "markdown",
      "source": [
        "wavelet"
      ],
      "metadata": {
        "id": "KUeidp8ZXMyn"
      }
    },
    {
      "cell_type": "code",
      "source": [
        "import numpy as np\n",
        "import pandas as pd\n",
        "from sklearn.model_selection import train_test_split\n",
        "from sklearn.neural_network import MLPClassifier\n",
        "from sklearn.metrics import accuracy_score, classification_report\n",
        "\n",
        "# Load the dataset from the CSV file\n",
        "dataset_path = \"/content/drive/MyDrive/mini project/wavelet_features.csv\"\n",
        "dataset = pd.read_csv(dataset_path)\n",
        "\n",
        "# Create feature matrix (X) and target labels (y)\n",
        "X = dataset.drop(columns=[\"label_list\"]).values\n",
        "y = dataset[\"label_list\"].values\n",
        "\n",
        "# Split the data into training and testing sets\n",
        "X_train, X_test, y_train, y_test = train_test_split(X, y, test_size=0.2, random_state=42)\n",
        "\n",
        "# Initialize the MLP classifier\n",
        "mlp_classifier = MLPClassifier(hidden_layer_sizes=(100, 50), max_iter=1000, random_state=42)\n",
        "# You can adjust the hidden_layer_sizes and other hyperparameters as needed\n",
        "\n",
        "# Fit the MLP model\n",
        "mlp_classifier.fit(X_train, y_train)\n",
        "\n",
        "# Make predictions on the test set\n",
        "y_pred = mlp_classifier.predict(X_test)\n",
        "\n",
        "# Evaluate the model\n",
        "accuracy = accuracy_score(y_test, y_pred)\n",
        "print(\"Accuracy:\", accuracy)\n",
        "\n",
        "# Generate a classification report\n",
        "print(\"Classification Report:\")\n",
        "print(classification_report(y_test, y_pred))\n"
      ],
      "metadata": {
        "colab": {
          "base_uri": "https://localhost:8080/"
        },
        "id": "BSfDyCZXXWXw",
        "outputId": "08859b7c-fc2d-40bf-a78d-dda4b41fe0e7"
      },
      "execution_count": null,
      "outputs": [
        {
          "output_type": "stream",
          "name": "stdout",
          "text": [
            "Accuracy: 0.1254980079681275\n",
            "Classification Report:\n",
            "                   precision    recall  f1-score   support\n",
            "\n",
            "   Alto Saxophone       0.00      0.00      0.00        50\n",
            "            Cello       0.00      0.00      0.00        34\n",
            "         Clarinet       0.00      0.00      0.00        42\n",
            "      Double Bass       0.00      0.00      0.00        32\n",
            "            Flute       0.00      0.00      0.00        48\n",
            "      French horn       0.00      0.00      0.00        32\n",
            "           Guitar       0.00      0.00      0.00        35\n",
            "             Oboe       0.00      0.00      0.00        45\n",
            "Soprano saxophone       0.00      0.00      0.00        25\n",
            "         Trombone       0.00      0.00      0.00        31\n",
            "          Trumpet       0.00      0.00      0.00        19\n",
            "             Tuba       0.00      0.00      0.00        27\n",
            "            Viola       0.00      0.00      0.00        19\n",
            "           Violin       0.13      1.00      0.22        63\n",
            "\n",
            "         accuracy                           0.13       502\n",
            "        macro avg       0.01      0.07      0.02       502\n",
            "     weighted avg       0.02      0.13      0.03       502\n",
            "\n"
          ]
        },
        {
          "output_type": "stream",
          "name": "stderr",
          "text": [
            "/usr/local/lib/python3.10/dist-packages/sklearn/metrics/_classification.py:1344: UndefinedMetricWarning: Precision and F-score are ill-defined and being set to 0.0 in labels with no predicted samples. Use `zero_division` parameter to control this behavior.\n",
            "  _warn_prf(average, modifier, msg_start, len(result))\n",
            "/usr/local/lib/python3.10/dist-packages/sklearn/metrics/_classification.py:1344: UndefinedMetricWarning: Precision and F-score are ill-defined and being set to 0.0 in labels with no predicted samples. Use `zero_division` parameter to control this behavior.\n",
            "  _warn_prf(average, modifier, msg_start, len(result))\n",
            "/usr/local/lib/python3.10/dist-packages/sklearn/metrics/_classification.py:1344: UndefinedMetricWarning: Precision and F-score are ill-defined and being set to 0.0 in labels with no predicted samples. Use `zero_division` parameter to control this behavior.\n",
            "  _warn_prf(average, modifier, msg_start, len(result))\n"
          ]
        }
      ]
    },
    {
      "cell_type": "markdown",
      "source": [
        "spectral"
      ],
      "metadata": {
        "id": "zHRgE3lWXMsx"
      }
    },
    {
      "cell_type": "code",
      "source": [
        "import numpy as np\n",
        "import pandas as pd\n",
        "from sklearn.model_selection import train_test_split\n",
        "from sklearn.neural_network import MLPClassifier\n",
        "from sklearn.metrics import accuracy_score, classification_report\n",
        "\n",
        "# Load the dataset from the CSV file\n",
        "dataset_path = \"/content/drive/MyDrive/mini project/spectral_contrast_features.csv\"\n",
        "dataset = pd.read_csv(dataset_path)\n",
        "\n",
        "# Create feature matrix (X) and target labels (y)\n",
        "X = dataset.drop(columns=[\"label_list\"]).values\n",
        "y = dataset[\"label_list\"].values\n",
        "\n",
        "# Split the data into training and testing sets\n",
        "X_train, X_test, y_train, y_test = train_test_split(X, y, test_size=0.2, random_state=42)\n",
        "\n",
        "# Initialize the MLP classifier\n",
        "mlp_classifier = MLPClassifier(hidden_layer_sizes=(100, 50), max_iter=1000, random_state=42)\n",
        "# You can adjust the hidden_layer_sizes and other hyperparameters as needed\n",
        "\n",
        "# Fit the MLP model\n",
        "mlp_classifier.fit(X_train, y_train)\n",
        "\n",
        "# Make predictions on the test set\n",
        "y_pred = mlp_classifier.predict(X_test)\n",
        "\n",
        "# Evaluate the model\n",
        "accuracy = accuracy_score(y_test, y_pred)\n",
        "print(\"Accuracy:\", accuracy)\n",
        "\n",
        "# Generate a classification report\n",
        "print(\"Classification Report:\")\n",
        "print(classification_report(y_test, y_pred))\n"
      ],
      "metadata": {
        "colab": {
          "base_uri": "https://localhost:8080/"
        },
        "id": "El3oWFK5XWqq",
        "outputId": "1191ff10-d4f5-481d-e83c-d65ba1ea535f"
      },
      "execution_count": null,
      "outputs": [
        {
          "output_type": "stream",
          "name": "stdout",
          "text": [
            "Accuracy: 0.6573705179282868\n",
            "Classification Report:\n",
            "                   precision    recall  f1-score   support\n",
            "\n",
            "   Alto Saxophone       0.59      0.64      0.62        50\n",
            "            Cello       0.76      0.56      0.64        34\n",
            "         Clarinet       0.69      0.86      0.77        42\n",
            "      Double Bass       0.68      0.47      0.56        32\n",
            "            Flute       0.80      0.73      0.76        48\n",
            "      French horn       0.40      0.31      0.35        32\n",
            "           Guitar       0.66      0.94      0.78        35\n",
            "             Oboe       0.68      0.67      0.67        45\n",
            "Soprano saxophone       0.80      0.64      0.71        25\n",
            "         Trombone       0.50      0.48      0.49        31\n",
            "          Trumpet       0.33      0.53      0.41        19\n",
            "             Tuba       0.91      0.78      0.84        27\n",
            "            Viola       0.44      0.63      0.52        19\n",
            "           Violin       0.82      0.73      0.77        63\n",
            "\n",
            "         accuracy                           0.66       502\n",
            "        macro avg       0.65      0.64      0.63       502\n",
            "     weighted avg       0.67      0.66      0.66       502\n",
            "\n"
          ]
        }
      ]
    },
    {
      "cell_type": "markdown",
      "source": [
        "**MIXED**"
      ],
      "metadata": {
        "id": "4LFkYVweeZcr"
      }
    },
    {
      "cell_type": "code",
      "source": [
        "\n",
        "import numpy as np\n",
        "import pandas as pd\n",
        "from sklearn.model_selection import train_test_split\n",
        "from sklearn.neural_network import MLPClassifier\n",
        "from sklearn.metrics import accuracy_score, classification_report\n",
        "\n",
        "# Load the dataset from the CSV file\n",
        "dataset_path = \"/content/drive/MyDrive/mini project/mixed_feature.csv\"\n",
        "dataset = pd.read_csv(dataset_path)\n",
        "\n",
        "# Create feature matrix (X) and target labels (y)\n",
        "X = dataset.drop(columns=[\"26\"]).values\n",
        "y = dataset[\"26\"].values\n",
        "\n",
        "# Split the data into training and testing sets\n",
        "X_train, X_test, y_train, y_test = train_test_split(X, y, test_size=0.2, random_state=42)\n",
        "\n",
        "# Initialize the MLP classifier\n",
        "mlp_classifier = MLPClassifier(hidden_layer_sizes=(100, 50), max_iter=1000, random_state=42)\n",
        "# You can adjust the hidden_layer_sizes and other hyperparameters as needed\n",
        "\n",
        "# Fit the MLP model\n",
        "mlp_classifier.fit(X_train, y_train)\n",
        "\n",
        "# Make predictions on the test set\n",
        "y_pred = mlp_classifier.predict(X_test)\n",
        "\n",
        "# Evaluate the model\n",
        "accuracy = accuracy_score(y_test, y_pred)\n",
        "print(\"Accuracy:\", accuracy)\n",
        "\n",
        "# Generate a classification report\n",
        "print(\"Classification Report:\")\n",
        "print(classification_report(y_test, y_pred))\n"
      ],
      "metadata": {
        "colab": {
          "base_uri": "https://localhost:8080/"
        },
        "id": "1ASgRMqheb2R",
        "outputId": "6abf74fa-d06f-4abf-daf8-bca712d61542"
      },
      "execution_count": null,
      "outputs": [
        {
          "output_type": "stream",
          "name": "stdout",
          "text": [
            "Accuracy: 0.8386454183266933\n",
            "Classification Report:\n",
            "                   precision    recall  f1-score   support\n",
            "\n",
            "   Alto Saxophone       0.95      0.80      0.87        50\n",
            "            Cello       1.00      0.59      0.74        34\n",
            "         Clarinet       1.00      0.93      0.96        42\n",
            "      Double Bass       0.86      0.97      0.91        32\n",
            "            Flute       1.00      0.85      0.92        48\n",
            "      French horn       0.34      0.97      0.50        32\n",
            "           Guitar       1.00      0.94      0.97        35\n",
            "             Oboe       0.83      1.00      0.91        45\n",
            "Soprano saxophone       0.92      0.44      0.59        25\n",
            "         Trombone       1.00      0.13      0.23        31\n",
            "          Trumpet       1.00      0.95      0.97        19\n",
            "             Tuba       0.96      1.00      0.98        27\n",
            "            Viola       0.90      0.95      0.92        19\n",
            "           Violin       0.98      1.00      0.99        63\n",
            "\n",
            "         accuracy                           0.84       502\n",
            "        macro avg       0.91      0.82      0.82       502\n",
            "     weighted avg       0.92      0.84      0.84       502\n",
            "\n"
          ]
        }
      ]
    },
    {
      "cell_type": "code",
      "source": [
        "dataset"
      ],
      "metadata": {
        "colab": {
          "base_uri": "https://localhost:8080/",
          "height": 513
        },
        "id": "9CsLsAMgoLE5",
        "outputId": "cf26d33b-54ae-42b6-c83d-a5f5e172230c"
      },
      "execution_count": null,
      "outputs": [
        {
          "output_type": "execute_result",
          "data": {
            "text/plain": [
              "      Unnamed: 0          0           1          2          3          4  \\\n",
              "0              0 -378.56287   64.111930 -56.815857 -23.819674 -25.970440   \n",
              "1              1 -299.84653  171.485810 -67.063255  31.610025  -6.439918   \n",
              "2              2 -273.99545  -24.769262 -40.575880 -14.348162 -38.159973   \n",
              "3              3 -438.14120  151.839300  37.301105  24.950106 -18.143791   \n",
              "4              4 -446.88354   92.405110   1.802784 -14.635609 -35.202602   \n",
              "...          ...        ...         ...        ...        ...        ...   \n",
              "2908        2908        NaN         NaN        NaN        NaN        NaN   \n",
              "2909        2909        NaN         NaN        NaN        NaN        NaN   \n",
              "2910        2910        NaN         NaN        NaN        NaN        NaN   \n",
              "2911        2911        NaN         NaN        NaN        NaN        NaN   \n",
              "2912        2912        NaN         NaN        NaN        NaN        NaN   \n",
              "\n",
              "              5          6          7          8  ...        22        23  \\\n",
              "0    -23.923975 -22.850641 -16.961950 -17.770706  ...  0.155608  0.225455   \n",
              "1    -13.695334 -21.804950 -19.105515 -10.690824  ...  0.115153  0.110162   \n",
              "2     -7.821725 -24.878440 -10.688063 -12.952185  ...  0.093649  0.147999   \n",
              "3    -27.564340 -11.425448 -16.658848  -3.818694  ...  0.179403  0.298720   \n",
              "4    -33.184807 -27.096191 -27.520306 -12.470867  ...  0.151325  0.110052   \n",
              "...         ...        ...        ...        ...  ...       ...       ...   \n",
              "2908        NaN        NaN        NaN        NaN  ...  0.266576  0.272174   \n",
              "2909        NaN        NaN        NaN        NaN  ...  0.373176  0.362764   \n",
              "2910        NaN        NaN        NaN        NaN  ...  0.487208  0.471507   \n",
              "2911        NaN        NaN        NaN        NaN  ...  0.260017  0.286591   \n",
              "2912        NaN        NaN        NaN        NaN  ...  0.539273  0.477132   \n",
              "\n",
              "             24         25         26         27         28         29  \\\n",
              "0     15.162575  25.197684  22.266555  26.871772  26.033675  21.314483   \n",
              "1     15.484341  25.202887  24.579884  26.081575  25.067514  20.374345   \n",
              "2     16.281310  26.613672  24.604883  27.214358  26.568307  21.514069   \n",
              "3     15.776857  25.668242  23.883489  27.364402  28.478042  22.624560   \n",
              "4     23.834682  24.589448  26.844933  20.721276  21.594385  18.141995   \n",
              "...         ...        ...        ...        ...        ...        ...   \n",
              "2908  20.090048  10.443753  12.450319  30.848957  21.604394  23.438054   \n",
              "2909  24.028890  17.766160  20.336524  20.065962  18.779595  18.572611   \n",
              "2910  23.615017  17.293229  20.440290  20.330123  22.441011  18.595865   \n",
              "2911  18.793144  10.396214  12.444192  32.240963  25.115234  27.156039   \n",
              "2912  21.555371  15.778265  18.424347  21.651723  22.902837  19.896356   \n",
              "\n",
              "             30           31  \n",
              "0     16.162295     Trombone  \n",
              "1     15.423609  French horn  \n",
              "2     17.738277     Trombone  \n",
              "3     18.797797  French horn  \n",
              "4     13.921893  French horn  \n",
              "...         ...          ...  \n",
              "2908  16.812360          NaN  \n",
              "2909  15.719823          NaN  \n",
              "2910  16.487032          NaN  \n",
              "2911  21.744066          NaN  \n",
              "2912  16.384535          NaN  \n",
              "\n",
              "[2913 rows x 33 columns]"
            ],
            "text/html": [
              "\n",
              "  <div id=\"df-ac69d015-6c89-44cb-8bb2-e22228331aa7\" class=\"colab-df-container\">\n",
              "    <div>\n",
              "<style scoped>\n",
              "    .dataframe tbody tr th:only-of-type {\n",
              "        vertical-align: middle;\n",
              "    }\n",
              "\n",
              "    .dataframe tbody tr th {\n",
              "        vertical-align: top;\n",
              "    }\n",
              "\n",
              "    .dataframe thead th {\n",
              "        text-align: right;\n",
              "    }\n",
              "</style>\n",
              "<table border=\"1\" class=\"dataframe\">\n",
              "  <thead>\n",
              "    <tr style=\"text-align: right;\">\n",
              "      <th></th>\n",
              "      <th>Unnamed: 0</th>\n",
              "      <th>0</th>\n",
              "      <th>1</th>\n",
              "      <th>2</th>\n",
              "      <th>3</th>\n",
              "      <th>4</th>\n",
              "      <th>5</th>\n",
              "      <th>6</th>\n",
              "      <th>7</th>\n",
              "      <th>8</th>\n",
              "      <th>...</th>\n",
              "      <th>22</th>\n",
              "      <th>23</th>\n",
              "      <th>24</th>\n",
              "      <th>25</th>\n",
              "      <th>26</th>\n",
              "      <th>27</th>\n",
              "      <th>28</th>\n",
              "      <th>29</th>\n",
              "      <th>30</th>\n",
              "      <th>31</th>\n",
              "    </tr>\n",
              "  </thead>\n",
              "  <tbody>\n",
              "    <tr>\n",
              "      <th>0</th>\n",
              "      <td>0</td>\n",
              "      <td>-378.56287</td>\n",
              "      <td>64.111930</td>\n",
              "      <td>-56.815857</td>\n",
              "      <td>-23.819674</td>\n",
              "      <td>-25.970440</td>\n",
              "      <td>-23.923975</td>\n",
              "      <td>-22.850641</td>\n",
              "      <td>-16.961950</td>\n",
              "      <td>-17.770706</td>\n",
              "      <td>...</td>\n",
              "      <td>0.155608</td>\n",
              "      <td>0.225455</td>\n",
              "      <td>15.162575</td>\n",
              "      <td>25.197684</td>\n",
              "      <td>22.266555</td>\n",
              "      <td>26.871772</td>\n",
              "      <td>26.033675</td>\n",
              "      <td>21.314483</td>\n",
              "      <td>16.162295</td>\n",
              "      <td>Trombone</td>\n",
              "    </tr>\n",
              "    <tr>\n",
              "      <th>1</th>\n",
              "      <td>1</td>\n",
              "      <td>-299.84653</td>\n",
              "      <td>171.485810</td>\n",
              "      <td>-67.063255</td>\n",
              "      <td>31.610025</td>\n",
              "      <td>-6.439918</td>\n",
              "      <td>-13.695334</td>\n",
              "      <td>-21.804950</td>\n",
              "      <td>-19.105515</td>\n",
              "      <td>-10.690824</td>\n",
              "      <td>...</td>\n",
              "      <td>0.115153</td>\n",
              "      <td>0.110162</td>\n",
              "      <td>15.484341</td>\n",
              "      <td>25.202887</td>\n",
              "      <td>24.579884</td>\n",
              "      <td>26.081575</td>\n",
              "      <td>25.067514</td>\n",
              "      <td>20.374345</td>\n",
              "      <td>15.423609</td>\n",
              "      <td>French horn</td>\n",
              "    </tr>\n",
              "    <tr>\n",
              "      <th>2</th>\n",
              "      <td>2</td>\n",
              "      <td>-273.99545</td>\n",
              "      <td>-24.769262</td>\n",
              "      <td>-40.575880</td>\n",
              "      <td>-14.348162</td>\n",
              "      <td>-38.159973</td>\n",
              "      <td>-7.821725</td>\n",
              "      <td>-24.878440</td>\n",
              "      <td>-10.688063</td>\n",
              "      <td>-12.952185</td>\n",
              "      <td>...</td>\n",
              "      <td>0.093649</td>\n",
              "      <td>0.147999</td>\n",
              "      <td>16.281310</td>\n",
              "      <td>26.613672</td>\n",
              "      <td>24.604883</td>\n",
              "      <td>27.214358</td>\n",
              "      <td>26.568307</td>\n",
              "      <td>21.514069</td>\n",
              "      <td>17.738277</td>\n",
              "      <td>Trombone</td>\n",
              "    </tr>\n",
              "    <tr>\n",
              "      <th>3</th>\n",
              "      <td>3</td>\n",
              "      <td>-438.14120</td>\n",
              "      <td>151.839300</td>\n",
              "      <td>37.301105</td>\n",
              "      <td>24.950106</td>\n",
              "      <td>-18.143791</td>\n",
              "      <td>-27.564340</td>\n",
              "      <td>-11.425448</td>\n",
              "      <td>-16.658848</td>\n",
              "      <td>-3.818694</td>\n",
              "      <td>...</td>\n",
              "      <td>0.179403</td>\n",
              "      <td>0.298720</td>\n",
              "      <td>15.776857</td>\n",
              "      <td>25.668242</td>\n",
              "      <td>23.883489</td>\n",
              "      <td>27.364402</td>\n",
              "      <td>28.478042</td>\n",
              "      <td>22.624560</td>\n",
              "      <td>18.797797</td>\n",
              "      <td>French horn</td>\n",
              "    </tr>\n",
              "    <tr>\n",
              "      <th>4</th>\n",
              "      <td>4</td>\n",
              "      <td>-446.88354</td>\n",
              "      <td>92.405110</td>\n",
              "      <td>1.802784</td>\n",
              "      <td>-14.635609</td>\n",
              "      <td>-35.202602</td>\n",
              "      <td>-33.184807</td>\n",
              "      <td>-27.096191</td>\n",
              "      <td>-27.520306</td>\n",
              "      <td>-12.470867</td>\n",
              "      <td>...</td>\n",
              "      <td>0.151325</td>\n",
              "      <td>0.110052</td>\n",
              "      <td>23.834682</td>\n",
              "      <td>24.589448</td>\n",
              "      <td>26.844933</td>\n",
              "      <td>20.721276</td>\n",
              "      <td>21.594385</td>\n",
              "      <td>18.141995</td>\n",
              "      <td>13.921893</td>\n",
              "      <td>French horn</td>\n",
              "    </tr>\n",
              "    <tr>\n",
              "      <th>...</th>\n",
              "      <td>...</td>\n",
              "      <td>...</td>\n",
              "      <td>...</td>\n",
              "      <td>...</td>\n",
              "      <td>...</td>\n",
              "      <td>...</td>\n",
              "      <td>...</td>\n",
              "      <td>...</td>\n",
              "      <td>...</td>\n",
              "      <td>...</td>\n",
              "      <td>...</td>\n",
              "      <td>...</td>\n",
              "      <td>...</td>\n",
              "      <td>...</td>\n",
              "      <td>...</td>\n",
              "      <td>...</td>\n",
              "      <td>...</td>\n",
              "      <td>...</td>\n",
              "      <td>...</td>\n",
              "      <td>...</td>\n",
              "      <td>...</td>\n",
              "    </tr>\n",
              "    <tr>\n",
              "      <th>2908</th>\n",
              "      <td>2908</td>\n",
              "      <td>NaN</td>\n",
              "      <td>NaN</td>\n",
              "      <td>NaN</td>\n",
              "      <td>NaN</td>\n",
              "      <td>NaN</td>\n",
              "      <td>NaN</td>\n",
              "      <td>NaN</td>\n",
              "      <td>NaN</td>\n",
              "      <td>NaN</td>\n",
              "      <td>...</td>\n",
              "      <td>0.266576</td>\n",
              "      <td>0.272174</td>\n",
              "      <td>20.090048</td>\n",
              "      <td>10.443753</td>\n",
              "      <td>12.450319</td>\n",
              "      <td>30.848957</td>\n",
              "      <td>21.604394</td>\n",
              "      <td>23.438054</td>\n",
              "      <td>16.812360</td>\n",
              "      <td>NaN</td>\n",
              "    </tr>\n",
              "    <tr>\n",
              "      <th>2909</th>\n",
              "      <td>2909</td>\n",
              "      <td>NaN</td>\n",
              "      <td>NaN</td>\n",
              "      <td>NaN</td>\n",
              "      <td>NaN</td>\n",
              "      <td>NaN</td>\n",
              "      <td>NaN</td>\n",
              "      <td>NaN</td>\n",
              "      <td>NaN</td>\n",
              "      <td>NaN</td>\n",
              "      <td>...</td>\n",
              "      <td>0.373176</td>\n",
              "      <td>0.362764</td>\n",
              "      <td>24.028890</td>\n",
              "      <td>17.766160</td>\n",
              "      <td>20.336524</td>\n",
              "      <td>20.065962</td>\n",
              "      <td>18.779595</td>\n",
              "      <td>18.572611</td>\n",
              "      <td>15.719823</td>\n",
              "      <td>NaN</td>\n",
              "    </tr>\n",
              "    <tr>\n",
              "      <th>2910</th>\n",
              "      <td>2910</td>\n",
              "      <td>NaN</td>\n",
              "      <td>NaN</td>\n",
              "      <td>NaN</td>\n",
              "      <td>NaN</td>\n",
              "      <td>NaN</td>\n",
              "      <td>NaN</td>\n",
              "      <td>NaN</td>\n",
              "      <td>NaN</td>\n",
              "      <td>NaN</td>\n",
              "      <td>...</td>\n",
              "      <td>0.487208</td>\n",
              "      <td>0.471507</td>\n",
              "      <td>23.615017</td>\n",
              "      <td>17.293229</td>\n",
              "      <td>20.440290</td>\n",
              "      <td>20.330123</td>\n",
              "      <td>22.441011</td>\n",
              "      <td>18.595865</td>\n",
              "      <td>16.487032</td>\n",
              "      <td>NaN</td>\n",
              "    </tr>\n",
              "    <tr>\n",
              "      <th>2911</th>\n",
              "      <td>2911</td>\n",
              "      <td>NaN</td>\n",
              "      <td>NaN</td>\n",
              "      <td>NaN</td>\n",
              "      <td>NaN</td>\n",
              "      <td>NaN</td>\n",
              "      <td>NaN</td>\n",
              "      <td>NaN</td>\n",
              "      <td>NaN</td>\n",
              "      <td>NaN</td>\n",
              "      <td>...</td>\n",
              "      <td>0.260017</td>\n",
              "      <td>0.286591</td>\n",
              "      <td>18.793144</td>\n",
              "      <td>10.396214</td>\n",
              "      <td>12.444192</td>\n",
              "      <td>32.240963</td>\n",
              "      <td>25.115234</td>\n",
              "      <td>27.156039</td>\n",
              "      <td>21.744066</td>\n",
              "      <td>NaN</td>\n",
              "    </tr>\n",
              "    <tr>\n",
              "      <th>2912</th>\n",
              "      <td>2912</td>\n",
              "      <td>NaN</td>\n",
              "      <td>NaN</td>\n",
              "      <td>NaN</td>\n",
              "      <td>NaN</td>\n",
              "      <td>NaN</td>\n",
              "      <td>NaN</td>\n",
              "      <td>NaN</td>\n",
              "      <td>NaN</td>\n",
              "      <td>NaN</td>\n",
              "      <td>...</td>\n",
              "      <td>0.539273</td>\n",
              "      <td>0.477132</td>\n",
              "      <td>21.555371</td>\n",
              "      <td>15.778265</td>\n",
              "      <td>18.424347</td>\n",
              "      <td>21.651723</td>\n",
              "      <td>22.902837</td>\n",
              "      <td>19.896356</td>\n",
              "      <td>16.384535</td>\n",
              "      <td>NaN</td>\n",
              "    </tr>\n",
              "  </tbody>\n",
              "</table>\n",
              "<p>2913 rows × 33 columns</p>\n",
              "</div>\n",
              "    <div class=\"colab-df-buttons\">\n",
              "\n",
              "  <div class=\"colab-df-container\">\n",
              "    <button class=\"colab-df-convert\" onclick=\"convertToInteractive('df-ac69d015-6c89-44cb-8bb2-e22228331aa7')\"\n",
              "            title=\"Convert this dataframe to an interactive table.\"\n",
              "            style=\"display:none;\">\n",
              "\n",
              "  <svg xmlns=\"http://www.w3.org/2000/svg\" height=\"24px\" viewBox=\"0 -960 960 960\">\n",
              "    <path d=\"M120-120v-720h720v720H120Zm60-500h600v-160H180v160Zm220 220h160v-160H400v160Zm0 220h160v-160H400v160ZM180-400h160v-160H180v160Zm440 0h160v-160H620v160ZM180-180h160v-160H180v160Zm440 0h160v-160H620v160Z\"/>\n",
              "  </svg>\n",
              "    </button>\n",
              "\n",
              "  <style>\n",
              "    .colab-df-container {\n",
              "      display:flex;\n",
              "      gap: 12px;\n",
              "    }\n",
              "\n",
              "    .colab-df-convert {\n",
              "      background-color: #E8F0FE;\n",
              "      border: none;\n",
              "      border-radius: 50%;\n",
              "      cursor: pointer;\n",
              "      display: none;\n",
              "      fill: #1967D2;\n",
              "      height: 32px;\n",
              "      padding: 0 0 0 0;\n",
              "      width: 32px;\n",
              "    }\n",
              "\n",
              "    .colab-df-convert:hover {\n",
              "      background-color: #E2EBFA;\n",
              "      box-shadow: 0px 1px 2px rgba(60, 64, 67, 0.3), 0px 1px 3px 1px rgba(60, 64, 67, 0.15);\n",
              "      fill: #174EA6;\n",
              "    }\n",
              "\n",
              "    .colab-df-buttons div {\n",
              "      margin-bottom: 4px;\n",
              "    }\n",
              "\n",
              "    [theme=dark] .colab-df-convert {\n",
              "      background-color: #3B4455;\n",
              "      fill: #D2E3FC;\n",
              "    }\n",
              "\n",
              "    [theme=dark] .colab-df-convert:hover {\n",
              "      background-color: #434B5C;\n",
              "      box-shadow: 0px 1px 3px 1px rgba(0, 0, 0, 0.15);\n",
              "      filter: drop-shadow(0px 1px 2px rgba(0, 0, 0, 0.3));\n",
              "      fill: #FFFFFF;\n",
              "    }\n",
              "  </style>\n",
              "\n",
              "    <script>\n",
              "      const buttonEl =\n",
              "        document.querySelector('#df-ac69d015-6c89-44cb-8bb2-e22228331aa7 button.colab-df-convert');\n",
              "      buttonEl.style.display =\n",
              "        google.colab.kernel.accessAllowed ? 'block' : 'none';\n",
              "\n",
              "      async function convertToInteractive(key) {\n",
              "        const element = document.querySelector('#df-ac69d015-6c89-44cb-8bb2-e22228331aa7');\n",
              "        const dataTable =\n",
              "          await google.colab.kernel.invokeFunction('convertToInteractive',\n",
              "                                                    [key], {});\n",
              "        if (!dataTable) return;\n",
              "\n",
              "        const docLinkHtml = 'Like what you see? Visit the ' +\n",
              "          '<a target=\"_blank\" href=https://colab.research.google.com/notebooks/data_table.ipynb>data table notebook</a>'\n",
              "          + ' to learn more about interactive tables.';\n",
              "        element.innerHTML = '';\n",
              "        dataTable['output_type'] = 'display_data';\n",
              "        await google.colab.output.renderOutput(dataTable, element);\n",
              "        const docLink = document.createElement('div');\n",
              "        docLink.innerHTML = docLinkHtml;\n",
              "        element.appendChild(docLink);\n",
              "      }\n",
              "    </script>\n",
              "  </div>\n",
              "\n",
              "\n",
              "<div id=\"df-0dd64178-fbe3-46e1-b521-1dbb01bb96da\">\n",
              "  <button class=\"colab-df-quickchart\" onclick=\"quickchart('df-0dd64178-fbe3-46e1-b521-1dbb01bb96da')\"\n",
              "            title=\"Suggest charts.\"\n",
              "            style=\"display:none;\">\n",
              "\n",
              "<svg xmlns=\"http://www.w3.org/2000/svg\" height=\"24px\"viewBox=\"0 0 24 24\"\n",
              "     width=\"24px\">\n",
              "    <g>\n",
              "        <path d=\"M19 3H5c-1.1 0-2 .9-2 2v14c0 1.1.9 2 2 2h14c1.1 0 2-.9 2-2V5c0-1.1-.9-2-2-2zM9 17H7v-7h2v7zm4 0h-2V7h2v10zm4 0h-2v-4h2v4z\"/>\n",
              "    </g>\n",
              "</svg>\n",
              "  </button>\n",
              "\n",
              "<style>\n",
              "  .colab-df-quickchart {\n",
              "      --bg-color: #E8F0FE;\n",
              "      --fill-color: #1967D2;\n",
              "      --hover-bg-color: #E2EBFA;\n",
              "      --hover-fill-color: #174EA6;\n",
              "      --disabled-fill-color: #AAA;\n",
              "      --disabled-bg-color: #DDD;\n",
              "  }\n",
              "\n",
              "  [theme=dark] .colab-df-quickchart {\n",
              "      --bg-color: #3B4455;\n",
              "      --fill-color: #D2E3FC;\n",
              "      --hover-bg-color: #434B5C;\n",
              "      --hover-fill-color: #FFFFFF;\n",
              "      --disabled-bg-color: #3B4455;\n",
              "      --disabled-fill-color: #666;\n",
              "  }\n",
              "\n",
              "  .colab-df-quickchart {\n",
              "    background-color: var(--bg-color);\n",
              "    border: none;\n",
              "    border-radius: 50%;\n",
              "    cursor: pointer;\n",
              "    display: none;\n",
              "    fill: var(--fill-color);\n",
              "    height: 32px;\n",
              "    padding: 0;\n",
              "    width: 32px;\n",
              "  }\n",
              "\n",
              "  .colab-df-quickchart:hover {\n",
              "    background-color: var(--hover-bg-color);\n",
              "    box-shadow: 0 1px 2px rgba(60, 64, 67, 0.3), 0 1px 3px 1px rgba(60, 64, 67, 0.15);\n",
              "    fill: var(--button-hover-fill-color);\n",
              "  }\n",
              "\n",
              "  .colab-df-quickchart-complete:disabled,\n",
              "  .colab-df-quickchart-complete:disabled:hover {\n",
              "    background-color: var(--disabled-bg-color);\n",
              "    fill: var(--disabled-fill-color);\n",
              "    box-shadow: none;\n",
              "  }\n",
              "\n",
              "  .colab-df-spinner {\n",
              "    border: 2px solid var(--fill-color);\n",
              "    border-color: transparent;\n",
              "    border-bottom-color: var(--fill-color);\n",
              "    animation:\n",
              "      spin 1s steps(1) infinite;\n",
              "  }\n",
              "\n",
              "  @keyframes spin {\n",
              "    0% {\n",
              "      border-color: transparent;\n",
              "      border-bottom-color: var(--fill-color);\n",
              "      border-left-color: var(--fill-color);\n",
              "    }\n",
              "    20% {\n",
              "      border-color: transparent;\n",
              "      border-left-color: var(--fill-color);\n",
              "      border-top-color: var(--fill-color);\n",
              "    }\n",
              "    30% {\n",
              "      border-color: transparent;\n",
              "      border-left-color: var(--fill-color);\n",
              "      border-top-color: var(--fill-color);\n",
              "      border-right-color: var(--fill-color);\n",
              "    }\n",
              "    40% {\n",
              "      border-color: transparent;\n",
              "      border-right-color: var(--fill-color);\n",
              "      border-top-color: var(--fill-color);\n",
              "    }\n",
              "    60% {\n",
              "      border-color: transparent;\n",
              "      border-right-color: var(--fill-color);\n",
              "    }\n",
              "    80% {\n",
              "      border-color: transparent;\n",
              "      border-right-color: var(--fill-color);\n",
              "      border-bottom-color: var(--fill-color);\n",
              "    }\n",
              "    90% {\n",
              "      border-color: transparent;\n",
              "      border-bottom-color: var(--fill-color);\n",
              "    }\n",
              "  }\n",
              "</style>\n",
              "\n",
              "  <script>\n",
              "    async function quickchart(key) {\n",
              "      const quickchartButtonEl =\n",
              "        document.querySelector('#' + key + ' button');\n",
              "      quickchartButtonEl.disabled = true;  // To prevent multiple clicks.\n",
              "      quickchartButtonEl.classList.add('colab-df-spinner');\n",
              "      try {\n",
              "        const charts = await google.colab.kernel.invokeFunction(\n",
              "            'suggestCharts', [key], {});\n",
              "      } catch (error) {\n",
              "        console.error('Error during call to suggestCharts:', error);\n",
              "      }\n",
              "      quickchartButtonEl.classList.remove('colab-df-spinner');\n",
              "      quickchartButtonEl.classList.add('colab-df-quickchart-complete');\n",
              "    }\n",
              "    (() => {\n",
              "      let quickchartButtonEl =\n",
              "        document.querySelector('#df-0dd64178-fbe3-46e1-b521-1dbb01bb96da button');\n",
              "      quickchartButtonEl.style.display =\n",
              "        google.colab.kernel.accessAllowed ? 'block' : 'none';\n",
              "    })();\n",
              "  </script>\n",
              "</div>\n",
              "    </div>\n",
              "  </div>\n"
            ]
          },
          "metadata": {},
          "execution_count": 34
        }
      ]
    },
    {
      "cell_type": "markdown",
      "source": [
        "# KNN"
      ],
      "metadata": {
        "id": "hKljlTb7eIHR"
      }
    },
    {
      "cell_type": "markdown",
      "source": [
        "**MFCC**"
      ],
      "metadata": {
        "id": "U_BFRJnfZpEB"
      }
    },
    {
      "cell_type": "code",
      "source": [
        "import numpy as np\n",
        "import pandas as pd\n",
        "from sklearn.model_selection import train_test_split\n",
        "from sklearn.neighbors import KNeighborsClassifier\n",
        "from sklearn.metrics import accuracy_score, classification_report\n",
        "\n",
        "# Load the dataset from the CSV file\n",
        "dataset_path = \"/content/drive/MyDrive/mini project/MFCC.csv\"\n",
        "dataset = pd.read_csv(dataset_path)\n",
        "\n",
        "# Create feature matrix (X) and target labels (y)\n",
        "X = dataset.drop(columns=[\"label_list\"]).values\n",
        "y = dataset[\"label_list\"].values\n",
        "\n",
        "# Split the data into training and testing sets\n",
        "X_train, X_test, y_train, y_test = train_test_split(X, y, test_size=0.3, random_state=42)\n",
        "\n",
        "# Initialize the KNN classifier\n",
        "knn_classifier = KNeighborsClassifier(n_neighbors=5)  # You can adjust the number of neighbors (k) here\n",
        "\n",
        "# No training is needed for KNN\n",
        "\n",
        "# Fit the KNN model (not a traditional training, just organizing the data)\n",
        "knn_classifier.fit(X_train, y_train)\n",
        "\n",
        "# Make predictions on the test set\n",
        "y_pred = knn_classifier.predict(X_test)\n",
        "\n",
        "# Evaluate the model\n",
        "accuracy = accuracy_score(y_test, y_pred)\n",
        "print(\"Accuracy:\", accuracy)\n",
        "\n",
        "# Generate a classification report\n",
        "print(\"Classification Report:\")\n",
        "print(classification_report(y_test, y_pred))\n"
      ],
      "metadata": {
        "colab": {
          "base_uri": "https://localhost:8080/"
        },
        "id": "5E4x2KLWDJYl",
        "outputId": "590eeab1-ad72-4377-d300-ee56b155a0f4"
      },
      "execution_count": null,
      "outputs": [
        {
          "output_type": "stream",
          "name": "stdout",
          "text": [
            "Accuracy: 0.897742363877822\n",
            "Classification Report:\n",
            "                   precision    recall  f1-score   support\n",
            "\n",
            "   Alto Saxophone       0.84      0.88      0.86        75\n",
            "            Cello       0.90      0.98      0.94        46\n",
            "         Clarinet       0.82      0.75      0.78        72\n",
            "      Double Bass       1.00      0.98      0.99        43\n",
            "            Flute       0.82      0.93      0.87        70\n",
            "      French horn       0.89      0.91      0.90        43\n",
            "           Guitar       0.98      1.00      0.99        57\n",
            "             Oboe       0.95      0.87      0.91        61\n",
            "Soprano saxophone       0.82      0.78      0.80        41\n",
            "         Trombone       0.88      0.88      0.88        43\n",
            "          Trumpet       0.94      0.83      0.88        36\n",
            "             Tuba       0.95      0.95      0.95        38\n",
            "            Viola       0.97      0.78      0.86        40\n",
            "           Violin       0.93      1.00      0.96        88\n",
            "\n",
            "         accuracy                           0.90       753\n",
            "        macro avg       0.91      0.89      0.90       753\n",
            "     weighted avg       0.90      0.90      0.90       753\n",
            "\n"
          ]
        }
      ]
    },
    {
      "cell_type": "markdown",
      "source": [
        "**CROMA**"
      ],
      "metadata": {
        "id": "cQSksFqxauQx"
      }
    },
    {
      "cell_type": "code",
      "source": [
        "\n",
        "import numpy as np\n",
        "import pandas as pd\n",
        "from sklearn.model_selection import train_test_split\n",
        "from sklearn.neighbors import KNeighborsClassifier\n",
        "from sklearn.metrics import accuracy_score, classification_report\n",
        "\n",
        "# Load the dataset from the CSV file\n",
        "dataset_path = \"/content/drive/MyDrive/mini project/chroma_features.csv\"\n",
        "dataset = pd.read_csv(dataset_path)\n",
        "\n",
        "# Create feature matrix (X) and target labels (y)\n",
        "X = dataset.drop(columns=[\"label_list\"]).values\n",
        "y = dataset[\"label_list\"].values\n",
        "\n",
        "# Split the data into training and testing sets\n",
        "X_train, X_test, y_train, y_test = train_test_split(X, y, test_size=0.3, random_state=42)\n",
        "\n",
        "# Initialize the KNN classifier\n",
        "knn_classifier = KNeighborsClassifier(n_neighbors=5)  # You can adjust the number of neighbors (k) here\n",
        "\n",
        "# No training is needed for KNN\n",
        "\n",
        "# Fit the KNN model (not a traditional training, just organizing the data)\n",
        "knn_classifier.fit(X_train, y_train)\n",
        "\n",
        "# Make predictions on the test set\n",
        "y_pred = knn_classifier.predict(X_test)\n",
        "\n",
        "# Evaluate the model\n",
        "accuracy = accuracy_score(y_test, y_pred)\n",
        "print(\"Accuracy:\", accuracy)\n",
        "\n",
        "# Generate a classification report\n",
        "print(\"Classification Report:\")\n",
        "print(classification_report(y_test, y_pred))\n"
      ],
      "metadata": {
        "colab": {
          "base_uri": "https://localhost:8080/"
        },
        "id": "2h80soNCZ3OQ",
        "outputId": "34cbb3ad-1ac1-40ae-9e0d-219fead1ae35"
      },
      "execution_count": null,
      "outputs": [
        {
          "output_type": "stream",
          "name": "stdout",
          "text": [
            "Accuracy: 0.38114209827357237\n",
            "Classification Report:\n",
            "                   precision    recall  f1-score   support\n",
            "\n",
            "   Alto Saxophone       0.30      0.47      0.37        75\n",
            "            Cello       0.52      0.72      0.61        46\n",
            "         Clarinet       0.25      0.25      0.25        72\n",
            "      Double Bass       0.69      0.77      0.73        43\n",
            "            Flute       0.32      0.30      0.31        70\n",
            "      French horn       0.09      0.09      0.09        43\n",
            "           Guitar       0.49      0.49      0.49        57\n",
            "             Oboe       0.33      0.18      0.23        61\n",
            "Soprano saxophone       0.24      0.17      0.20        41\n",
            "         Trombone       0.32      0.44      0.37        43\n",
            "          Trumpet       0.41      0.19      0.26        36\n",
            "             Tuba       0.27      0.08      0.12        38\n",
            "            Viola       0.42      0.33      0.37        40\n",
            "           Violin       0.53      0.62      0.57        88\n",
            "\n",
            "         accuracy                           0.38       753\n",
            "        macro avg       0.37      0.36      0.35       753\n",
            "     weighted avg       0.37      0.38      0.37       753\n",
            "\n"
          ]
        }
      ]
    },
    {
      "cell_type": "markdown",
      "source": [
        "wavelet transform"
      ],
      "metadata": {
        "id": "ReoFBmTiatQe"
      }
    },
    {
      "cell_type": "code",
      "source": [
        "\n",
        "import numpy as np\n",
        "import pandas as pd\n",
        "from sklearn.model_selection import train_test_split\n",
        "from sklearn.neighbors import KNeighborsClassifier\n",
        "from sklearn.metrics import accuracy_score, classification_report\n",
        "\n",
        "# Load the dataset from the CSV file\n",
        "dataset_path = \"/content/drive/MyDrive/mini project/wavelet_features.csv\"\n",
        "dataset = pd.read_csv(dataset_path)\n",
        "\n",
        "# Create feature matrix (X) and target labels (y)\n",
        "X = dataset.drop(columns=[\"label_list\"]).values\n",
        "y = dataset[\"label_list\"].values\n",
        "\n",
        "# Split the data into training and testing sets\n",
        "X_train, X_test, y_train, y_test = train_test_split(X, y, test_size=0.2, random_state=42)\n",
        "\n",
        "# Initialize the KNN classifier\n",
        "knn_classifier = KNeighborsClassifier(n_neighbors=5)  # You can adjust the number of neighbors (k) here\n",
        "\n",
        "# No training is needed for KNN\n",
        "\n",
        "# Fit the KNN model (not a traditional training, just organizing the data)\n",
        "knn_classifier.fit(X_train, y_train)\n",
        "\n",
        "# Make predictions on the test set\n",
        "y_pred = knn_classifier.predict(X_test)\n",
        "\n",
        "# Evaluate the model\n",
        "accuracy = accuracy_score(y_test, y_pred)\n",
        "print(\"Accuracy:\", accuracy)\n",
        "\n",
        "# Generate a classification report\n",
        "print(\"Classification Report:\")\n",
        "print(classification_report(y_test, y_pred))\n"
      ],
      "metadata": {
        "colab": {
          "base_uri": "https://localhost:8080/"
        },
        "id": "2byXNwWBaspr",
        "outputId": "2c61283b-05db-4baa-f160-a98948807c64"
      },
      "execution_count": null,
      "outputs": [
        {
          "output_type": "stream",
          "name": "stdout",
          "text": [
            "Accuracy: 0.25697211155378485\n",
            "Classification Report:\n",
            "                   precision    recall  f1-score   support\n",
            "\n",
            "   Alto Saxophone       0.19      0.26      0.22        50\n",
            "            Cello       0.17      0.26      0.21        34\n",
            "         Clarinet       0.18      0.17      0.17        42\n",
            "      Double Bass       0.17      0.19      0.18        32\n",
            "            Flute       0.22      0.17      0.19        48\n",
            "      French horn       0.11      0.09      0.10        32\n",
            "           Guitar       0.33      0.51      0.40        35\n",
            "             Oboe       0.55      0.38      0.45        45\n",
            "Soprano saxophone       0.41      0.52      0.46        25\n",
            "         Trombone       0.21      0.19      0.20        31\n",
            "          Trumpet       0.11      0.11      0.11        19\n",
            "             Tuba       0.38      0.30      0.33        27\n",
            "            Viola       0.10      0.11      0.10        19\n",
            "           Violin       0.45      0.27      0.34        63\n",
            "\n",
            "         accuracy                           0.26       502\n",
            "        macro avg       0.26      0.25      0.25       502\n",
            "     weighted avg       0.27      0.26      0.26       502\n",
            "\n"
          ]
        }
      ]
    },
    {
      "cell_type": "markdown",
      "source": [
        "**spectral_contrast**"
      ],
      "metadata": {
        "id": "2Z94i6DqK-Up"
      }
    },
    {
      "cell_type": "code",
      "source": [
        "\n",
        "import numpy as np\n",
        "import pandas as pd\n",
        "from sklearn.model_selection import train_test_split\n",
        "from sklearn.neighbors import KNeighborsClassifier\n",
        "from sklearn.metrics import accuracy_score, classification_report\n",
        "\n",
        "# Load the dataset from the CSV file\n",
        "dataset_path = \"/content/drive/MyDrive/mini project/spectral_contrast_features.csv\"\n",
        "dataset = pd.read_csv(dataset_path)\n",
        "\n",
        "# Create feature matrix (X) and target labels (y)\n",
        "X = dataset.drop(columns=[\"label_list\"]).values\n",
        "y = dataset[\"label_list\"].values\n",
        "\n",
        "# Split the data into training and testing sets\n",
        "X_train, X_test, y_train, y_test = train_test_split(X, y, test_size=0.3, random_state=42)\n",
        "\n",
        "# Initialize the KNN classifier\n",
        "knn_classifier = KNeighborsClassifier(n_neighbors=5)  # You can adjust the number of neighbors (k) here\n",
        "\n",
        "# No training is needed for KNN\n",
        "\n",
        "# Fit the KNN model (not a traditional training, just organizing the data)\n",
        "knn_classifier.fit(X_train, y_train)\n",
        "\n",
        "# Make predictions on the test set\n",
        "y_pred = knn_classifier.predict(X_test)\n",
        "\n",
        "# Evaluate the model\n",
        "accuracy = accuracy_score(y_test, y_pred)\n",
        "print(\"Accuracy:\", accuracy)\n",
        "\n",
        "# Generate a classification report\n",
        "print(\"Classification Report:\")\n",
        "print(classification_report(y_test, y_pred))\n"
      ],
      "metadata": {
        "id": "KSxv0ONkK_BA",
        "outputId": "8771886a-a4ec-4957-bf7f-5759fb661b76",
        "colab": {
          "base_uri": "https://localhost:8080/"
        }
      },
      "execution_count": null,
      "outputs": [
        {
          "output_type": "stream",
          "name": "stdout",
          "text": [
            "Accuracy: 0.7343957503320053\n",
            "Classification Report:\n",
            "                   precision    recall  f1-score   support\n",
            "\n",
            "   Alto Saxophone       0.77      0.61      0.68        75\n",
            "            Cello       0.58      0.72      0.64        46\n",
            "         Clarinet       0.76      0.79      0.78        72\n",
            "      Double Bass       0.63      0.79      0.70        43\n",
            "            Flute       0.88      0.91      0.90        70\n",
            "      French horn       0.60      0.49      0.54        43\n",
            "           Guitar       0.74      0.88      0.80        57\n",
            "             Oboe       0.81      0.69      0.74        61\n",
            "Soprano saxophone       0.70      0.76      0.73        41\n",
            "         Trombone       0.67      0.70      0.68        43\n",
            "          Trumpet       0.56      0.56      0.56        36\n",
            "             Tuba       0.89      0.82      0.85        38\n",
            "            Viola       0.75      0.38      0.50        40\n",
            "           Violin       0.80      0.90      0.84        88\n",
            "\n",
            "         accuracy                           0.73       753\n",
            "        macro avg       0.72      0.71      0.71       753\n",
            "     weighted avg       0.74      0.73      0.73       753\n",
            "\n"
          ]
        }
      ]
    },
    {
      "cell_type": "markdown",
      "source": [
        "**mixed**"
      ],
      "metadata": {
        "id": "FHUXnxDAfWwS"
      }
    },
    {
      "cell_type": "code",
      "source": [
        "import numpy as np\n",
        "import pandas as pd\n",
        "from sklearn.model_selection import train_test_split\n",
        "from sklearn.neighbors import KNeighborsClassifier\n",
        "from sklearn.metrics import accuracy_score, classification_report\n",
        "\n",
        "# Load the dataset from the CSV file\n",
        "dataset_path = \"/content/drive/MyDrive/mini project/mixed_feature.csv\"\n",
        "dataset = pd.read_csv(dataset_path)\n",
        "\n",
        "# Create feature matrix (X) and target labels (y)\n",
        "X = dataset.drop(columns=[\"26\"]).values\n",
        "y = dataset[\"26\"].values\n",
        "\n",
        "# Split the data into training and testing sets\n",
        "X_train, X_test, y_train, y_test = train_test_split(X, y, test_size=0.3, random_state=42)\n",
        "\n",
        "# Initialize the KNN classifier\n",
        "knn_classifier = KNeighborsClassifier(n_neighbors=5)  # You can adjust the number of neighbors (k) here\n",
        "\n",
        "# No training is needed for KNN\n",
        "\n",
        "# Fit the KNN model (not a traditional training, just organizing the data)\n",
        "knn_classifier.fit(X_train, y_train)\n",
        "\n",
        "# Make predictions on the test set\n",
        "y_pred = knn_classifier.predict(X_test)\n",
        "\n",
        "# Evaluate the model\n",
        "accuracy = accuracy_score(y_test, y_pred)\n",
        "print(\"Accuracy:\", accuracy)\n",
        "\n",
        "# Generate a classification report\n",
        "print(\"Classification Report:\")\n",
        "print(classification_report(y_test, y_pred))\n"
      ],
      "metadata": {
        "colab": {
          "base_uri": "https://localhost:8080/"
        },
        "id": "mVXae7eNfV71",
        "outputId": "5600db77-f266-4bee-ae87-f8632bd613e8"
      },
      "execution_count": null,
      "outputs": [
        {
          "output_type": "stream",
          "name": "stdout",
          "text": [
            "Accuracy: 0.9840637450199203\n",
            "Classification Report:\n",
            "                   precision    recall  f1-score   support\n",
            "\n",
            "   Alto Saxophone       1.00      0.99      0.99        75\n",
            "            Cello       1.00      1.00      1.00        46\n",
            "         Clarinet       1.00      1.00      1.00        72\n",
            "      Double Bass       1.00      1.00      1.00        43\n",
            "            Flute       0.97      1.00      0.99        70\n",
            "      French horn       1.00      0.84      0.91        43\n",
            "           Guitar       1.00      1.00      1.00        57\n",
            "             Oboe       1.00      0.98      0.99        61\n",
            "Soprano saxophone       1.00      1.00      1.00        41\n",
            "         Trombone       0.86      1.00      0.92        43\n",
            "          Trumpet       1.00      0.97      0.99        36\n",
            "             Tuba       0.97      1.00      0.99        38\n",
            "            Viola       1.00      0.95      0.97        40\n",
            "           Violin       0.98      1.00      0.99        88\n",
            "\n",
            "         accuracy                           0.98       753\n",
            "        macro avg       0.98      0.98      0.98       753\n",
            "     weighted avg       0.99      0.98      0.98       753\n",
            "\n"
          ]
        }
      ]
    },
    {
      "cell_type": "markdown",
      "source": [
        "# **Random Forest**"
      ],
      "metadata": {
        "id": "iKhEQIUHqIiF"
      }
    },
    {
      "cell_type": "markdown",
      "source": [
        "Using **MFCC**"
      ],
      "metadata": {
        "id": "4Peyk8w3sjmY"
      }
    },
    {
      "cell_type": "code",
      "source": [
        "import numpy as np\n",
        "import pandas as pd\n",
        "from sklearn.model_selection import train_test_split\n",
        "from sklearn.ensemble import RandomForestClassifier\n",
        "from sklearn.metrics import accuracy_score, classification_report\n",
        "\n",
        "# Load the dataset from the CSV file\n",
        "dataset_path = \"/content/drive/MyDrive/mini project/MFCC.csv\"\n",
        "dataset = pd.read_csv(dataset_path)\n",
        "\n",
        "# Create feature matrix (X) and target labels (y)\n",
        "X = dataset.drop(columns=[\"label_list\"]).values\n",
        "y = dataset[\"label_list\"].values\n",
        "\n",
        "# Split the data into training and testing sets\n",
        "X_train, X_test, y_train, y_test = train_test_split(X, y, test_size=0.3, random_state=42)\n",
        "\n",
        "# Initialize the Random Forest classifier\n",
        "rf_classifier = RandomForestClassifier(n_estimators=100, random_state=42)\n",
        "\n",
        "# Train the Random Forest model\n",
        "rf_classifier.fit(X_train, y_train)\n",
        "\n",
        "# Make predictions on the test set\n",
        "y_pred = rf_classifier.predict(X_test)\n",
        "\n",
        "# Evaluate the model\n",
        "accuracy = accuracy_score(y_test, y_pred)\n",
        "print(\"Accuracy:\", accuracy)\n",
        "\n",
        "# Generate a classification report\n",
        "print(\"Classification Report:\")\n",
        "print(classification_report(y_test, y_pred))\n"
      ],
      "metadata": {
        "id": "4zkaqtd4rttw",
        "colab": {
          "base_uri": "https://localhost:8080/"
        },
        "outputId": "4b559fdf-5e49-4f37-b43b-4bedc42062d7"
      },
      "execution_count": null,
      "outputs": [
        {
          "output_type": "stream",
          "name": "stdout",
          "text": [
            "Accuracy: 0.9256308100929614\n",
            "Classification Report:\n",
            "                   precision    recall  f1-score   support\n",
            "\n",
            "   Alto Saxophone       0.89      0.83      0.86        75\n",
            "            Cello       0.94      1.00      0.97        46\n",
            "         Clarinet       0.82      0.83      0.83        72\n",
            "      Double Bass       1.00      0.95      0.98        43\n",
            "            Flute       0.89      0.96      0.92        70\n",
            "      French horn       0.97      0.91      0.94        43\n",
            "           Guitar       0.86      0.95      0.90        57\n",
            "             Oboe       0.92      0.93      0.93        61\n",
            "Soprano saxophone       0.97      0.73      0.83        41\n",
            "         Trombone       0.93      0.98      0.95        43\n",
            "          Trumpet       0.97      1.00      0.99        36\n",
            "             Tuba       0.97      1.00      0.99        38\n",
            "            Viola       1.00      0.93      0.96        40\n",
            "           Violin       0.97      1.00      0.98        88\n",
            "\n",
            "         accuracy                           0.93       753\n",
            "        macro avg       0.94      0.93      0.93       753\n",
            "     weighted avg       0.93      0.93      0.92       753\n",
            "\n"
          ]
        }
      ]
    },
    {
      "cell_type": "markdown",
      "source": [
        "croma"
      ],
      "metadata": {
        "id": "Uzs4SxbdspIt"
      }
    },
    {
      "cell_type": "code",
      "source": [
        "import numpy as np\n",
        "import pandas as pd\n",
        "from sklearn.model_selection import train_test_split\n",
        "from sklearn.ensemble import RandomForestClassifier\n",
        "from sklearn.metrics import accuracy_score, classification_report\n",
        "\n",
        "# Load the dataset from the CSV file\n",
        "dataset_path = \"/content/drive/MyDrive/mini project/chroma_features.csv\"\n",
        "dataset = pd.read_csv(dataset_path)\n",
        "\n",
        "# Create feature matrix (X) and target labels (y)\n",
        "X = dataset.drop(columns=[\"label_list\"]).values\n",
        "y = dataset[\"label_list\"].values\n",
        "\n",
        "# Split the data into training and testing sets\n",
        "X_train, X_test, y_train, y_test = train_test_split(X, y, test_size=0.3, random_state=42)\n",
        "\n",
        "# Initialize the Random Forest classifier\n",
        "rf_classifier = RandomForestClassifier(n_estimators=100, random_state=42)\n",
        "\n",
        "# Train the Random Forest model\n",
        "rf_classifier.fit(X_train, y_train)\n",
        "\n",
        "# Make predictions on the test set\n",
        "y_pred = rf_classifier.predict(X_test)\n",
        "\n",
        "# Evaluate the model\n",
        "accuracy = accuracy_score(y_test, y_pred)\n",
        "print(\"Accuracy:\", accuracy)\n",
        "\n",
        "# Generate a classification report\n",
        "print(\"Classification Report:\")\n",
        "print(classification_report(y_test, y_pred))\n"
      ],
      "metadata": {
        "colab": {
          "base_uri": "https://localhost:8080/"
        },
        "id": "lGjGn5OUbUWM",
        "outputId": "409bb382-be88-4443-af4d-f368005ec8a6"
      },
      "execution_count": null,
      "outputs": [
        {
          "output_type": "stream",
          "name": "stdout",
          "text": [
            "Accuracy: 0.44754316069057104\n",
            "Classification Report:\n",
            "                   precision    recall  f1-score   support\n",
            "\n",
            "   Alto Saxophone       0.43      0.40      0.41        75\n",
            "            Cello       0.57      0.72      0.63        46\n",
            "         Clarinet       0.41      0.31      0.35        72\n",
            "      Double Bass       0.82      0.65      0.73        43\n",
            "            Flute       0.37      0.39      0.38        70\n",
            "      French horn       0.17      0.14      0.15        43\n",
            "           Guitar       0.41      0.60      0.49        57\n",
            "             Oboe       0.46      0.46      0.46        61\n",
            "Soprano saxophone       0.18      0.12      0.14        41\n",
            "         Trombone       0.35      0.56      0.43        43\n",
            "          Trumpet       0.46      0.31      0.37        36\n",
            "             Tuba       0.67      0.26      0.38        38\n",
            "            Viola       0.44      0.35      0.39        40\n",
            "           Violin       0.56      0.74      0.63        88\n",
            "\n",
            "         accuracy                           0.45       753\n",
            "        macro avg       0.45      0.43      0.42       753\n",
            "     weighted avg       0.45      0.45      0.44       753\n",
            "\n"
          ]
        }
      ]
    },
    {
      "cell_type": "markdown",
      "source": [
        "wavelet transform"
      ],
      "metadata": {
        "id": "w8rlpAszbjT3"
      }
    },
    {
      "cell_type": "markdown",
      "source": [
        "**spectral_contrast_features**"
      ],
      "metadata": {
        "id": "IWia1BipLnaj"
      }
    },
    {
      "cell_type": "code",
      "source": [
        "import numpy as np\n",
        "import pandas as pd\n",
        "from sklearn.model_selection import train_test_split\n",
        "from sklearn.ensemble import RandomForestClassifier\n",
        "from sklearn.metrics import accuracy_score, classification_report\n",
        "\n",
        "# Load the dataset from the CSV file\n",
        "dataset_path = \"/content/drive/MyDrive/mini project/spectral_contrast_features.csv\"\n",
        "dataset = pd.read_csv(dataset_path)\n",
        "\n",
        "# Create feature matrix (X) and target labels (y)\n",
        "X = dataset.drop(columns=[\"label_list\"]).values\n",
        "y = dataset[\"label_list\"].values\n",
        "\n",
        "# Split the data into training and testing sets\n",
        "X_train, X_test, y_train, y_test = train_test_split(X, y, test_size=0.3, random_state=42)\n",
        "\n",
        "# Initialize the Random Forest classifier\n",
        "rf_classifier = RandomForestClassifier(n_estimators=100, random_state=42)\n",
        "\n",
        "# Train the Random Forest model\n",
        "rf_classifier.fit(X_train, y_train)\n",
        "\n",
        "# Make predictions on the test set\n",
        "y_pred = rf_classifier.predict(X_test)\n",
        "\n",
        "# Evaluate the model\n",
        "accuracy = accuracy_score(y_test, y_pred)\n",
        "print(\"Accuracy:\", accuracy)\n",
        "\n",
        "# Generate a classification report\n",
        "print(\"Classification Report:\")\n",
        "print(classification_report(y_test, y_pred))\n"
      ],
      "metadata": {
        "id": "fYPKIGO9LnLc",
        "colab": {
          "base_uri": "https://localhost:8080/"
        },
        "outputId": "676f663a-f98b-4e98-954b-884bbde46a6d"
      },
      "execution_count": null,
      "outputs": [
        {
          "output_type": "stream",
          "name": "stdout",
          "text": [
            "Accuracy: 0.8100929614873837\n",
            "Classification Report:\n",
            "                   precision    recall  f1-score   support\n",
            "\n",
            "   Alto Saxophone       0.85      0.76      0.80        75\n",
            "            Cello       0.72      0.74      0.73        46\n",
            "         Clarinet       0.81      0.82      0.81        72\n",
            "      Double Bass       0.68      0.79      0.73        43\n",
            "            Flute       0.86      0.93      0.89        70\n",
            "      French horn       0.79      0.72      0.76        43\n",
            "           Guitar       0.80      0.93      0.86        57\n",
            "             Oboe       0.89      0.77      0.82        61\n",
            "Soprano saxophone       0.79      0.83      0.81        41\n",
            "         Trombone       0.78      0.72      0.75        43\n",
            "          Trumpet       0.80      0.78      0.79        36\n",
            "             Tuba       0.97      0.84      0.90        38\n",
            "            Viola       0.68      0.68      0.68        40\n",
            "           Violin       0.86      0.89      0.87        88\n",
            "\n",
            "         accuracy                           0.81       753\n",
            "        macro avg       0.80      0.80      0.80       753\n",
            "     weighted avg       0.81      0.81      0.81       753\n",
            "\n"
          ]
        }
      ]
    },
    {
      "cell_type": "markdown",
      "source": [
        "**mixed**"
      ],
      "metadata": {
        "id": "YdjZkSRvfj4A"
      }
    },
    {
      "cell_type": "code",
      "source": [
        "\n",
        "import numpy as np\n",
        "import pandas as pd\n",
        "from sklearn.model_selection import train_test_split\n",
        "from sklearn.ensemble import RandomForestClassifier\n",
        "from sklearn.metrics import accuracy_score, classification_report\n",
        "\n",
        "# Load the dataset from the CSV file\n",
        "dataset_path = \"/content/drive/MyDrive/mini project/mixed_feature.csv\"\n",
        "dataset = pd.read_csv(dataset_path)\n",
        "\n",
        "# Create feature matrix (X) and target labels (y)\n",
        "X = dataset.drop(columns=[\"26\"]).values\n",
        "y = dataset[\"26\"].values\n",
        "\n",
        "# Split the data into training and testing sets\n",
        "X_train, X_test, y_train, y_test = train_test_split(X, y, test_size=0.3, random_state=42)\n",
        "\n",
        "# Initialize the Random Forest classifier\n",
        "rf_classifier = RandomForestClassifier(n_estimators=100, random_state=42)\n",
        "\n",
        "# Train the Random Forest model\n",
        "rf_classifier.fit(X_train, y_train)\n",
        "\n",
        "# Make predictions on the test set\n",
        "y_pred = rf_classifier.predict(X_test)\n",
        "\n",
        "# Evaluate the model\n",
        "accuracy = accuracy_score(y_test, y_pred)\n",
        "print(\"Accuracy:\", accuracy)\n",
        "\n",
        "# Generate a classification report\n",
        "print(\"Classification Report:\")\n",
        "print(classification_report(y_test, y_pred))\n"
      ],
      "metadata": {
        "id": "8GkP2sPPfjmv",
        "colab": {
          "base_uri": "https://localhost:8080/"
        },
        "outputId": "5292801b-1bc1-44c4-f5e1-eac7a50c618f"
      },
      "execution_count": null,
      "outputs": [
        {
          "output_type": "stream",
          "name": "stdout",
          "text": [
            "Accuracy: 0.9933598937583001\n",
            "Classification Report:\n",
            "                   precision    recall  f1-score   support\n",
            "\n",
            "   Alto Saxophone       1.00      1.00      1.00        75\n",
            "            Cello       1.00      1.00      1.00        46\n",
            "         Clarinet       1.00      1.00      1.00        72\n",
            "      Double Bass       1.00      0.98      0.99        43\n",
            "            Flute       0.99      1.00      0.99        70\n",
            "      French horn       1.00      0.93      0.96        43\n",
            "           Guitar       0.97      1.00      0.98        57\n",
            "             Oboe       1.00      0.98      0.99        61\n",
            "Soprano saxophone       1.00      1.00      1.00        41\n",
            "         Trombone       0.96      1.00      0.98        43\n",
            "          Trumpet       1.00      1.00      1.00        36\n",
            "             Tuba       1.00      1.00      1.00        38\n",
            "            Viola       1.00      1.00      1.00        40\n",
            "           Violin       1.00      1.00      1.00        88\n",
            "\n",
            "         accuracy                           0.99       753\n",
            "        macro avg       0.99      0.99      0.99       753\n",
            "     weighted avg       0.99      0.99      0.99       753\n",
            "\n"
          ]
        }
      ]
    },
    {
      "cell_type": "markdown",
      "source": [
        "# CNN"
      ],
      "metadata": {
        "id": "s2cHqtkH15bZ"
      }
    },
    {
      "cell_type": "markdown",
      "source": [
        "mfcc"
      ],
      "metadata": {
        "id": "qybFpPuEcSYM"
      }
    },
    {
      "cell_type": "code",
      "source": [
        "import numpy as np\n",
        "import pandas as pd\n",
        "from sklearn.model_selection import train_test_split\n",
        "from sklearn.preprocessing import LabelEncoder\n",
        "from tensorflow import keras\n",
        "from tensorflow.keras import layers\n",
        "\n",
        "# Load the data from the CSV file\n",
        "data = pd.read_csv('/content/drive/MyDrive/mini project/MFCC.csv')\n",
        "\n",
        "# Extract features and labels\n",
        "features = data.drop('label_list', axis=1).values\n",
        "labels = data['label_list'].values\n",
        "\n",
        "# Convert labels to integers using LabelEncoder\n",
        "label_encoder = LabelEncoder()\n",
        "labels = label_encoder.fit_transform(labels)\n",
        "\n",
        "# Split the data into training and testing sets\n",
        "x_train, x_test, y_train, y_test = train_test_split(features, labels, test_size=0.1, random_state=42)\n",
        "\n",
        "# Normalize the features to range [0, 1]\n",
        "x_train = x_train.astype('float32') / np.max(features)\n",
        "x_test = x_test.astype('float32') / np.max(features)\n",
        "\n",
        "# If the data is in 2D format, reshape it to 3D (num_samples, num_timesteps, num_features)\n",
        "# Example: x_train = x_train.reshape(x_train.shape[0], x_train.shape[1], 1)\n",
        "\n",
        "# Convert labels to one-hot encoding\n",
        "num_classes = len(np.unique(labels))\n",
        "y_train = keras.utils.to_categorical(y_train, num_classes)\n",
        "y_test = keras.utils.to_categorical(y_test, num_classes)\n"
      ],
      "metadata": {
        "id": "D38ejv0t0XbL"
      },
      "execution_count": null,
      "outputs": []
    },
    {
      "cell_type": "code",
      "source": [
        "features"
      ],
      "metadata": {
        "id": "EQBcK1G_aN5v",
        "colab": {
          "base_uri": "https://localhost:8080/"
        },
        "outputId": "1938407a-967d-4123-b6c1-ee7b828c38a7"
      },
      "execution_count": null,
      "outputs": [
        {
          "output_type": "execute_result",
          "data": {
            "text/plain": [
              "array([[-3.7856287e+02,  6.4111930e+01, -5.6815857e+01, ...,\n",
              "        -1.6103083e+01, -1.3194684e+01, -9.9347240e+00],\n",
              "       [-2.9984653e+02,  1.7148581e+02, -6.7063255e+01, ...,\n",
              "        -9.4322800e+00, -1.7038414e+01, -5.0627255e+00],\n",
              "       [-2.7399545e+02, -2.4769262e+01, -4.0575880e+01, ...,\n",
              "        -6.2921550e+00, -1.2959389e+01, -7.3959410e+00],\n",
              "       ...,\n",
              "       [-2.1050294e+02,  8.7555950e+01, -4.9003687e+00, ...,\n",
              "        -8.3802660e+00,  5.2994843e+00, -2.3733743e-01],\n",
              "       [-2.0474034e+02,  1.3102864e+02,  1.7241516e+01, ...,\n",
              "         2.7655256e-01, -7.3586500e+00, -1.1874747e+01],\n",
              "       [-1.7238667e+02,  4.9995705e+01,  8.2993560e-03, ...,\n",
              "        -2.2595854e+00,  2.7452426e+00, -2.9233947e+00]])"
            ]
          },
          "metadata": {},
          "execution_count": 50
        }
      ]
    },
    {
      "cell_type": "code",
      "source": [
        "\n",
        "# Create the CNN model\n",
        "model = keras.Sequential([\n",
        "    layers.Reshape((12, 1), input_shape=(12,)),  # Reshape input for CNN\n",
        "    layers.Conv1D(32, 3, activation='relu', padding='same'),\n",
        "    layers.MaxPooling1D(pool_size=2),\n",
        "    layers.Conv1D(64, 3, activation='relu', padding='same'),\n",
        "    layers.MaxPooling1D(pool_size=2),\n",
        "    layers.Flatten(),\n",
        "    layers.Dense(128, activation='relu'),\n",
        "    layers.Dense(num_classes, activation='softmax')\n",
        "])\n",
        "\n",
        "# Compile the model\n",
        "model.compile(loss='categorical_crossentropy', optimizer='adam', metrics=['accuracy'])\n"
      ],
      "metadata": {
        "id": "OXSKf9CB1o5F"
      },
      "execution_count": null,
      "outputs": []
    },
    {
      "cell_type": "code",
      "source": [
        "\n",
        "# Train the model\n",
        "batch_size = 16\n",
        "epochs = 20"
      ],
      "metadata": {
        "id": "mlV401uBz-2S"
      },
      "execution_count": null,
      "outputs": []
    },
    {
      "cell_type": "code",
      "source": [
        "model.fit(x_train, y_train, batch_size=batch_size, epochs=epochs, validation_split=0.1)"
      ],
      "metadata": {
        "id": "wMgdnnHg2gMC",
        "colab": {
          "base_uri": "https://localhost:8080/"
        },
        "outputId": "7c2c72a4-1fc4-4811-af6e-71dc3f01d284"
      },
      "execution_count": null,
      "outputs": [
        {
          "output_type": "stream",
          "name": "stdout",
          "text": [
            "Epoch 1/20\n",
            "128/128 [==============================] - 2s 6ms/step - loss: 2.2879 - accuracy: 0.2538 - val_loss: 1.6061 - val_accuracy: 0.5354\n",
            "Epoch 2/20\n",
            "128/128 [==============================] - 1s 5ms/step - loss: 1.3560 - accuracy: 0.5425 - val_loss: 1.1242 - val_accuracy: 0.6327\n",
            "Epoch 3/20\n",
            "128/128 [==============================] - 1s 4ms/step - loss: 1.0704 - accuracy: 0.6291 - val_loss: 0.9970 - val_accuracy: 0.6681\n",
            "Epoch 4/20\n",
            "128/128 [==============================] - 1s 5ms/step - loss: 0.9070 - accuracy: 0.6798 - val_loss: 0.8570 - val_accuracy: 0.6947\n",
            "Epoch 5/20\n",
            "128/128 [==============================] - 1s 4ms/step - loss: 0.8032 - accuracy: 0.7147 - val_loss: 0.8183 - val_accuracy: 0.6903\n",
            "Epoch 6/20\n",
            "128/128 [==============================] - 1s 5ms/step - loss: 0.7370 - accuracy: 0.7403 - val_loss: 0.7203 - val_accuracy: 0.7345\n",
            "Epoch 7/20\n",
            "128/128 [==============================] - 1s 4ms/step - loss: 0.6791 - accuracy: 0.7526 - val_loss: 0.7169 - val_accuracy: 0.7743\n",
            "Epoch 8/20\n",
            "128/128 [==============================] - 1s 4ms/step - loss: 0.6278 - accuracy: 0.7737 - val_loss: 0.6998 - val_accuracy: 0.7434\n",
            "Epoch 9/20\n",
            "128/128 [==============================] - 1s 5ms/step - loss: 0.5814 - accuracy: 0.7993 - val_loss: 0.5799 - val_accuracy: 0.8009\n",
            "Epoch 10/20\n",
            "128/128 [==============================] - 0s 4ms/step - loss: 0.5123 - accuracy: 0.8190 - val_loss: 0.5709 - val_accuracy: 0.7876\n",
            "Epoch 11/20\n",
            "128/128 [==============================] - 0s 3ms/step - loss: 0.4703 - accuracy: 0.8313 - val_loss: 0.5090 - val_accuracy: 0.8186\n",
            "Epoch 12/20\n",
            "128/128 [==============================] - 1s 4ms/step - loss: 0.4417 - accuracy: 0.8475 - val_loss: 0.5587 - val_accuracy: 0.7965\n",
            "Epoch 13/20\n",
            "128/128 [==============================] - 0s 3ms/step - loss: 0.4787 - accuracy: 0.8244 - val_loss: 0.5256 - val_accuracy: 0.7832\n",
            "Epoch 14/20\n",
            "128/128 [==============================] - 0s 3ms/step - loss: 0.4150 - accuracy: 0.8534 - val_loss: 0.4742 - val_accuracy: 0.8363\n",
            "Epoch 15/20\n",
            "128/128 [==============================] - 0s 3ms/step - loss: 0.3684 - accuracy: 0.8633 - val_loss: 0.4308 - val_accuracy: 0.8496\n",
            "Epoch 16/20\n",
            "128/128 [==============================] - 0s 3ms/step - loss: 0.3575 - accuracy: 0.8697 - val_loss: 0.4088 - val_accuracy: 0.8761\n",
            "Epoch 17/20\n",
            "128/128 [==============================] - 1s 4ms/step - loss: 0.3322 - accuracy: 0.8874 - val_loss: 0.4116 - val_accuracy: 0.8540\n",
            "Epoch 18/20\n",
            "128/128 [==============================] - 1s 6ms/step - loss: 0.3040 - accuracy: 0.8982 - val_loss: 0.3960 - val_accuracy: 0.8451\n",
            "Epoch 19/20\n",
            "128/128 [==============================] - 1s 7ms/step - loss: 0.3165 - accuracy: 0.8879 - val_loss: 0.4753 - val_accuracy: 0.8496\n",
            "Epoch 20/20\n",
            "128/128 [==============================] - 1s 4ms/step - loss: 0.2994 - accuracy: 0.8903 - val_loss: 0.3683 - val_accuracy: 0.8717\n"
          ]
        },
        {
          "output_type": "execute_result",
          "data": {
            "text/plain": [
              "<keras.src.callbacks.History at 0x7b4f4016bfa0>"
            ]
          },
          "metadata": {},
          "execution_count": 53
        }
      ]
    },
    {
      "cell_type": "code",
      "source": [
        "\n",
        "# Evaluate the model\n",
        "loss, accuracy = model.evaluate(x_test, y_test)\n",
        "print('Test accuracy:', accuracy)"
      ],
      "metadata": {
        "id": "Ofl8B5bA2cms",
        "colab": {
          "base_uri": "https://localhost:8080/"
        },
        "outputId": "199cf0dc-d15c-427f-f528-b339f63ed5e0"
      },
      "execution_count": null,
      "outputs": [
        {
          "output_type": "stream",
          "name": "stdout",
          "text": [
            "8/8 [==============================] - 0s 5ms/step - loss: 0.3457 - accuracy: 0.8606\n",
            "Test accuracy: 0.8605577945709229\n"
          ]
        }
      ]
    },
    {
      "cell_type": "code",
      "source": [
        "# Specify the path where you want to save the model\n",
        "model_path = '/content/drive/MyDrive/CNN_saved_model.h5'\n",
        "\n",
        "# Save the model to the specified path\n",
        "model.save(model_path)\n",
        "print(\"Model saved successfully at:\", model_path)"
      ],
      "metadata": {
        "id": "atjjlA_tbHd1",
        "colab": {
          "base_uri": "https://localhost:8080/"
        },
        "outputId": "c1a19219-17d3-46c8-f0fb-3eba71ea11e4"
      },
      "execution_count": null,
      "outputs": [
        {
          "output_type": "stream",
          "name": "stderr",
          "text": [
            "/usr/local/lib/python3.10/dist-packages/keras/src/engine/training.py:3000: UserWarning: You are saving your model as an HDF5 file via `model.save()`. This file format is considered legacy. We recommend using instead the native Keras format, e.g. `model.save('my_model.keras')`.\n",
            "  saving_api.save_model(\n"
          ]
        },
        {
          "output_type": "stream",
          "name": "stdout",
          "text": [
            "Model saved successfully at: /content/drive/MyDrive/CNN_saved_model.h5\n"
          ]
        }
      ]
    },
    {
      "cell_type": "code",
      "source": [
        "# Make predictions on test data\n",
        "y_pred = model.predict(x_test)\n",
        "y_pred_classes = np.argmax(y_pred, axis=1)\n",
        "y_true = np.argmax(y_test, axis=1)\n",
        "\n",
        "# Calculate precision, recall, and F1-score with 'macro' averaging\n",
        "precision = precision_score(y_true, y_pred_classes, average='macro')\n",
        "recall = recall_score(y_true, y_pred_classes, average='macro')\n",
        "f1 = f1_score(y_true, y_pred_classes, average='macro')\n",
        "\n",
        "print('Macro Avg Precision:', precision)\n",
        "print('Macro Avg Recall:', recall)\n",
        "print('Macro Avg F1-score:', f1)"
      ],
      "metadata": {
        "colab": {
          "base_uri": "https://localhost:8080/"
        },
        "id": "_emSbYVQ7ozp",
        "outputId": "c7b4fe22-8756-4a88-a682-fc31d85b2603"
      },
      "execution_count": null,
      "outputs": [
        {
          "output_type": "stream",
          "name": "stdout",
          "text": [
            "8/8 [==============================] - 0s 3ms/step\n",
            "Macro Avg Precision: 0.8757832678525956\n",
            "Macro Avg Recall: 0.8572520315941369\n",
            "Macro Avg F1-score: 0.8600498868483246\n"
          ]
        }
      ]
    },
    {
      "cell_type": "markdown",
      "source": [
        "chroma"
      ],
      "metadata": {
        "id": "x6wLo2AAcUzf"
      }
    },
    {
      "cell_type": "code",
      "source": [
        "import numpy as np\n",
        "import pandas as pd\n",
        "from sklearn.model_selection import train_test_split\n",
        "from sklearn.preprocessing import LabelEncoder\n",
        "from tensorflow import keras\n",
        "from tensorflow.keras import layers\n",
        "\n",
        "# Load the data from the CSV file\n",
        "data = pd.read_csv('/content/drive/MyDrive/mini project/chroma_features.csv')\n",
        "\n",
        "# Extract features and labels\n",
        "features = data.drop('label_list', axis=1).values\n",
        "labels = data['label_list'].values\n",
        "\n",
        "# Convert labels to integers using LabelEncoder\n",
        "label_encoder = LabelEncoder()\n",
        "labels = label_encoder.fit_transform(labels)\n",
        "\n",
        "# Split the data into training and testing sets\n",
        "x_train, x_test, y_train, y_test = train_test_split(features, labels, test_size=0.1, random_state=42)\n",
        "\n",
        "# Normalize the features to range [0, 1]\n",
        "x_train = x_train.astype('float32') / np.max(features)\n",
        "x_test = x_test.astype('float32') / np.max(features)\n",
        "\n",
        "# If the data is in 2D format, reshape it to 3D (num_samples, num_timesteps, num_features)\n",
        "# Example: x_train = x_train.reshape(x_train.shape[0], x_train.shape[1], 1)\n",
        "\n",
        "# Convert labels to one-hot encoding\n",
        "num_classes = len(np.unique(labels))\n",
        "y_train = keras.utils.to_categorical(y_train, num_classes)\n",
        "y_test = keras.utils.to_categorical(y_test, num_classes)\n",
        "\n",
        "\n",
        "# Create the CNN model\n",
        "model = keras.Sequential([\n",
        "    layers.Reshape((12, 1), input_shape=(12,)),  # Reshape input for CNN\n",
        "    layers.Conv1D(32, 3, activation='relu', padding='same'),\n",
        "    layers.MaxPooling1D(pool_size=2),\n",
        "    layers.Conv1D(64, 3, activation='relu', padding='same'),\n",
        "    layers.MaxPooling1D(pool_size=2),\n",
        "    layers.Flatten(),\n",
        "    layers.Dense(128, activation='relu'),\n",
        "    layers.Dense(num_classes, activation='softmax')\n",
        "])\n",
        "\n",
        "# Compile the model\n",
        "model.compile(loss='categorical_crossentropy', optimizer='adam', metrics=['accuracy'])\n",
        "\n",
        "\n",
        "\n",
        "# Train the model\n",
        "batch_size = 16\n",
        "epochs = 20\n",
        "\n",
        "\n",
        "\n",
        "\n",
        "model.fit(x_train, y_train, batch_size=batch_size, epochs=epochs, validation_split=0.1)\n",
        "\n",
        "# Evaluate the model\n",
        "loss, accuracy = model.evaluate(x_test, y_test)\n",
        "print('Test accuracy:', accuracy)\n",
        "\n",
        "\n",
        "# Make predictions on test data\n",
        "y_pred = model.predict(x_test)\n",
        "y_pred_classes = np.argmax(y_pred, axis=1)\n",
        "y_true = np.argmax(y_test, axis=1)\n",
        "\n",
        "# Calculate precision, recall, and F1-score with 'macro' averaging\n",
        "precision = precision_score(y_true, y_pred_classes, average='macro')\n",
        "recall = recall_score(y_true, y_pred_classes, average='macro')\n",
        "f1 = f1_score(y_true, y_pred_classes, average='macro')\n",
        "\n",
        "print('Macro Avg Precision:', precision)\n",
        "print('Macro Avg Recall:', recall)\n",
        "print('Macro Avg F1-score:', f1)\n"
      ],
      "metadata": {
        "id": "gmFWj6CLcV2e",
        "colab": {
          "base_uri": "https://localhost:8080/"
        },
        "outputId": "3f0d967f-f69d-4f23-9780-b9a2e8653c27"
      },
      "execution_count": null,
      "outputs": [
        {
          "output_type": "stream",
          "name": "stdout",
          "text": [
            "Epoch 1/20\n",
            "128/128 [==============================] - 3s 7ms/step - loss: 2.5859 - accuracy: 0.1220 - val_loss: 2.4522 - val_accuracy: 0.1593\n",
            "Epoch 2/20\n",
            "128/128 [==============================] - 1s 4ms/step - loss: 2.4064 - accuracy: 0.1864 - val_loss: 2.2913 - val_accuracy: 0.1637\n",
            "Epoch 3/20\n",
            "128/128 [==============================] - 1s 5ms/step - loss: 2.2998 - accuracy: 0.2213 - val_loss: 2.2145 - val_accuracy: 0.2655\n",
            "Epoch 4/20\n",
            "128/128 [==============================] - 1s 5ms/step - loss: 2.2209 - accuracy: 0.2459 - val_loss: 2.1502 - val_accuracy: 0.2699\n",
            "Epoch 5/20\n",
            "128/128 [==============================] - 1s 5ms/step - loss: 2.1438 - accuracy: 0.2755 - val_loss: 2.1232 - val_accuracy: 0.3009\n",
            "Epoch 6/20\n",
            "128/128 [==============================] - 1s 7ms/step - loss: 2.0617 - accuracy: 0.3133 - val_loss: 2.0550 - val_accuracy: 0.2743\n",
            "Epoch 7/20\n",
            "128/128 [==============================] - 1s 7ms/step - loss: 1.9991 - accuracy: 0.3325 - val_loss: 1.9859 - val_accuracy: 0.2566\n",
            "Epoch 8/20\n",
            "128/128 [==============================] - 1s 6ms/step - loss: 1.9324 - accuracy: 0.3443 - val_loss: 1.9597 - val_accuracy: 0.2920\n",
            "Epoch 9/20\n",
            "128/128 [==============================] - 1s 7ms/step - loss: 1.8887 - accuracy: 0.3527 - val_loss: 1.9192 - val_accuracy: 0.3009\n",
            "Epoch 10/20\n",
            "128/128 [==============================] - 1s 7ms/step - loss: 1.8367 - accuracy: 0.3665 - val_loss: 1.8819 - val_accuracy: 0.2876\n",
            "Epoch 11/20\n",
            "128/128 [==============================] - 1s 7ms/step - loss: 1.8045 - accuracy: 0.3768 - val_loss: 1.8443 - val_accuracy: 0.3363\n",
            "Epoch 12/20\n",
            "128/128 [==============================] - 1s 5ms/step - loss: 1.7616 - accuracy: 0.3851 - val_loss: 1.8418 - val_accuracy: 0.3584\n",
            "Epoch 13/20\n",
            "128/128 [==============================] - 1s 5ms/step - loss: 1.7563 - accuracy: 0.3999 - val_loss: 1.9549 - val_accuracy: 0.3097\n",
            "Epoch 14/20\n",
            "128/128 [==============================] - 1s 4ms/step - loss: 1.7255 - accuracy: 0.4092 - val_loss: 1.7939 - val_accuracy: 0.3274\n",
            "Epoch 15/20\n",
            "128/128 [==============================] - 1s 6ms/step - loss: 1.6905 - accuracy: 0.4147 - val_loss: 1.8006 - val_accuracy: 0.3053\n",
            "Epoch 16/20\n",
            "128/128 [==============================] - 1s 8ms/step - loss: 1.6857 - accuracy: 0.4206 - val_loss: 1.9094 - val_accuracy: 0.3097\n",
            "Epoch 17/20\n",
            "128/128 [==============================] - 1s 7ms/step - loss: 1.6381 - accuracy: 0.4289 - val_loss: 1.8158 - val_accuracy: 0.3451\n",
            "Epoch 18/20\n",
            "128/128 [==============================] - 1s 8ms/step - loss: 1.6090 - accuracy: 0.4378 - val_loss: 1.7745 - val_accuracy: 0.3407\n",
            "Epoch 19/20\n",
            "128/128 [==============================] - 1s 6ms/step - loss: 1.5843 - accuracy: 0.4442 - val_loss: 1.8722 - val_accuracy: 0.3407\n",
            "Epoch 20/20\n",
            "128/128 [==============================] - 1s 5ms/step - loss: 1.5688 - accuracy: 0.4511 - val_loss: 1.7697 - val_accuracy: 0.3540\n",
            "8/8 [==============================] - 0s 6ms/step - loss: 1.6861 - accuracy: 0.4462\n",
            "Test accuracy: 0.4462151527404785\n",
            "8/8 [==============================] - 0s 4ms/step\n",
            "Macro Avg Precision: 0.44183197754626324\n",
            "Macro Avg Recall: 0.40257224500645555\n",
            "Macro Avg F1-score: 0.3906765021489802\n"
          ]
        }
      ]
    },
    {
      "cell_type": "markdown",
      "source": [
        "wavelet transform"
      ],
      "metadata": {
        "id": "UYzkcc5XdfOg"
      }
    },
    {
      "cell_type": "code",
      "source": [
        "import numpy as np\n",
        "import pandas as pd\n",
        "from sklearn.model_selection import train_test_split\n",
        "from sklearn.preprocessing import LabelEncoder\n",
        "from tensorflow import keras\n",
        "from tensorflow.keras import layers\n",
        "\n",
        "# Load the data from the CSV file\n",
        "data = pd.read_csv('/content/drive/MyDrive/mini project/wavelet_features.csv')\n",
        "\n",
        "# Extract features and labels\n",
        "features = data.drop('label_list', axis=1).values\n",
        "labels = data['label_list'].values\n",
        "\n",
        "# Convert labels to integers using LabelEncoder\n",
        "label_encoder = LabelEncoder()\n",
        "labels = label_encoder.fit_transform(labels)\n",
        "\n",
        "# Split the data into training and testing sets\n",
        "x_train, x_test, y_train, y_test = train_test_split(features, labels, test_size=0.2, random_state=42)\n",
        "\n",
        "# Normalize the features to range [0, 1]\n",
        "x_train = x_train.astype('float32') / np.max(features)\n",
        "x_test = x_test.astype('float32') / np.max(features)\n",
        "\n",
        "# If the data is in 2D format, reshape it to 3D (num_samples, num_timesteps, num_features)\n",
        "# Example: x_train = x_train.reshape(x_train.shape[0], x_train.shape[1], 1)\n",
        "\n",
        "# Convert labels to one-hot encoding\n",
        "num_classes = len(np.unique(labels))\n",
        "y_train = keras.utils.to_categorical(y_train, num_classes)\n",
        "y_test = keras.utils.to_categorical(y_test, num_classes)\n"
      ],
      "metadata": {
        "id": "td6ecougcjTU"
      },
      "execution_count": null,
      "outputs": []
    },
    {
      "cell_type": "code",
      "source": [
        "\n",
        "# Create the CNN model\n",
        "model = keras.Sequential([\n",
        "    layers.Reshape((10, 1), input_shape=(10,)),  # Reshape input for CNN\n",
        "    layers.Conv1D(32, 3, activation='relu', padding='same'),\n",
        "    layers.MaxPooling1D(pool_size=2),\n",
        "    layers.Conv1D(64, 3, activation='relu', padding='same'),\n",
        "    layers.MaxPooling1D(pool_size=2),\n",
        "    layers.Flatten(),\n",
        "    layers.Dense(128, activation='relu'),\n",
        "    layers.Dense(num_classes, activation='softmax')\n",
        "])\n",
        "\n",
        "# Compile the model\n",
        "model.compile(loss='categorical_crossentropy', optimizer='adam', metrics=['accuracy'])\n"
      ],
      "metadata": {
        "id": "JC3JSEtndjTv"
      },
      "execution_count": null,
      "outputs": []
    },
    {
      "cell_type": "code",
      "source": [
        "\n",
        "# Train the model\n",
        "batch_size = 16\n",
        "epochs = 20"
      ],
      "metadata": {
        "id": "ZHGODsUDdjRC"
      },
      "execution_count": null,
      "outputs": []
    },
    {
      "cell_type": "markdown",
      "source": [
        "model.fit(x_train, y_train, batch_size=batch_size, epochs=epochs, validation_split=0.1)"
      ],
      "metadata": {
        "id": "sAKGvXIidjN7"
      }
    },
    {
      "cell_type": "code",
      "source": [
        "\n",
        "# Evaluate the model\n",
        "loss, accuracy = model.evaluate(x_test, y_test)\n",
        "print('Test accuracy:', accuracy)"
      ],
      "metadata": {
        "id": "cWrsUPHcdjLr",
        "colab": {
          "base_uri": "https://localhost:8080/"
        },
        "outputId": "43545602-06ce-4bf3-b27c-65eda951336f"
      },
      "execution_count": null,
      "outputs": [
        {
          "output_type": "stream",
          "name": "stdout",
          "text": [
            "16/16 [==============================] - 1s 5ms/step - loss: 2.6384 - accuracy: 0.1036\n",
            "Test accuracy: 0.10358566045761108\n"
          ]
        }
      ]
    },
    {
      "cell_type": "markdown",
      "source": [
        "**spectral_contrast_features**"
      ],
      "metadata": {
        "id": "2ZyQfzNJMcXi"
      }
    },
    {
      "cell_type": "code",
      "source": [
        "import numpy as np\n",
        "import pandas as pd\n",
        "from sklearn.model_selection import train_test_split\n",
        "from sklearn.preprocessing import LabelEncoder\n",
        "from tensorflow import keras\n",
        "from tensorflow.keras import layers\n",
        "\n",
        "# Load the data from the CSV file\n",
        "data = pd.read_csv('/content/drive/MyDrive/mini project/spectral_contrast_features.csv')\n",
        "\n",
        "# Extract features and labels\n",
        "features = data.drop('label_list', axis=1).values\n",
        "labels = data['label_list'].values\n",
        "\n",
        "# Convert labels to integers using LabelEncoder\n",
        "label_encoder = LabelEncoder()\n",
        "labels = label_encoder.fit_transform(labels)\n",
        "\n",
        "# Split the data into training and testing sets\n",
        "x_train, x_test, y_train, y_test = train_test_split(features, labels, test_size=0.1, random_state=42)\n",
        "\n",
        "# Normalize the features to range [0, 1]\n",
        "x_train = x_train.astype('float32') / np.max(features)\n",
        "x_test = x_test.astype('float32') / np.max(features)\n",
        "\n",
        "# If the data is in 2D format, reshape it to 3D (num_samples, num_timesteps, num_features)\n",
        "# Example: x_train = x_train.reshape(x_train.shape[0], x_train.shape[1], 1)\n",
        "\n",
        "# Convert labels to one-hot encoding\n",
        "num_classes = len(np.unique(labels))\n",
        "y_train = keras.utils.to_categorical(y_train, num_classes)\n",
        "y_test = keras.utils.to_categorical(y_test, num_classes)\n",
        "\n",
        "\n",
        "\n",
        "\n",
        "# Create the CNN model\n",
        "model = keras.Sequential([\n",
        "    layers.Reshape((7, 1), input_shape=(7,)),  # Reshape input for CNN\n",
        "    layers.Conv1D(32, 3, activation='relu', padding='same'),\n",
        "    layers.MaxPooling1D(pool_size=2),\n",
        "    layers.Conv1D(64, 3, activation='relu', padding='same'),\n",
        "    layers.MaxPooling1D(pool_size=2),\n",
        "    layers.Flatten(),\n",
        "    layers.Dense(128, activation='relu'),\n",
        "    layers.Dense(num_classes, activation='softmax')\n",
        "])\n",
        "\n",
        "# Compile the model\n",
        "model.compile(loss='categorical_crossentropy', optimizer='adam', metrics=['accuracy'])\n",
        "\n",
        "\n",
        "\n",
        "\n",
        "# Train the model\n",
        "batch_size = 16\n",
        "epochs = 20\n",
        "\n",
        "\n",
        "model.fit(x_train, y_train, batch_size=batch_size, epochs=epochs, validation_split=0.1)\n",
        "\n",
        "\n",
        "\n",
        "# Evaluate the model\n",
        "loss, accuracy = model.evaluate(x_test, y_test)\n",
        "print('Test accuracy:', accuracy)\n",
        "\n"
      ],
      "metadata": {
        "id": "c2-ne4RrMaJV",
        "colab": {
          "base_uri": "https://localhost:8080/"
        },
        "outputId": "055f060a-b3ce-458b-a291-f16e56246c94"
      },
      "execution_count": null,
      "outputs": [
        {
          "output_type": "stream",
          "name": "stdout",
          "text": [
            "Epoch 1/20\n",
            "128/128 [==============================] - 3s 8ms/step - loss: 2.5774 - accuracy: 0.1289 - val_loss: 2.4526 - val_accuracy: 0.1858\n",
            "Epoch 2/20\n",
            "128/128 [==============================] - 1s 4ms/step - loss: 2.3753 - accuracy: 0.1781 - val_loss: 2.2578 - val_accuracy: 0.2478\n",
            "Epoch 3/20\n",
            "128/128 [==============================] - 1s 4ms/step - loss: 2.2615 - accuracy: 0.2209 - val_loss: 2.1770 - val_accuracy: 0.2389\n",
            "Epoch 4/20\n",
            "128/128 [==============================] - 1s 5ms/step - loss: 2.1318 - accuracy: 0.2755 - val_loss: 2.0050 - val_accuracy: 0.2920\n",
            "Epoch 5/20\n",
            "128/128 [==============================] - 1s 4ms/step - loss: 1.9878 - accuracy: 0.3197 - val_loss: 1.8618 - val_accuracy: 0.3274\n",
            "Epoch 6/20\n",
            "128/128 [==============================] - 0s 4ms/step - loss: 1.8769 - accuracy: 0.3399 - val_loss: 1.7649 - val_accuracy: 0.3982\n",
            "Epoch 7/20\n",
            "128/128 [==============================] - 1s 4ms/step - loss: 1.8000 - accuracy: 0.3758 - val_loss: 1.7212 - val_accuracy: 0.4204\n",
            "Epoch 8/20\n",
            "128/128 [==============================] - 1s 4ms/step - loss: 1.7446 - accuracy: 0.3871 - val_loss: 1.6327 - val_accuracy: 0.4558\n",
            "Epoch 9/20\n",
            "128/128 [==============================] - 1s 4ms/step - loss: 1.6802 - accuracy: 0.4196 - val_loss: 1.6140 - val_accuracy: 0.4558\n",
            "Epoch 10/20\n",
            "128/128 [==============================] - 1s 4ms/step - loss: 1.6402 - accuracy: 0.4245 - val_loss: 1.5209 - val_accuracy: 0.4823\n",
            "Epoch 11/20\n",
            "128/128 [==============================] - 1s 5ms/step - loss: 1.5872 - accuracy: 0.4579 - val_loss: 1.4950 - val_accuracy: 0.5044\n",
            "Epoch 12/20\n",
            "128/128 [==============================] - 0s 3ms/step - loss: 1.5468 - accuracy: 0.4668 - val_loss: 1.4253 - val_accuracy: 0.5442\n",
            "Epoch 13/20\n",
            "128/128 [==============================] - 0s 3ms/step - loss: 1.4967 - accuracy: 0.4953 - val_loss: 1.3882 - val_accuracy: 0.5221\n",
            "Epoch 14/20\n",
            "128/128 [==============================] - 0s 3ms/step - loss: 1.4601 - accuracy: 0.5091 - val_loss: 1.4008 - val_accuracy: 0.5752\n",
            "Epoch 15/20\n",
            "128/128 [==============================] - 0s 3ms/step - loss: 1.4522 - accuracy: 0.4899 - val_loss: 1.2897 - val_accuracy: 0.5664\n",
            "Epoch 16/20\n",
            "128/128 [==============================] - 0s 4ms/step - loss: 1.4130 - accuracy: 0.5248 - val_loss: 1.2890 - val_accuracy: 0.5973\n",
            "Epoch 17/20\n",
            "128/128 [==============================] - 1s 4ms/step - loss: 1.3664 - accuracy: 0.5337 - val_loss: 1.3045 - val_accuracy: 0.5310\n",
            "Epoch 18/20\n",
            "128/128 [==============================] - 1s 4ms/step - loss: 1.3721 - accuracy: 0.5430 - val_loss: 1.2242 - val_accuracy: 0.5973\n",
            "Epoch 19/20\n",
            "128/128 [==============================] - 1s 4ms/step - loss: 1.3377 - accuracy: 0.5509 - val_loss: 1.1886 - val_accuracy: 0.5929\n",
            "Epoch 20/20\n",
            "128/128 [==============================] - 1s 4ms/step - loss: 1.3191 - accuracy: 0.5563 - val_loss: 1.2709 - val_accuracy: 0.5841\n",
            "8/8 [==============================] - 0s 3ms/step - loss: 1.3044 - accuracy: 0.5418\n",
            "Test accuracy: 0.541832685470581\n"
          ]
        }
      ]
    },
    {
      "cell_type": "code",
      "source": [
        "# Make predictions on test data\n",
        "y_pred = model.predict(x_test)\n",
        "y_pred_classes = np.argmax(y_pred, axis=1)\n",
        "y_true = np.argmax(y_test, axis=1)\n",
        "\n",
        "# Calculate precision, recall, and F1-score\n",
        "precision = precision_score(y_true, y_pred_classes, average='weighted')\n",
        "recall = recall_score(y_true, y_pred_classes, average='weighted')\n",
        "f1 = f1_score(y_true, y_pred_classes, average='weighted')\n",
        "\n",
        "print('Precision:', precision)\n",
        "print('Recall:', recall)\n",
        "print('F1-score:', f1)"
      ],
      "metadata": {
        "colab": {
          "base_uri": "https://localhost:8080/"
        },
        "id": "_sSvWizT7OQz",
        "outputId": "15dcc25a-bdfe-4092-bc6e-c727da91127d"
      },
      "execution_count": null,
      "outputs": [
        {
          "output_type": "stream",
          "name": "stdout",
          "text": [
            "8/8 [==============================] - 0s 3ms/step\n",
            "Precision: 0.5764798069923432\n",
            "Recall: 0.5418326693227091\n",
            "F1-score: 0.5232306655801106\n"
          ]
        }
      ]
    },
    {
      "cell_type": "markdown",
      "source": [
        "**mixed**"
      ],
      "metadata": {
        "id": "xgj4zpYTf1Yo"
      }
    },
    {
      "cell_type": "code",
      "source": [
        "import numpy as np\n",
        "import pandas as pd\n",
        "from sklearn.model_selection import train_test_split\n",
        "from sklearn.preprocessing import LabelEncoder\n",
        "from tensorflow import keras\n",
        "from tensorflow.keras import layers\n",
        "\n",
        "# Load the data from the CSV file\n",
        "data = pd.read_csv('/content/drive/MyDrive/mini project/mixed_feature.csv')\n",
        "\n",
        "# Extract features and labels\n",
        "features = data.drop('26', axis=1).values\n",
        "labels = data['26'].values\n",
        "\n",
        "# Convert labels to integers using LabelEncoder\n",
        "label_encoder = LabelEncoder()\n",
        "labels = label_encoder.fit_transform(labels)\n",
        "\n",
        "# Split the data into training and testing sets\n",
        "x_train, x_test, y_train, y_test = train_test_split(features, labels, test_size=0.5, random_state=42)\n",
        "\n",
        "# Normalize the features to range [0, 1]\n",
        "x_train = x_train.astype('float32') / np.max(features)\n",
        "x_test = x_test.astype('float32') / np.max(features)\n",
        "\n",
        "# If the data is in 2D format, reshape it to 3D (num_samples, num_timesteps, num_features)\n",
        "# Example: x_train = x_train.reshape(x_train.shape[0], x_train.shape[1], 1)\n",
        "\n",
        "# Convert labels to one-hot encoding\n",
        "num_classes = len(np.unique(labels))\n",
        "y_train = keras.utils.to_categorical(y_train, num_classes)\n",
        "y_test = keras.utils.to_categorical(y_test, num_classes)\n",
        "\n",
        "\n",
        "\n",
        "\n",
        "# Create the CNN model\n",
        "model = keras.Sequential([\n",
        "    layers.Reshape((27, 1), input_shape=(27,)),  # Reshape input for CNN\n",
        "    layers.Conv1D(32, 3, activation='relu', padding='same'),\n",
        "    layers.MaxPooling1D(pool_size=2),\n",
        "    layers.Conv1D(64, 3, activation='relu', padding='same'),\n",
        "    layers.MaxPooling1D(pool_size=2),\n",
        "    layers.Flatten(),\n",
        "    layers.Dense(128, activation='relu'),\n",
        "    layers.Dense(num_classes, activation='softmax')\n",
        "])\n",
        "\n",
        "# Compile the model\n",
        "model.compile(loss='categorical_crossentropy', optimizer='adam', metrics=['accuracy'])\n",
        "\n",
        "\n",
        "\n",
        "\n",
        "# Train the model\n",
        "batch_size = 16\n",
        "epochs = 20\n",
        "\n",
        "\n",
        "model.fit(x_train, y_train, batch_size=batch_size, epochs=epochs, validation_split=0.1)\n",
        "\n",
        "\n",
        "\n",
        "# Evaluate the model\n",
        "loss, accuracy = model.evaluate(x_test, y_test)\n",
        "print('Test accuracy:', accuracy)\n",
        "\n"
      ],
      "metadata": {
        "id": "JAxnh930f2gO",
        "colab": {
          "base_uri": "https://localhost:8080/"
        },
        "outputId": "112695b3-86a4-4ace-cc12-076c36fd30fc"
      },
      "execution_count": null,
      "outputs": [
        {
          "output_type": "stream",
          "name": "stdout",
          "text": [
            "Epoch 1/20\n",
            "71/71 [==============================] - 3s 12ms/step - loss: 2.5386 - accuracy: 0.1311 - val_loss: 2.3113 - val_accuracy: 0.2698\n",
            "Epoch 2/20\n",
            "71/71 [==============================] - 0s 5ms/step - loss: 2.0078 - accuracy: 0.3047 - val_loss: 1.7899 - val_accuracy: 0.3810\n",
            "Epoch 3/20\n",
            "71/71 [==============================] - 1s 7ms/step - loss: 1.6764 - accuracy: 0.4322 - val_loss: 1.5238 - val_accuracy: 0.4444\n",
            "Epoch 4/20\n",
            "71/71 [==============================] - 0s 6ms/step - loss: 1.5038 - accuracy: 0.5013 - val_loss: 1.4683 - val_accuracy: 0.4365\n",
            "Epoch 5/20\n",
            "71/71 [==============================] - 0s 7ms/step - loss: 1.3705 - accuracy: 0.5447 - val_loss: 1.4109 - val_accuracy: 0.3571\n",
            "Epoch 6/20\n",
            "71/71 [==============================] - 0s 7ms/step - loss: 1.2575 - accuracy: 0.5899 - val_loss: 1.0793 - val_accuracy: 0.6587\n",
            "Epoch 7/20\n",
            "71/71 [==============================] - 1s 7ms/step - loss: 1.1221 - accuracy: 0.6280 - val_loss: 0.9994 - val_accuracy: 0.6587\n",
            "Epoch 8/20\n",
            "71/71 [==============================] - 0s 4ms/step - loss: 0.9803 - accuracy: 0.6918 - val_loss: 0.9136 - val_accuracy: 0.6825\n",
            "Epoch 9/20\n",
            "71/71 [==============================] - 0s 4ms/step - loss: 0.8834 - accuracy: 0.7334 - val_loss: 0.8062 - val_accuracy: 0.7222\n",
            "Epoch 10/20\n",
            "71/71 [==============================] - 0s 4ms/step - loss: 0.7791 - accuracy: 0.7741 - val_loss: 0.6153 - val_accuracy: 0.8571\n",
            "Epoch 11/20\n",
            "71/71 [==============================] - 0s 4ms/step - loss: 0.6851 - accuracy: 0.7874 - val_loss: 0.6053 - val_accuracy: 0.7460\n",
            "Epoch 12/20\n",
            "71/71 [==============================] - 0s 4ms/step - loss: 0.6052 - accuracy: 0.8122 - val_loss: 0.5357 - val_accuracy: 0.8095\n",
            "Epoch 13/20\n",
            "71/71 [==============================] - 0s 4ms/step - loss: 0.5444 - accuracy: 0.8273 - val_loss: 0.5422 - val_accuracy: 0.7619\n",
            "Epoch 14/20\n",
            "71/71 [==============================] - 0s 4ms/step - loss: 0.4690 - accuracy: 0.8609 - val_loss: 0.4473 - val_accuracy: 0.8810\n",
            "Epoch 15/20\n",
            "71/71 [==============================] - 0s 4ms/step - loss: 0.4528 - accuracy: 0.8512 - val_loss: 0.3655 - val_accuracy: 0.9048\n",
            "Epoch 16/20\n",
            "71/71 [==============================] - 0s 4ms/step - loss: 0.3970 - accuracy: 0.8574 - val_loss: 0.3129 - val_accuracy: 0.9206\n",
            "Epoch 17/20\n",
            "71/71 [==============================] - 0s 4ms/step - loss: 0.4107 - accuracy: 0.8601 - val_loss: 0.3298 - val_accuracy: 0.9286\n",
            "Epoch 18/20\n",
            "71/71 [==============================] - 0s 4ms/step - loss: 0.3871 - accuracy: 0.8592 - val_loss: 0.3046 - val_accuracy: 0.9048\n",
            "Epoch 19/20\n",
            "71/71 [==============================] - 0s 5ms/step - loss: 0.3568 - accuracy: 0.8831 - val_loss: 0.4333 - val_accuracy: 0.8175\n",
            "Epoch 20/20\n",
            "71/71 [==============================] - 1s 8ms/step - loss: 0.3503 - accuracy: 0.8787 - val_loss: 0.2764 - val_accuracy: 0.9444\n",
            "40/40 [==============================] - 0s 8ms/step - loss: 0.3249 - accuracy: 0.9036\n",
            "Test accuracy: 0.90358567237854\n"
          ]
        }
      ]
    },
    {
      "cell_type": "code",
      "source": [
        "# Make predictions on test data\n",
        "y_pred = model.predict(x_test)\n",
        "y_pred_classes = np.argmax(y_pred, axis=1)\n",
        "y_true = np.argmax(y_test, axis=1)\n",
        "\n",
        "# Calculate precision, recall, and F1-score with 'macro' averaging\n",
        "precision = precision_score(y_true, y_pred_classes, average='macro')\n",
        "recall = recall_score(y_true, y_pred_classes, average='macro')\n",
        "f1 = f1_score(y_true, y_pred_classes, average='macro')\n",
        "\n",
        "print('Macro Avg Precision:', precision)\n",
        "print('Macro Avg Recall:', recall)\n",
        "print('Macro Avg F1-score:', f1)"
      ],
      "metadata": {
        "colab": {
          "base_uri": "https://localhost:8080/"
        },
        "id": "R29pcPX69PmZ",
        "outputId": "09583a37-10ba-4114-c36f-8cfb77871b1c"
      },
      "execution_count": null,
      "outputs": [
        {
          "output_type": "stream",
          "name": "stdout",
          "text": [
            "40/40 [==============================] - 1s 5ms/step\n",
            "Macro Avg Precision: 0.9111959189756016\n",
            "Macro Avg Recall: 0.898565210791482\n",
            "Macro Avg F1-score: 0.8999339853885543\n"
          ]
        }
      ]
    },
    {
      "cell_type": "markdown",
      "source": [
        "# **RNN**"
      ],
      "metadata": {
        "id": "eNgSNrIY4yFv"
      }
    },
    {
      "cell_type": "markdown",
      "source": [
        "mfcc"
      ],
      "metadata": {
        "id": "DWJ6LSRJe5F-"
      }
    },
    {
      "cell_type": "code",
      "source": [
        "import numpy as np\n",
        "import pandas as pd\n",
        "from sklearn.model_selection import train_test_split\n",
        "from sklearn.preprocessing import LabelEncoder\n",
        "from tensorflow import keras\n",
        "from tensorflow.keras import layers"
      ],
      "metadata": {
        "id": "_s7eFV3u4xYr"
      },
      "execution_count": null,
      "outputs": []
    },
    {
      "cell_type": "code",
      "source": [
        "import numpy as np\n",
        "import pandas as pd\n",
        "from sklearn.model_selection import train_test_split\n",
        "from sklearn.preprocessing import LabelEncoder\n",
        "from tensorflow import keras\n",
        "from tensorflow.keras import layers"
      ],
      "metadata": {
        "id": "uR04uRwm4wcC"
      },
      "execution_count": null,
      "outputs": []
    },
    {
      "cell_type": "code",
      "source": [
        "# Load the data from the CSV file\n",
        "data = pd.read_csv('/content/drive/MyDrive/mini project/MFCC.csv')"
      ],
      "metadata": {
        "id": "UfxaBSAXLu9x"
      },
      "execution_count": null,
      "outputs": []
    },
    {
      "cell_type": "code",
      "source": [
        "# Extract features and labels\n",
        "features = data.drop('label_list', axis=1).values\n",
        "labels = data['label_list'].values\n",
        "\n",
        "# Convert labels to integers using LabelEncoder\n",
        "label_encoder = LabelEncoder()\n",
        "labels = label_encoder.fit_transform(labels)\n",
        "\n",
        "# Split the data into training and testing sets\n",
        "x_train, x_test, y_train, y_test = train_test_split(features, labels, test_size=0.4, random_state=42)\n",
        "\n",
        "# Normalize the features to range [0, 1]\n",
        "x_train = x_train.astype('float32') / np.max(features)\n",
        "x_test = x_test.astype('float32') / np.max(features)\n",
        "\n",
        "# Reshape the data to 3D format (num_samples, num_timesteps, num_features)\n",
        "x_train = x_train.reshape(x_train.shape[0], x_train.shape[1], 1)\n",
        "x_test = x_test.reshape(x_test.shape[0], x_test.shape[1], 1)\n",
        "\n",
        "# Convert labels to one-hot encoding\n",
        "num_classes = len(np.unique(labels))\n",
        "y_train = keras.utils.to_categorical(y_train, num_classes)\n",
        "y_test = keras.utils.to_categorical(y_test, num_classes)"
      ],
      "metadata": {
        "id": "8NNUqCBm44Bu"
      },
      "execution_count": null,
      "outputs": []
    },
    {
      "cell_type": "code",
      "source": [
        "x_train.shape"
      ],
      "metadata": {
        "id": "AMHuPBmT83p4",
        "colab": {
          "base_uri": "https://localhost:8080/"
        },
        "outputId": "110a5f4c-66e3-4124-9089-7f4c81f2d431"
      },
      "execution_count": null,
      "outputs": [
        {
          "output_type": "execute_result",
          "data": {
            "text/plain": [
              "(1506, 12, 1)"
            ]
          },
          "metadata": {},
          "execution_count": 76
        }
      ]
    },
    {
      "cell_type": "code",
      "source": [
        "# Create the RNN model using LSTM\n",
        "model = keras.Sequential([\n",
        "    layers.LSTM(64, input_shape=(x_train.shape[1], 1), return_sequences=True),\n",
        "    layers.LSTM(64),\n",
        "    layers.Dense(128, activation='relu'),\n",
        "    layers.Dense(num_classes, activation='softmax')\n",
        "])"
      ],
      "metadata": {
        "id": "jWNQXgYW46zl"
      },
      "execution_count": null,
      "outputs": []
    },
    {
      "cell_type": "code",
      "source": [
        "# Compile the model\n",
        "model.compile(loss='categorical_crossentropy', optimizer='adam', metrics=['accuracy'])\n",
        "\n",
        "# Train the model\n",
        "batch_size = 16\n",
        "epochs = 20\n",
        "\n",
        "model.fit(x_train, y_train, batch_size=batch_size, epochs=epochs, validation_split=0.1)"
      ],
      "metadata": {
        "id": "9cB25Our49Ci",
        "colab": {
          "base_uri": "https://localhost:8080/"
        },
        "outputId": "5d82e7f2-5c46-4610-e74e-c2891bffd3fb"
      },
      "execution_count": null,
      "outputs": [
        {
          "output_type": "stream",
          "name": "stdout",
          "text": [
            "Epoch 1/20\n",
            "85/85 [==============================] - 9s 42ms/step - loss: 2.4503 - accuracy: 0.1365 - val_loss: 2.1129 - val_accuracy: 0.2517\n",
            "Epoch 2/20\n",
            "85/85 [==============================] - 2s 18ms/step - loss: 2.0623 - accuracy: 0.2369 - val_loss: 2.0223 - val_accuracy: 0.2848\n",
            "Epoch 3/20\n",
            "85/85 [==============================] - 1s 16ms/step - loss: 1.9930 - accuracy: 0.2731 - val_loss: 1.9395 - val_accuracy: 0.3377\n",
            "Epoch 4/20\n",
            "85/85 [==============================] - 1s 16ms/step - loss: 1.9540 - accuracy: 0.2849 - val_loss: 1.9152 - val_accuracy: 0.3179\n",
            "Epoch 5/20\n",
            "85/85 [==============================] - 1s 16ms/step - loss: 1.8388 - accuracy: 0.3188 - val_loss: 1.7785 - val_accuracy: 0.3377\n",
            "Epoch 6/20\n",
            "85/85 [==============================] - 1s 15ms/step - loss: 1.7554 - accuracy: 0.3542 - val_loss: 1.7438 - val_accuracy: 0.3510\n",
            "Epoch 7/20\n",
            "85/85 [==============================] - 1s 16ms/step - loss: 1.6747 - accuracy: 0.3860 - val_loss: 1.6123 - val_accuracy: 0.4172\n",
            "Epoch 8/20\n",
            "85/85 [==============================] - 1s 16ms/step - loss: 1.6238 - accuracy: 0.4052 - val_loss: 1.6188 - val_accuracy: 0.4040\n",
            "Epoch 9/20\n",
            "85/85 [==============================] - 2s 18ms/step - loss: 1.6043 - accuracy: 0.4007 - val_loss: 1.5473 - val_accuracy: 0.4702\n",
            "Epoch 10/20\n",
            "85/85 [==============================] - 2s 24ms/step - loss: 1.5509 - accuracy: 0.4354 - val_loss: 1.5135 - val_accuracy: 0.5099\n",
            "Epoch 11/20\n",
            "85/85 [==============================] - 2s 24ms/step - loss: 1.5147 - accuracy: 0.4421 - val_loss: 1.4582 - val_accuracy: 0.4834\n",
            "Epoch 12/20\n",
            "85/85 [==============================] - 1s 16ms/step - loss: 1.4555 - accuracy: 0.4605 - val_loss: 1.4644 - val_accuracy: 0.4702\n",
            "Epoch 13/20\n",
            "85/85 [==============================] - 1s 15ms/step - loss: 1.4187 - accuracy: 0.4627 - val_loss: 1.3649 - val_accuracy: 0.5033\n",
            "Epoch 14/20\n",
            "85/85 [==============================] - 1s 15ms/step - loss: 1.3434 - accuracy: 0.5070 - val_loss: 1.3224 - val_accuracy: 0.5364\n",
            "Epoch 15/20\n",
            "85/85 [==============================] - 1s 16ms/step - loss: 1.2890 - accuracy: 0.5284 - val_loss: 1.3315 - val_accuracy: 0.5232\n",
            "Epoch 16/20\n",
            "85/85 [==============================] - 1s 15ms/step - loss: 1.2586 - accuracy: 0.5166 - val_loss: 1.2325 - val_accuracy: 0.5563\n",
            "Epoch 17/20\n",
            "85/85 [==============================] - 1s 16ms/step - loss: 1.1189 - accuracy: 0.5565 - val_loss: 1.1054 - val_accuracy: 0.6026\n",
            "Epoch 18/20\n",
            "85/85 [==============================] - 1s 16ms/step - loss: 1.1402 - accuracy: 0.5565 - val_loss: 1.2577 - val_accuracy: 0.5033\n",
            "Epoch 19/20\n",
            "85/85 [==============================] - 2s 19ms/step - loss: 1.1017 - accuracy: 0.5749 - val_loss: 1.0885 - val_accuracy: 0.5828\n",
            "Epoch 20/20\n",
            "85/85 [==============================] - 2s 24ms/step - loss: 1.0087 - accuracy: 0.6185 - val_loss: 1.0141 - val_accuracy: 0.6225\n"
          ]
        },
        {
          "output_type": "execute_result",
          "data": {
            "text/plain": [
              "<keras.src.callbacks.History at 0x7b4f328783a0>"
            ]
          },
          "metadata": {},
          "execution_count": 78
        }
      ]
    },
    {
      "cell_type": "code",
      "source": [
        "# Evaluate the model\n",
        "loss, accuracy = model.evaluate(x_test, y_test)\n",
        "print('Test accuracy:', accuracy)"
      ],
      "metadata": {
        "id": "HLJfryMf4_wo",
        "colab": {
          "base_uri": "https://localhost:8080/"
        },
        "outputId": "bc991856-2ae6-4c1a-8a8f-3b01f5f7a392"
      },
      "execution_count": null,
      "outputs": [
        {
          "output_type": "stream",
          "name": "stdout",
          "text": [
            "32/32 [==============================] - 0s 5ms/step - loss: 1.0211 - accuracy: 0.6185\n",
            "Test accuracy: 0.6185259222984314\n"
          ]
        }
      ]
    },
    {
      "cell_type": "code",
      "source": [
        "# Make predictions on test data\n",
        "y_pred = model.predict(x_test)\n",
        "y_pred_classes = np.argmax(y_pred, axis=1)\n",
        "y_true = np.argmax(y_test, axis=1)\n",
        "\n",
        "# Calculate precision, recall, and F1-score with 'macro' averaging\n",
        "precision = precision_score(y_true, y_pred_classes, average='macro')\n",
        "recall = recall_score(y_true, y_pred_classes, average='macro')\n",
        "f1 = f1_score(y_true, y_pred_classes, average='macro')\n",
        "\n",
        "print('Macro Avg Precision:', precision)\n",
        "print('Macro Avg Recall:', recall)\n",
        "print('Macro Avg F1-score:', f1)"
      ],
      "metadata": {
        "id": "41UHyNU97Oaz",
        "colab": {
          "base_uri": "https://localhost:8080/"
        },
        "outputId": "edd1315c-de92-44e6-8073-1330483debe6"
      },
      "execution_count": null,
      "outputs": [
        {
          "output_type": "stream",
          "name": "stdout",
          "text": [
            "32/32 [==============================] - 1s 5ms/step\n",
            "Macro Avg Precision: 0.61116420639267\n",
            "Macro Avg Recall: 0.6013068806035671\n",
            "Macro Avg F1-score: 0.5954964064466495\n"
          ]
        }
      ]
    },
    {
      "cell_type": "code",
      "source": [],
      "metadata": {
        "id": "Hfqx_OUEr0-H"
      },
      "execution_count": null,
      "outputs": []
    },
    {
      "cell_type": "markdown",
      "source": [
        "Chroma"
      ],
      "metadata": {
        "id": "cKg7x56ArDA_"
      }
    },
    {
      "cell_type": "code",
      "source": [
        "import numpy as np\n",
        "import pandas as pd\n",
        "from sklearn.model_selection import train_test_split\n",
        "from sklearn.preprocessing import LabelEncoder\n",
        "from tensorflow import keras\n",
        "from tensorflow.keras import layers"
      ],
      "metadata": {
        "id": "Lw8M7e8APa5L"
      },
      "execution_count": null,
      "outputs": []
    },
    {
      "cell_type": "code",
      "source": [
        "# Load the data from the CSV file\n",
        "data = pd.read_csv('/content/drive/MyDrive/mini project/chroma_features.csv')"
      ],
      "metadata": {
        "id": "zKYtaFEwrELk"
      },
      "execution_count": null,
      "outputs": []
    },
    {
      "cell_type": "code",
      "source": [
        "# Extract features and labels\n",
        "features = data.drop('label_list', axis=1).values\n",
        "labels = data['label_list'].values\n",
        "\n",
        "# Convert labels to integers using LabelEncoder\n",
        "label_encoder = LabelEncoder()\n",
        "labels = label_encoder.fit_transform(labels)\n",
        "\n",
        "# Split the data into training and testing sets\n",
        "x_train, x_test, y_train, y_test = train_test_split(features, labels, test_size=0.2 ,random_state=42)\n",
        "\n",
        "# Normalize the features to range [0, 1]\n",
        "x_train = x_train.astype('float32') / np.max(features)\n",
        "x_test = x_test.astype('float32') / np.max(features)\n",
        "\n",
        "# Reshape the data to 3D format (num_samples, num_timesteps, num_features)\n",
        "x_train = x_train.reshape(x_train.shape[0], x_train.shape[1], 1)\n",
        "x_test = x_test.reshape(x_test.shape[0], x_test.shape[1], 1)\n",
        "\n",
        "# Convert labels to one-hot encoding\n",
        "num_classes = len(np.unique(labels))\n",
        "y_train = keras.utils.to_categorical(y_train, num_classes)\n",
        "y_test = keras.utils.to_categorical(y_test, num_classes)"
      ],
      "metadata": {
        "id": "LDEEs8VUrxDZ"
      },
      "execution_count": null,
      "outputs": []
    },
    {
      "cell_type": "code",
      "source": [
        "# Create the RNN model using LSTM\n",
        "model = keras.Sequential([\n",
        "    layers.LSTM(64, input_shape=(x_train.shape[1], 1), return_sequences=True),\n",
        "    layers.LSTM(64),\n",
        "    layers.Dense(128, activation='relu'),\n",
        "    layers.Dense(num_classes, activation='softmax')\n",
        "])"
      ],
      "metadata": {
        "id": "z7UaY-BCsADl"
      },
      "execution_count": null,
      "outputs": []
    },
    {
      "cell_type": "code",
      "source": [
        "# Compile the model\n",
        "model.compile(loss='categorical_crossentropy', optimizer='adam', metrics=['accuracy'])\n",
        "\n",
        "# Train the model\n",
        "batch_size = 16\n",
        "epochs = 20\n",
        "\n",
        "model.fit(x_train, y_train, batch_size=batch_size, epochs=epochs, validation_split=0.1)"
      ],
      "metadata": {
        "id": "cvuozIV8r_-3",
        "colab": {
          "base_uri": "https://localhost:8080/"
        },
        "outputId": "0301eae0-a46f-457c-c56a-478c74eaf521"
      },
      "execution_count": null,
      "outputs": [
        {
          "output_type": "stream",
          "name": "stdout",
          "text": [
            "Epoch 1/20\n",
            "113/113 [==============================] - 8s 24ms/step - loss: 2.5690 - accuracy: 0.1251 - val_loss: 2.4516 - val_accuracy: 0.1542\n",
            "Epoch 2/20\n",
            "113/113 [==============================] - 2s 16ms/step - loss: 2.4604 - accuracy: 0.1727 - val_loss: 2.3873 - val_accuracy: 0.1443\n",
            "Epoch 3/20\n",
            "113/113 [==============================] - 2s 15ms/step - loss: 2.4225 - accuracy: 0.1743 - val_loss: 2.4311 - val_accuracy: 0.1542\n",
            "Epoch 4/20\n",
            "113/113 [==============================] - 2s 16ms/step - loss: 2.3963 - accuracy: 0.1859 - val_loss: 2.3564 - val_accuracy: 0.1741\n",
            "Epoch 5/20\n",
            "113/113 [==============================] - 2s 19ms/step - loss: 2.3442 - accuracy: 0.2081 - val_loss: 2.2860 - val_accuracy: 0.2189\n",
            "Epoch 6/20\n",
            "113/113 [==============================] - 3s 25ms/step - loss: 2.3070 - accuracy: 0.2081 - val_loss: 2.2423 - val_accuracy: 0.2338\n",
            "Epoch 7/20\n",
            "113/113 [==============================] - 2s 18ms/step - loss: 2.2622 - accuracy: 0.2291 - val_loss: 2.2269 - val_accuracy: 0.2488\n",
            "Epoch 8/20\n",
            "113/113 [==============================] - 2s 17ms/step - loss: 2.1894 - accuracy: 0.2363 - val_loss: 2.1620 - val_accuracy: 0.2587\n",
            "Epoch 9/20\n",
            "113/113 [==============================] - 2s 15ms/step - loss: 2.1472 - accuracy: 0.2618 - val_loss: 2.0951 - val_accuracy: 0.2736\n",
            "Epoch 10/20\n",
            "113/113 [==============================] - 2s 16ms/step - loss: 2.0805 - accuracy: 0.2916 - val_loss: 2.0870 - val_accuracy: 0.2587\n",
            "Epoch 11/20\n",
            "113/113 [==============================] - 2s 16ms/step - loss: 2.0422 - accuracy: 0.3005 - val_loss: 2.0128 - val_accuracy: 0.2985\n",
            "Epoch 12/20\n",
            "113/113 [==============================] - 2s 18ms/step - loss: 2.0024 - accuracy: 0.3154 - val_loss: 1.9789 - val_accuracy: 0.3284\n",
            "Epoch 13/20\n",
            "113/113 [==============================] - 3s 23ms/step - loss: 2.0074 - accuracy: 0.3082 - val_loss: 1.9727 - val_accuracy: 0.3085\n",
            "Epoch 14/20\n",
            "113/113 [==============================] - 2s 21ms/step - loss: 1.9507 - accuracy: 0.3149 - val_loss: 1.9861 - val_accuracy: 0.3134\n",
            "Epoch 15/20\n",
            "113/113 [==============================] - 2s 15ms/step - loss: 1.9335 - accuracy: 0.3276 - val_loss: 1.9474 - val_accuracy: 0.3184\n",
            "Epoch 16/20\n",
            "113/113 [==============================] - 2s 15ms/step - loss: 1.9215 - accuracy: 0.3221 - val_loss: 1.9149 - val_accuracy: 0.3035\n",
            "Epoch 17/20\n",
            "113/113 [==============================] - 2s 15ms/step - loss: 1.8740 - accuracy: 0.3558 - val_loss: 1.9666 - val_accuracy: 0.2736\n",
            "Epoch 18/20\n",
            "113/113 [==============================] - 2s 16ms/step - loss: 1.8698 - accuracy: 0.3569 - val_loss: 1.8991 - val_accuracy: 0.3483\n",
            "Epoch 19/20\n",
            "113/113 [==============================] - 2s 16ms/step - loss: 1.8472 - accuracy: 0.3581 - val_loss: 1.8429 - val_accuracy: 0.3333\n",
            "Epoch 20/20\n",
            "113/113 [==============================] - 2s 19ms/step - loss: 1.8229 - accuracy: 0.3558 - val_loss: 1.8835 - val_accuracy: 0.3284\n"
          ]
        },
        {
          "output_type": "execute_result",
          "data": {
            "text/plain": [
              "<keras.src.callbacks.History at 0x7b4f328b2740>"
            ]
          },
          "metadata": {},
          "execution_count": 85
        }
      ]
    },
    {
      "cell_type": "code",
      "source": [
        "# Evaluate the model\n",
        "loss, accuracy = model.evaluate(x_test, y_test)\n",
        "print('Test accuracy:', accuracy)"
      ],
      "metadata": {
        "id": "ChQRp9IUr_yQ",
        "colab": {
          "base_uri": "https://localhost:8080/"
        },
        "outputId": "6fb4ef40-5dc0-4f27-b3b7-ba10e6618b09"
      },
      "execution_count": null,
      "outputs": [
        {
          "output_type": "stream",
          "name": "stdout",
          "text": [
            "16/16 [==============================] - 0s 7ms/step - loss: 1.8991 - accuracy: 0.3167\n",
            "Test accuracy: 0.31673306226730347\n"
          ]
        }
      ]
    },
    {
      "cell_type": "code",
      "source": [
        "# Make predictions on test data\n",
        "y_pred = model.predict(x_test)\n",
        "y_pred_classes = np.argmax(y_pred, axis=1)\n",
        "y_true = np.argmax(y_test, axis=1)\n",
        "\n",
        "# Calculate precision, recall, and F1-score with 'macro' averaging\n",
        "precision = precision_score(y_true, y_pred_classes, average='macro')\n",
        "recall = recall_score(y_true, y_pred_classes, average='macro')\n",
        "f1 = f1_score(y_true, y_pred_classes, average='macro')\n",
        "\n",
        "print('Macro Avg Precision:', precision)\n",
        "print('Macro Avg Recall:', recall)\n",
        "print('Macro Avg F1-score:', f1)"
      ],
      "metadata": {
        "id": "VoktIZAnBFQE",
        "colab": {
          "base_uri": "https://localhost:8080/"
        },
        "outputId": "6abb6ffe-595f-4477-e29f-9bd5fdc8f80b"
      },
      "execution_count": null,
      "outputs": [
        {
          "output_type": "stream",
          "name": "stdout",
          "text": [
            "16/16 [==============================] - 1s 7ms/step\n",
            "Macro Avg Precision: 0.32221914848404465\n",
            "Macro Avg Recall: 0.28559958321189255\n",
            "Macro Avg F1-score: 0.2827407895774189\n"
          ]
        }
      ]
    },
    {
      "cell_type": "markdown",
      "source": [
        "wavelet transform"
      ],
      "metadata": {
        "id": "2BPfmKdFrDpa"
      }
    },
    {
      "cell_type": "code",
      "source": [
        "# Load the data from the CSV file\n",
        "data = pd.read_csv('/content/drive/MyDrive/mini project/wavelet_features.csv')"
      ],
      "metadata": {
        "id": "vKpKoQvTtFFn"
      },
      "execution_count": null,
      "outputs": []
    },
    {
      "cell_type": "code",
      "source": [
        "# Extract features and labels\n",
        "features = data.drop('label_list', axis=1).values\n",
        "labels = data['label_list'].values\n",
        "\n",
        "# Convert labels to integers using LabelEncoder\n",
        "label_encoder = LabelEncoder()\n",
        "labels = label_encoder.fit_transform(labels)\n",
        "\n",
        "# Split the data into training and testing sets\n",
        "x_train, x_test, y_train, y_test = train_test_split(features, labels, test_size=0.2, random_state=42)\n",
        "\n",
        "# Normalize the features to range [0, 1]\n",
        "x_train = x_train.astype('float32') / np.max(features)\n",
        "x_test = x_test.astype('float32') / np.max(features)\n",
        "\n",
        "# Reshape the data to 3D format (num_samples, num_timesteps, num_features)\n",
        "x_train = x_train.reshape(x_train.shape[0], x_train.shape[1], 1)\n",
        "x_test = x_test.reshape(x_test.shape[0], x_test.shape[1], 1)\n",
        "\n",
        "# Convert labels to one-hot encoding\n",
        "num_classes = len(np.unique(labels))\n",
        "y_train = keras.utils.to_categorical(y_train, num_classes)\n",
        "y_test = keras.utils.to_categorical(y_test, num_classes)"
      ],
      "metadata": {
        "id": "EUaQgesjtIH9"
      },
      "execution_count": null,
      "outputs": []
    },
    {
      "cell_type": "code",
      "source": [
        "# Create the RNN model using LSTM\n",
        "model = keras.Sequential([\n",
        "    layers.LSTM(64, input_shape=(x_train.shape[1], 1), return_sequences=True),\n",
        "    layers.LSTM(64),\n",
        "    layers.Dense(128, activation='relu'),\n",
        "    layers.Dense(num_classes, activation='softmax')\n",
        "])"
      ],
      "metadata": {
        "id": "fQpLv-8MtIEh"
      },
      "execution_count": null,
      "outputs": []
    },
    {
      "cell_type": "code",
      "source": [
        "# Compile the model\n",
        "model.compile(loss='categorical_crossentropy', optimizer='adam', metrics=['accuracy'])\n",
        "\n",
        "# Train the model\n",
        "batch_size = 16\n",
        "epochs = 20\n",
        "\n",
        "model.fit(x_train, y_train, batch_size=batch_size, epochs=epochs, validation_split=0.1)"
      ],
      "metadata": {
        "id": "2uSWsbhAtICP",
        "colab": {
          "base_uri": "https://localhost:8080/"
        },
        "outputId": "91b63ee0-7183-4c92-dc30-2e56e839f6e3"
      },
      "execution_count": null,
      "outputs": [
        {
          "output_type": "stream",
          "name": "stdout",
          "text": [
            "Epoch 1/20\n",
            "113/113 [==============================] - 7s 23ms/step - loss: 2.6207 - accuracy: 0.0941 - val_loss: 2.5951 - val_accuracy: 0.0896\n",
            "Epoch 2/20\n",
            "113/113 [==============================] - 1s 13ms/step - loss: 2.6105 - accuracy: 0.1029 - val_loss: 2.5830 - val_accuracy: 0.0896\n",
            "Epoch 3/20\n",
            "113/113 [==============================] - 2s 14ms/step - loss: 2.5774 - accuracy: 0.1002 - val_loss: 2.5017 - val_accuracy: 0.1592\n",
            "Epoch 4/20\n",
            "113/113 [==============================] - 2s 21ms/step - loss: 2.5082 - accuracy: 0.1500 - val_loss: 2.4736 - val_accuracy: 0.1542\n",
            "Epoch 5/20\n",
            "113/113 [==============================] - 2s 21ms/step - loss: 2.4762 - accuracy: 0.1522 - val_loss: 2.4457 - val_accuracy: 0.1692\n",
            "Epoch 6/20\n",
            "113/113 [==============================] - 2s 14ms/step - loss: 2.4517 - accuracy: 0.1616 - val_loss: 2.4135 - val_accuracy: 0.1692\n",
            "Epoch 7/20\n",
            "113/113 [==============================] - 2s 14ms/step - loss: 2.4030 - accuracy: 0.1677 - val_loss: 2.3510 - val_accuracy: 0.1791\n",
            "Epoch 8/20\n",
            "113/113 [==============================] - 2s 14ms/step - loss: 2.3509 - accuracy: 0.1688 - val_loss: 2.2944 - val_accuracy: 0.1940\n",
            "Epoch 9/20\n",
            "113/113 [==============================] - 2s 13ms/step - loss: 2.3036 - accuracy: 0.1882 - val_loss: 2.2397 - val_accuracy: 0.1940\n",
            "Epoch 10/20\n",
            "113/113 [==============================] - 2s 13ms/step - loss: 2.2654 - accuracy: 0.1965 - val_loss: 2.3343 - val_accuracy: 0.1642\n",
            "Epoch 11/20\n",
            "113/113 [==============================] - 1s 13ms/step - loss: 2.2158 - accuracy: 0.2037 - val_loss: 2.1716 - val_accuracy: 0.1940\n",
            "Epoch 12/20\n",
            "113/113 [==============================] - 2s 18ms/step - loss: 2.1891 - accuracy: 0.2191 - val_loss: 2.1051 - val_accuracy: 0.2139\n",
            "Epoch 13/20\n",
            "113/113 [==============================] - 2s 20ms/step - loss: 2.1381 - accuracy: 0.2308 - val_loss: 2.0881 - val_accuracy: 0.2488\n",
            "Epoch 14/20\n",
            "113/113 [==============================] - 2s 17ms/step - loss: 2.0983 - accuracy: 0.2568 - val_loss: 2.0309 - val_accuracy: 0.2786\n",
            "Epoch 15/20\n",
            "113/113 [==============================] - 2s 14ms/step - loss: 2.0638 - accuracy: 0.2667 - val_loss: 2.0673 - val_accuracy: 0.2687\n",
            "Epoch 16/20\n",
            "113/113 [==============================] - 2s 13ms/step - loss: 2.0367 - accuracy: 0.2723 - val_loss: 2.0593 - val_accuracy: 0.2537\n",
            "Epoch 17/20\n",
            "113/113 [==============================] - 2s 13ms/step - loss: 2.0131 - accuracy: 0.2745 - val_loss: 2.0081 - val_accuracy: 0.2985\n",
            "Epoch 18/20\n",
            "113/113 [==============================] - 2s 17ms/step - loss: 1.9935 - accuracy: 0.2839 - val_loss: 2.0583 - val_accuracy: 0.2388\n",
            "Epoch 19/20\n",
            "113/113 [==============================] - 3s 24ms/step - loss: 1.9829 - accuracy: 0.2861 - val_loss: 1.9722 - val_accuracy: 0.3184\n",
            "Epoch 20/20\n",
            "113/113 [==============================] - 4s 35ms/step - loss: 1.9623 - accuracy: 0.2961 - val_loss: 2.0233 - val_accuracy: 0.3234\n"
          ]
        },
        {
          "output_type": "execute_result",
          "data": {
            "text/plain": [
              "<keras.src.callbacks.History at 0x7b4f308020e0>"
            ]
          },
          "metadata": {},
          "execution_count": 91
        }
      ]
    },
    {
      "cell_type": "code",
      "source": [
        "# Evaluate the model\n",
        "loss, accuracy = model.evaluate(x_test, y_test)\n",
        "print('Test accuracy:', accuracy)"
      ],
      "metadata": {
        "id": "YCCPuFCAtHzo",
        "colab": {
          "base_uri": "https://localhost:8080/"
        },
        "outputId": "44900966-5e6e-453e-dbdb-cf9f17ca3cc1"
      },
      "execution_count": null,
      "outputs": [
        {
          "output_type": "stream",
          "name": "stdout",
          "text": [
            "16/16 [==============================] - 0s 5ms/step - loss: 2.1307 - accuracy: 0.2649\n",
            "Test accuracy: 0.2649402320384979\n"
          ]
        }
      ]
    },
    {
      "cell_type": "markdown",
      "source": [
        "**spectral_contrast_features**"
      ],
      "metadata": {
        "id": "RXyPKE3jNDvA"
      }
    },
    {
      "cell_type": "code",
      "source": [
        "import numpy as np\n",
        "import pandas as pd\n",
        "from sklearn.model_selection import train_test_split\n",
        "from sklearn.preprocessing import LabelEncoder\n",
        "from tensorflow import keras\n",
        "from tensorflow.keras import layers\n",
        "\n",
        "\n",
        "# Load the data from the CSV file\n",
        "data = pd.read_csv('/content/drive/MyDrive/mini project/spectral_contrast_features2.csv')\n",
        "\n",
        "\n",
        "# Extract features and labels\n",
        "features = data.drop('label_list', axis=1).values\n",
        "labels = data['label_list'].values\n",
        "\n",
        "# Convert labels to integers using LabelEncoder\n",
        "label_encoder = LabelEncoder()\n",
        "labels = label_encoder.fit_transform(labels)\n",
        "\n",
        "# Split the data into training and testing sets\n",
        "x_train, x_test, y_train, y_test = train_test_split(features, labels, test_size=0.3, random_state=42)\n",
        "\n",
        "# Normalize the features to range [0, 1]\n",
        "x_train = x_train.astype('float32') / np.max(features)\n",
        "x_test = x_test.astype('float32') / np.max(features)\n",
        "\n",
        "# Reshape the data to 3D format (num_samples, num_timesteps, num_features)\n",
        "x_train = x_train.reshape(x_train.shape[0], x_train.shape[1], 1)\n",
        "x_test = x_test.reshape(x_test.shape[0], x_test.shape[1], 1)\n",
        "\n",
        "# Convert labels to one-hot encoding\n",
        "num_classes = len(np.unique(labels))\n",
        "y_train = keras.utils.to_categorical(y_train, num_classes)\n",
        "y_test = keras.utils.to_categorical(y_test, num_classes)\n",
        "\n",
        "\n",
        "# Create the RNN model using LSTM\n",
        "model = keras.Sequential([\n",
        "    layers.LSTM(64, input_shape=(x_train.shape[1], 1), return_sequences=True),\n",
        "    layers.LSTM(64),\n",
        "    layers.Dense(128, activation='relu'),\n",
        "    layers.Dense(num_classes, activation='softmax')\n",
        "])\n",
        "\n",
        "\n",
        "# Compile the model\n",
        "model.compile(loss='categorical_crossentropy', optimizer='adam', metrics=['accuracy'])\n",
        "\n",
        "# Train the model\n",
        "batch_size = 16\n",
        "epochs = 20\n",
        "\n",
        "model.fit(x_train, y_train, batch_size=batch_size, epochs=epochs, validation_split=0.1)\n",
        "\n",
        "\n",
        "# Evaluate the model\n",
        "loss, accuracy = model.evaluate(x_test, y_test)\n",
        "print('Test accuracy:', accuracy)"
      ],
      "metadata": {
        "id": "p6fx_0vnyFns",
        "colab": {
          "base_uri": "https://localhost:8080/"
        },
        "outputId": "ee2c71e1-a14a-42a7-841a-14c52dd58c77"
      },
      "execution_count": null,
      "outputs": [
        {
          "output_type": "stream",
          "name": "stdout",
          "text": [
            "Epoch 1/20\n",
            "115/115 [==============================] - 7s 19ms/step - loss: 2.4620 - accuracy: 0.2381 - val_loss: 2.3943 - val_accuracy: 0.2647\n",
            "Epoch 2/20\n",
            "115/115 [==============================] - 1s 12ms/step - loss: 2.4220 - accuracy: 0.2431 - val_loss: 2.3839 - val_accuracy: 0.2647\n",
            "Epoch 3/20\n",
            "115/115 [==============================] - 2s 16ms/step - loss: 2.4044 - accuracy: 0.2431 - val_loss: 2.2868 - val_accuracy: 0.2647\n",
            "Epoch 4/20\n",
            "115/115 [==============================] - 2s 16ms/step - loss: 2.2016 - accuracy: 0.2649 - val_loss: 1.9809 - val_accuracy: 0.3578\n",
            "Epoch 5/20\n",
            "115/115 [==============================] - 2s 14ms/step - loss: 1.9719 - accuracy: 0.3286 - val_loss: 1.8126 - val_accuracy: 0.4412\n",
            "Epoch 6/20\n",
            "115/115 [==============================] - 1s 11ms/step - loss: 1.9016 - accuracy: 0.3351 - val_loss: 1.7715 - val_accuracy: 0.4069\n",
            "Epoch 7/20\n",
            "115/115 [==============================] - 1s 11ms/step - loss: 1.8353 - accuracy: 0.3455 - val_loss: 1.7321 - val_accuracy: 0.4363\n",
            "Epoch 8/20\n",
            "115/115 [==============================] - 1s 11ms/step - loss: 1.7578 - accuracy: 0.3738 - val_loss: 1.6324 - val_accuracy: 0.3971\n",
            "Epoch 9/20\n",
            "115/115 [==============================] - 1s 11ms/step - loss: 1.7425 - accuracy: 0.3804 - val_loss: 1.6025 - val_accuracy: 0.4461\n",
            "Epoch 10/20\n",
            "115/115 [==============================] - 1s 10ms/step - loss: 1.6820 - accuracy: 0.3918 - val_loss: 1.6138 - val_accuracy: 0.4265\n",
            "Epoch 11/20\n",
            "115/115 [==============================] - 1s 11ms/step - loss: 1.6246 - accuracy: 0.3973 - val_loss: 1.5039 - val_accuracy: 0.4510\n",
            "Epoch 12/20\n",
            "115/115 [==============================] - 1s 11ms/step - loss: 1.6072 - accuracy: 0.4044 - val_loss: 1.4403 - val_accuracy: 0.4804\n",
            "Epoch 13/20\n",
            "115/115 [==============================] - 1s 13ms/step - loss: 1.5864 - accuracy: 0.4153 - val_loss: 1.4113 - val_accuracy: 0.5000\n",
            "Epoch 14/20\n",
            "115/115 [==============================] - 2s 16ms/step - loss: 1.5791 - accuracy: 0.4109 - val_loss: 1.4145 - val_accuracy: 0.4755\n",
            "Epoch 15/20\n",
            "115/115 [==============================] - 2s 17ms/step - loss: 1.5210 - accuracy: 0.4376 - val_loss: 1.5040 - val_accuracy: 0.4461\n",
            "Epoch 16/20\n",
            "115/115 [==============================] - 1s 12ms/step - loss: 1.5101 - accuracy: 0.4371 - val_loss: 1.3350 - val_accuracy: 0.5441\n",
            "Epoch 17/20\n",
            "115/115 [==============================] - 1s 11ms/step - loss: 1.4925 - accuracy: 0.4523 - val_loss: 1.4169 - val_accuracy: 0.5000\n",
            "Epoch 18/20\n",
            "115/115 [==============================] - 1s 10ms/step - loss: 1.4561 - accuracy: 0.4670 - val_loss: 1.3099 - val_accuracy: 0.5539\n",
            "Epoch 19/20\n",
            "115/115 [==============================] - 1s 11ms/step - loss: 1.4373 - accuracy: 0.4747 - val_loss: 1.2853 - val_accuracy: 0.5539\n",
            "Epoch 20/20\n",
            "115/115 [==============================] - 1s 11ms/step - loss: 1.4247 - accuracy: 0.4768 - val_loss: 1.3116 - val_accuracy: 0.5490\n",
            "28/28 [==============================] - 0s 4ms/step - loss: 1.4907 - accuracy: 0.4748\n",
            "Test accuracy: 0.4748283624649048\n"
          ]
        }
      ]
    },
    {
      "cell_type": "code",
      "source": [
        "# Make predictions on test data\n",
        "y_pred = model.predict(x_test)\n",
        "y_pred_classes = np.argmax(y_pred, axis=1)\n",
        "y_true = np.argmax(y_test, axis=1)\n",
        "\n",
        "# Calculate precision, recall, and F1-score with 'macro' averaging\n",
        "precision = precision_score(y_true, y_pred_classes, average='macro')\n",
        "recall = recall_score(y_true, y_pred_classes, average='macro')\n",
        "f1 = f1_score(y_true, y_pred_classes, average='macro')\n",
        "\n",
        "print('Macro Avg Precision:', precision)\n",
        "print('Macro Avg Recall:', recall)\n",
        "print('Macro Avg F1-score:', f1)"
      ],
      "metadata": {
        "colab": {
          "base_uri": "https://localhost:8080/"
        },
        "id": "BG3ZYDW5Blhn",
        "outputId": "6423e40d-a30f-4450-f96e-edd35c0f62de"
      },
      "execution_count": null,
      "outputs": [
        {
          "output_type": "stream",
          "name": "stdout",
          "text": [
            "28/28 [==============================] - 1s 4ms/step\n",
            "Macro Avg Precision: 0.40616870229241614\n",
            "Macro Avg Recall: 0.3629185931496862\n",
            "Macro Avg F1-score: 0.34566747497304323\n"
          ]
        },
        {
          "output_type": "stream",
          "name": "stderr",
          "text": [
            "/usr/local/lib/python3.10/dist-packages/sklearn/metrics/_classification.py:1344: UndefinedMetricWarning: Precision is ill-defined and being set to 0.0 in labels with no predicted samples. Use `zero_division` parameter to control this behavior.\n",
            "  _warn_prf(average, modifier, msg_start, len(result))\n"
          ]
        }
      ]
    },
    {
      "cell_type": "markdown",
      "source": [
        "mixed"
      ],
      "metadata": {
        "id": "osdiOm_HgyAX"
      }
    },
    {
      "cell_type": "code",
      "source": [
        "import numpy as np\n",
        "import pandas as pd\n",
        "from sklearn.model_selection import train_test_split\n",
        "from sklearn.preprocessing import LabelEncoder\n",
        "from tensorflow import keras\n",
        "from tensorflow.keras import layers\n",
        "\n",
        "\n",
        "# Load the data from the CSV file\n",
        "data = pd.read_csv('/content/drive/MyDrive/mini project/mixed_feature.csv')\n",
        "\n",
        "\n",
        "# Extract features and labels\n",
        "features = data.drop('26', axis=1).values\n",
        "labels = data['26'].values\n",
        "\n",
        "# Convert labels to integers using LabelEncoder\n",
        "label_encoder = LabelEncoder()\n",
        "labels = label_encoder.fit_transform(labels)\n",
        "\n",
        "# Split the data into training and testing sets\n",
        "x_train, x_test, y_train, y_test = train_test_split(features, labels, test_size=0.2, random_state=42)\n",
        "\n",
        "# Normalize the features to range [0, 1]\n",
        "x_train = x_train.astype('float32') / np.max(features)\n",
        "x_test = x_test.astype('float32') / np.max(features)\n",
        "\n",
        "# Reshape the data to 3D format (num_samples, num_timesteps, num_features)\n",
        "x_train = x_train.reshape(x_train.shape[0], x_train.shape[1], 1)\n",
        "x_test = x_test.reshape(x_test.shape[0], x_test.shape[1], 1)\n",
        "\n",
        "# Convert labels to one-hot encoding\n",
        "num_classes = len(np.unique(labels))\n",
        "y_train = keras.utils.to_categorical(y_train, num_classes)\n",
        "y_test = keras.utils.to_categorical(y_test, num_classes)\n",
        "\n",
        "\n",
        "# Create the RNN model using LSTM\n",
        "model = keras.Sequential([\n",
        "    layers.LSTM(64, input_shape=(x_train.shape[1], 1), return_sequences=True),\n",
        "    layers.LSTM(64),\n",
        "    layers.Dense(128, activation='relu'),\n",
        "    layers.Dense(num_classes, activation='softmax')\n",
        "])\n",
        "\n",
        "\n",
        "# Compile the model\n",
        "model.compile(loss='categorical_crossentropy', optimizer='adam', metrics=['accuracy'])\n",
        "\n",
        "# Train the model\n",
        "batch_size = 16\n",
        "epochs = 20\n",
        "\n",
        "model.fit(x_train, y_train, batch_size=batch_size, epochs=epochs, validation_split=0.1)\n",
        "\n",
        "\n",
        "# Evaluate the model\n",
        "loss, accuracy = model.evaluate(x_test, y_test)\n",
        "print('Test accuracy:', accuracy)"
      ],
      "metadata": {
        "id": "6cKl66qsgxwP",
        "colab": {
          "base_uri": "https://localhost:8080/"
        },
        "outputId": "de5f134e-6a0c-415d-8065-765555969cfe"
      },
      "execution_count": null,
      "outputs": [
        {
          "output_type": "stream",
          "name": "stdout",
          "text": [
            "Epoch 1/20\n",
            "113/113 [==============================] - 10s 40ms/step - loss: 2.5295 - accuracy: 0.1240 - val_loss: 2.0534 - val_accuracy: 0.2687\n",
            "Epoch 2/20\n",
            "113/113 [==============================] - 3s 29ms/step - loss: 1.5769 - accuracy: 0.3730 - val_loss: 1.0265 - val_accuracy: 0.6020\n",
            "Epoch 3/20\n",
            "113/113 [==============================] - 3s 30ms/step - loss: 1.2200 - accuracy: 0.4671 - val_loss: 1.0043 - val_accuracy: 0.5771\n",
            "Epoch 4/20\n",
            "113/113 [==============================] - 5s 43ms/step - loss: 0.9257 - accuracy: 0.5966 - val_loss: 0.8763 - val_accuracy: 0.6318\n",
            "Epoch 5/20\n",
            "113/113 [==============================] - 3s 30ms/step - loss: 0.8621 - accuracy: 0.6071 - val_loss: 0.7348 - val_accuracy: 0.6965\n",
            "Epoch 6/20\n",
            "113/113 [==============================] - 3s 30ms/step - loss: 0.8075 - accuracy: 0.6491 - val_loss: 0.7932 - val_accuracy: 0.6269\n",
            "Epoch 7/20\n",
            "113/113 [==============================] - 3s 30ms/step - loss: 0.8284 - accuracy: 0.6276 - val_loss: 0.6967 - val_accuracy: 0.7065\n",
            "Epoch 8/20\n",
            "113/113 [==============================] - 5s 43ms/step - loss: 0.7447 - accuracy: 0.6674 - val_loss: 0.8040 - val_accuracy: 0.6667\n",
            "Epoch 9/20\n",
            "113/113 [==============================] - 3s 30ms/step - loss: 0.7509 - accuracy: 0.6718 - val_loss: 0.6680 - val_accuracy: 0.6816\n",
            "Epoch 10/20\n",
            "113/113 [==============================] - 3s 29ms/step - loss: 0.7254 - accuracy: 0.6613 - val_loss: 0.6815 - val_accuracy: 0.7164\n",
            "Epoch 11/20\n",
            "113/113 [==============================] - 3s 31ms/step - loss: 0.7137 - accuracy: 0.6823 - val_loss: 0.6956 - val_accuracy: 0.6816\n",
            "Epoch 12/20\n",
            "113/113 [==============================] - 5s 43ms/step - loss: 0.7717 - accuracy: 0.6514 - val_loss: 0.8748 - val_accuracy: 0.5373\n",
            "Epoch 13/20\n",
            "113/113 [==============================] - 3s 30ms/step - loss: 0.7503 - accuracy: 0.6602 - val_loss: 0.9206 - val_accuracy: 0.5871\n",
            "Epoch 14/20\n",
            "113/113 [==============================] - 3s 29ms/step - loss: 0.7051 - accuracy: 0.6829 - val_loss: 0.6085 - val_accuracy: 0.7363\n",
            "Epoch 15/20\n",
            "113/113 [==============================] - 4s 32ms/step - loss: 0.7052 - accuracy: 0.6829 - val_loss: 0.8757 - val_accuracy: 0.5821\n",
            "Epoch 16/20\n",
            "113/113 [==============================] - 5s 42ms/step - loss: 0.7222 - accuracy: 0.6735 - val_loss: 0.7125 - val_accuracy: 0.6617\n",
            "Epoch 17/20\n",
            "113/113 [==============================] - 3s 29ms/step - loss: 0.6456 - accuracy: 0.7084 - val_loss: 0.7883 - val_accuracy: 0.6269\n",
            "Epoch 18/20\n",
            "113/113 [==============================] - 3s 30ms/step - loss: 0.6808 - accuracy: 0.7023 - val_loss: 0.5894 - val_accuracy: 0.7662\n",
            "Epoch 19/20\n",
            "113/113 [==============================] - 4s 33ms/step - loss: 0.6272 - accuracy: 0.7205 - val_loss: 0.5772 - val_accuracy: 0.7562\n",
            "Epoch 20/20\n",
            "113/113 [==============================] - 5s 41ms/step - loss: 0.6313 - accuracy: 0.7139 - val_loss: 0.8053 - val_accuracy: 0.6617\n",
            "16/16 [==============================] - 0s 10ms/step - loss: 0.8021 - accuracy: 0.6594\n",
            "Test accuracy: 0.6593625545501709\n"
          ]
        }
      ]
    },
    {
      "cell_type": "code",
      "source": [
        "# Make predictions on test data\n",
        "y_pred = model.predict(x_test)\n",
        "y_pred_classes = np.argmax(y_pred, axis=1)\n",
        "y_true = np.argmax(y_test, axis=1)\n",
        "\n",
        "# Calculate precision, recall, and F1-score with 'macro' averaging\n",
        "precision = precision_score(y_true, y_pred_classes, average='macro')\n",
        "recall = recall_score(y_true, y_pred_classes, average='macro')\n",
        "f1 = f1_score(y_true, y_pred_classes, average='macro')\n",
        "\n",
        "print('Macro Avg Precision:', precision)\n",
        "print('Macro Avg Recall:', recall)\n",
        "print('Macro Avg F1-score:', f1)"
      ],
      "metadata": {
        "colab": {
          "base_uri": "https://localhost:8080/"
        },
        "id": "0yyNuEu_Bngu",
        "outputId": "b80e73d3-a5d5-49d3-a78b-1a7e164a0f88"
      },
      "execution_count": null,
      "outputs": [
        {
          "output_type": "stream",
          "name": "stdout",
          "text": [
            "16/16 [==============================] - 1s 11ms/step\n",
            "Macro Avg Precision: 0.6822107735148621\n",
            "Macro Avg Recall: 0.6453450172749726\n",
            "Macro Avg F1-score: 0.6570496755182634\n"
          ]
        }
      ]
    }
  ]
}